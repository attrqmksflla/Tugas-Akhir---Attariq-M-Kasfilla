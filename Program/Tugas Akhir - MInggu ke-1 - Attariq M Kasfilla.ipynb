{
 "nbformat": 4,
 "nbformat_minor": 2,
 "metadata": {
  "language_info": {
   "name": "python",
   "codemirror_mode": {
    "name": "ipython",
    "version": 3
   },
   "version": "3.8.3-final"
  },
  "orig_nbformat": 2,
  "file_extension": ".py",
  "mimetype": "text/x-python",
  "name": "python",
  "npconvert_exporter": "python",
  "pygments_lexer": "ipython3",
  "version": 3,
  "kernelspec": {
   "name": "python3",
   "display_name": "Python 3",
   "language": "python"
  }
 },
 "cells": [
  {
   "cell_type": "code",
   "execution_count": 1,
   "metadata": {
    "tags": []
   },
   "outputs": [
    {
     "output_type": "execute_result",
     "data": {
      "text/plain": [
       "     Molecule ChEMBL ID Molecule Name  Molecule Max Phase Molecular Weight  \\\n",
       "0          CHEMBL365066           NaN                   0           275.38   \n",
       "1          CHEMBL366049           NaN                   0           541.50   \n",
       "2          CHEMBL210920           NaN                   0           301.39   \n",
       "3          CHEMBL184912           NaN                   0           286.35   \n",
       "4          CHEMBL278393           NaN                   0           210.32   \n",
       "...                 ...           ...                 ...              ...   \n",
       "4752      CHEMBL3694423           NaN                   0           454.50   \n",
       "4753      CHEMBL3675622           NaN                   0           497.61   \n",
       "4754      CHEMBL3704834           NaN                   0           278.35   \n",
       "4755      CHEMBL4213950           NaN                   0           354.37   \n",
       "4756      CHEMBL4247286           NaN                   0           334.38   \n",
       "\n",
       "     #RO5 Violations  AlogP Compound Key  \\\n",
       "0                  0   1.35          22l   \n",
       "1                  0   2.09           20   \n",
       "2                  0   0.90           8h   \n",
       "3                  0   1.76          22p   \n",
       "4                  0   1.52            4   \n",
       "...              ...    ...          ...   \n",
       "4752               0  -0.09   BDBM120800   \n",
       "4753               0   2.31   BDBM119786   \n",
       "4754               0   0.64   BDBM175239   \n",
       "4755               0   0.86          b12   \n",
       "4756               0   2.91           13   \n",
       "\n",
       "                                                 Smiles Standard Type  \\\n",
       "0                  N#Cc1ccc(C[C@@H](N)CC(=O)N2CCSC2)cc1          IC50   \n",
       "1     NC(CC(=O)N1CCC[C@H]1C(=O)NCc1ccc(C(=O)O)cc1)Cc...          IC50   \n",
       "2         O=C(NCc1ccccc1)[C@@H]1CN[C@H](C(=O)N2CCCC2)C1          IC50   \n",
       "3                   N[C@@H](CC(=O)N1CCSC1)Cc1ccc(F)cc1F          IC50   \n",
       "4                          N[C@H](C(=O)N1CCCC1)C1CCCCC1          IC50   \n",
       "...                                                 ...           ...   \n",
       "4752  CS(=O)(=O)n1cc2c(n1)CN([C@@H]1C[C@H](N)C(c3cc(...          IC50   \n",
       "4753  CC#CCn1c(N2CCC[C@@H](N)C2)nc2c1C(=O)N(Cc1nc(C)...          IC50   \n",
       "4754                      O=C(CNCC(O)COc1ccccc1)N1CCCC1          IC50   \n",
       "4755   O=c1cc(N2CCNCC2)n(Cc2ccccc2[N+](=O)[O-])c2ccnn12          IC50   \n",
       "4756       O=C(N/N=C/c1c(O)ccc2ccccc12)c1n[nH]c2c1CCCC2          IC50   \n",
       "\n",
       "     Standard Relation  ...  Target ChEMBL ID              Target Name  \\\n",
       "0                  '='  ...         CHEMBL284  Dipeptidyl peptidase IV   \n",
       "1                  '='  ...         CHEMBL284  Dipeptidyl peptidase IV   \n",
       "2                  '='  ...         CHEMBL284  Dipeptidyl peptidase IV   \n",
       "3                  '='  ...         CHEMBL284  Dipeptidyl peptidase IV   \n",
       "4                  '='  ...         CHEMBL284  Dipeptidyl peptidase IV   \n",
       "...                ...  ...               ...                      ...   \n",
       "4752               '='  ...         CHEMBL284  Dipeptidyl peptidase IV   \n",
       "4753               '='  ...         CHEMBL284  Dipeptidyl peptidase IV   \n",
       "4754               '='  ...         CHEMBL284  Dipeptidyl peptidase IV   \n",
       "4755               '='  ...         CHEMBL284  Dipeptidyl peptidase IV   \n",
       "4756               '='  ...         CHEMBL284  Dipeptidyl peptidase IV   \n",
       "\n",
       "      Target Organism     Target Type Document ChEMBL ID Source ID  \\\n",
       "0        Homo sapiens  SINGLE PROTEIN      CHEMBL1137853         1   \n",
       "1        Homo sapiens  SINGLE PROTEIN      CHEMBL1137046         1   \n",
       "2        Homo sapiens  SINGLE PROTEIN      CHEMBL1147816         1   \n",
       "3        Homo sapiens  SINGLE PROTEIN      CHEMBL1137853         1   \n",
       "4        Homo sapiens  SINGLE PROTEIN      CHEMBL1147603         1   \n",
       "...               ...             ...                ...       ...   \n",
       "4752     Homo sapiens  SINGLE PROTEIN      CHEMBL3638894        37   \n",
       "4753     Homo sapiens  SINGLE PROTEIN      CHEMBL3638800        37   \n",
       "4754     Homo sapiens  SINGLE PROTEIN      CHEMBL3639212        37   \n",
       "4755     Homo sapiens  SINGLE PROTEIN      CHEMBL4184227         1   \n",
       "4756     Homo sapiens  SINGLE PROTEIN      CHEMBL4229387         1   \n",
       "\n",
       "         Source Description          Document Journal Document Year  \\\n",
       "0     Scientific Literature  Bioorg. Med. Chem. Lett.          2004   \n",
       "1     Scientific Literature  Bioorg. Med. Chem. Lett.          2004   \n",
       "2     Scientific Literature  Bioorg. Med. Chem. Lett.          2006   \n",
       "3     Scientific Literature  Bioorg. Med. Chem. Lett.          2004   \n",
       "4     Scientific Literature  Bioorg. Med. Chem. Lett.          2004   \n",
       "...                     ...                       ...           ...   \n",
       "4752     BindingDB Database                       NaN          2014   \n",
       "4753     BindingDB Database                       NaN          2014   \n",
       "4754     BindingDB Database                       NaN          2015   \n",
       "4755  Scientific Literature           Bioorg Med Chem          2018   \n",
       "4756  Scientific Literature            Eur J Med Chem          2018   \n",
       "\n",
       "     Cell ChEMBL ID  \n",
       "0              None  \n",
       "1              None  \n",
       "2              None  \n",
       "3              None  \n",
       "4              None  \n",
       "...             ...  \n",
       "4752           None  \n",
       "4753           None  \n",
       "4754           None  \n",
       "4755           None  \n",
       "4756           None  \n",
       "\n",
       "[4757 rows x 41 columns]"
      ],
      "text/html": "<div>\n<style scoped>\n    .dataframe tbody tr th:only-of-type {\n        vertical-align: middle;\n    }\n\n    .dataframe tbody tr th {\n        vertical-align: top;\n    }\n\n    .dataframe thead th {\n        text-align: right;\n    }\n</style>\n<table border=\"1\" class=\"dataframe\">\n  <thead>\n    <tr style=\"text-align: right;\">\n      <th></th>\n      <th>Molecule ChEMBL ID</th>\n      <th>Molecule Name</th>\n      <th>Molecule Max Phase</th>\n      <th>Molecular Weight</th>\n      <th>#RO5 Violations</th>\n      <th>AlogP</th>\n      <th>Compound Key</th>\n      <th>Smiles</th>\n      <th>Standard Type</th>\n      <th>Standard Relation</th>\n      <th>...</th>\n      <th>Target ChEMBL ID</th>\n      <th>Target Name</th>\n      <th>Target Organism</th>\n      <th>Target Type</th>\n      <th>Document ChEMBL ID</th>\n      <th>Source ID</th>\n      <th>Source Description</th>\n      <th>Document Journal</th>\n      <th>Document Year</th>\n      <th>Cell ChEMBL ID</th>\n    </tr>\n  </thead>\n  <tbody>\n    <tr>\n      <th>0</th>\n      <td>CHEMBL365066</td>\n      <td>NaN</td>\n      <td>0</td>\n      <td>275.38</td>\n      <td>0</td>\n      <td>1.35</td>\n      <td>22l</td>\n      <td>N#Cc1ccc(C[C@@H](N)CC(=O)N2CCSC2)cc1</td>\n      <td>IC50</td>\n      <td>'='</td>\n      <td>...</td>\n      <td>CHEMBL284</td>\n      <td>Dipeptidyl peptidase IV</td>\n      <td>Homo sapiens</td>\n      <td>SINGLE PROTEIN</td>\n      <td>CHEMBL1137853</td>\n      <td>1</td>\n      <td>Scientific Literature</td>\n      <td>Bioorg. Med. Chem. Lett.</td>\n      <td>2004</td>\n      <td>None</td>\n    </tr>\n    <tr>\n      <th>1</th>\n      <td>CHEMBL366049</td>\n      <td>NaN</td>\n      <td>0</td>\n      <td>541.50</td>\n      <td>0</td>\n      <td>2.09</td>\n      <td>20</td>\n      <td>NC(CC(=O)N1CCC[C@H]1C(=O)NCc1ccc(C(=O)O)cc1)Cc...</td>\n      <td>IC50</td>\n      <td>'='</td>\n      <td>...</td>\n      <td>CHEMBL284</td>\n      <td>Dipeptidyl peptidase IV</td>\n      <td>Homo sapiens</td>\n      <td>SINGLE PROTEIN</td>\n      <td>CHEMBL1137046</td>\n      <td>1</td>\n      <td>Scientific Literature</td>\n      <td>Bioorg. Med. Chem. Lett.</td>\n      <td>2004</td>\n      <td>None</td>\n    </tr>\n    <tr>\n      <th>2</th>\n      <td>CHEMBL210920</td>\n      <td>NaN</td>\n      <td>0</td>\n      <td>301.39</td>\n      <td>0</td>\n      <td>0.90</td>\n      <td>8h</td>\n      <td>O=C(NCc1ccccc1)[C@@H]1CN[C@H](C(=O)N2CCCC2)C1</td>\n      <td>IC50</td>\n      <td>'='</td>\n      <td>...</td>\n      <td>CHEMBL284</td>\n      <td>Dipeptidyl peptidase IV</td>\n      <td>Homo sapiens</td>\n      <td>SINGLE PROTEIN</td>\n      <td>CHEMBL1147816</td>\n      <td>1</td>\n      <td>Scientific Literature</td>\n      <td>Bioorg. Med. Chem. Lett.</td>\n      <td>2006</td>\n      <td>None</td>\n    </tr>\n    <tr>\n      <th>3</th>\n      <td>CHEMBL184912</td>\n      <td>NaN</td>\n      <td>0</td>\n      <td>286.35</td>\n      <td>0</td>\n      <td>1.76</td>\n      <td>22p</td>\n      <td>N[C@@H](CC(=O)N1CCSC1)Cc1ccc(F)cc1F</td>\n      <td>IC50</td>\n      <td>'='</td>\n      <td>...</td>\n      <td>CHEMBL284</td>\n      <td>Dipeptidyl peptidase IV</td>\n      <td>Homo sapiens</td>\n      <td>SINGLE PROTEIN</td>\n      <td>CHEMBL1137853</td>\n      <td>1</td>\n      <td>Scientific Literature</td>\n      <td>Bioorg. Med. Chem. Lett.</td>\n      <td>2004</td>\n      <td>None</td>\n    </tr>\n    <tr>\n      <th>4</th>\n      <td>CHEMBL278393</td>\n      <td>NaN</td>\n      <td>0</td>\n      <td>210.32</td>\n      <td>0</td>\n      <td>1.52</td>\n      <td>4</td>\n      <td>N[C@H](C(=O)N1CCCC1)C1CCCCC1</td>\n      <td>IC50</td>\n      <td>'='</td>\n      <td>...</td>\n      <td>CHEMBL284</td>\n      <td>Dipeptidyl peptidase IV</td>\n      <td>Homo sapiens</td>\n      <td>SINGLE PROTEIN</td>\n      <td>CHEMBL1147603</td>\n      <td>1</td>\n      <td>Scientific Literature</td>\n      <td>Bioorg. Med. Chem. Lett.</td>\n      <td>2004</td>\n      <td>None</td>\n    </tr>\n    <tr>\n      <th>...</th>\n      <td>...</td>\n      <td>...</td>\n      <td>...</td>\n      <td>...</td>\n      <td>...</td>\n      <td>...</td>\n      <td>...</td>\n      <td>...</td>\n      <td>...</td>\n      <td>...</td>\n      <td>...</td>\n      <td>...</td>\n      <td>...</td>\n      <td>...</td>\n      <td>...</td>\n      <td>...</td>\n      <td>...</td>\n      <td>...</td>\n      <td>...</td>\n      <td>...</td>\n      <td>...</td>\n    </tr>\n    <tr>\n      <th>4752</th>\n      <td>CHEMBL3694423</td>\n      <td>NaN</td>\n      <td>0</td>\n      <td>454.50</td>\n      <td>0</td>\n      <td>-0.09</td>\n      <td>BDBM120800</td>\n      <td>CS(=O)(=O)n1cc2c(n1)CN([C@@H]1C[C@H](N)C(c3cc(...</td>\n      <td>IC50</td>\n      <td>'='</td>\n      <td>...</td>\n      <td>CHEMBL284</td>\n      <td>Dipeptidyl peptidase IV</td>\n      <td>Homo sapiens</td>\n      <td>SINGLE PROTEIN</td>\n      <td>CHEMBL3638894</td>\n      <td>37</td>\n      <td>BindingDB Database</td>\n      <td>NaN</td>\n      <td>2014</td>\n      <td>None</td>\n    </tr>\n    <tr>\n      <th>4753</th>\n      <td>CHEMBL3675622</td>\n      <td>NaN</td>\n      <td>0</td>\n      <td>497.61</td>\n      <td>0</td>\n      <td>2.31</td>\n      <td>BDBM119786</td>\n      <td>CC#CCn1c(N2CCC[C@@H](N)C2)nc2c1C(=O)N(Cc1nc(C)...</td>\n      <td>IC50</td>\n      <td>'='</td>\n      <td>...</td>\n      <td>CHEMBL284</td>\n      <td>Dipeptidyl peptidase IV</td>\n      <td>Homo sapiens</td>\n      <td>SINGLE PROTEIN</td>\n      <td>CHEMBL3638800</td>\n      <td>37</td>\n      <td>BindingDB Database</td>\n      <td>NaN</td>\n      <td>2014</td>\n      <td>None</td>\n    </tr>\n    <tr>\n      <th>4754</th>\n      <td>CHEMBL3704834</td>\n      <td>NaN</td>\n      <td>0</td>\n      <td>278.35</td>\n      <td>0</td>\n      <td>0.64</td>\n      <td>BDBM175239</td>\n      <td>O=C(CNCC(O)COc1ccccc1)N1CCCC1</td>\n      <td>IC50</td>\n      <td>'='</td>\n      <td>...</td>\n      <td>CHEMBL284</td>\n      <td>Dipeptidyl peptidase IV</td>\n      <td>Homo sapiens</td>\n      <td>SINGLE PROTEIN</td>\n      <td>CHEMBL3639212</td>\n      <td>37</td>\n      <td>BindingDB Database</td>\n      <td>NaN</td>\n      <td>2015</td>\n      <td>None</td>\n    </tr>\n    <tr>\n      <th>4755</th>\n      <td>CHEMBL4213950</td>\n      <td>NaN</td>\n      <td>0</td>\n      <td>354.37</td>\n      <td>0</td>\n      <td>0.86</td>\n      <td>b12</td>\n      <td>O=c1cc(N2CCNCC2)n(Cc2ccccc2[N+](=O)[O-])c2ccnn12</td>\n      <td>IC50</td>\n      <td>'='</td>\n      <td>...</td>\n      <td>CHEMBL284</td>\n      <td>Dipeptidyl peptidase IV</td>\n      <td>Homo sapiens</td>\n      <td>SINGLE PROTEIN</td>\n      <td>CHEMBL4184227</td>\n      <td>1</td>\n      <td>Scientific Literature</td>\n      <td>Bioorg Med Chem</td>\n      <td>2018</td>\n      <td>None</td>\n    </tr>\n    <tr>\n      <th>4756</th>\n      <td>CHEMBL4247286</td>\n      <td>NaN</td>\n      <td>0</td>\n      <td>334.38</td>\n      <td>0</td>\n      <td>2.91</td>\n      <td>13</td>\n      <td>O=C(N/N=C/c1c(O)ccc2ccccc12)c1n[nH]c2c1CCCC2</td>\n      <td>IC50</td>\n      <td>'='</td>\n      <td>...</td>\n      <td>CHEMBL284</td>\n      <td>Dipeptidyl peptidase IV</td>\n      <td>Homo sapiens</td>\n      <td>SINGLE PROTEIN</td>\n      <td>CHEMBL4229387</td>\n      <td>1</td>\n      <td>Scientific Literature</td>\n      <td>Eur J Med Chem</td>\n      <td>2018</td>\n      <td>None</td>\n    </tr>\n  </tbody>\n</table>\n<p>4757 rows × 41 columns</p>\n</div>"
     },
     "metadata": {},
     "execution_count": 1
    }
   ],
   "source": [
    "# import semua library\n",
    "import pandas as pd\n",
    "import sys\n",
    "import math\n",
    "\n",
    "data_mentah = pd.read_csv('../Data/.csv.gz',  delimiter=\";\")\n",
    "data_mentah"
   ]
  },
  {
   "cell_type": "code",
   "execution_count": 2,
   "metadata": {},
   "outputs": [
    {
     "output_type": "execute_result",
     "data": {
      "text/plain": [
       "     Molecule ChEMBL ID Molecule Name  Molecule Max Phase Molecular Weight  \\\n",
       "0          CHEMBL365066           NaN                   0           275.38   \n",
       "1          CHEMBL366049           NaN                   0           541.50   \n",
       "2          CHEMBL210920           NaN                   0           301.39   \n",
       "3          CHEMBL184912           NaN                   0           286.35   \n",
       "4          CHEMBL278393           NaN                   0           210.32   \n",
       "...                 ...           ...                 ...              ...   \n",
       "4752      CHEMBL3694423           NaN                   0           454.50   \n",
       "4753      CHEMBL3675622           NaN                   0           497.61   \n",
       "4754      CHEMBL3704834           NaN                   0           278.35   \n",
       "4755      CHEMBL4213950           NaN                   0           354.37   \n",
       "4756      CHEMBL4247286           NaN                   0           334.38   \n",
       "\n",
       "     #RO5 Violations  AlogP Compound Key  \\\n",
       "0                  0   1.35          22l   \n",
       "1                  0   2.09           20   \n",
       "2                  0   0.90           8h   \n",
       "3                  0   1.76          22p   \n",
       "4                  0   1.52            4   \n",
       "...              ...    ...          ...   \n",
       "4752               0  -0.09   BDBM120800   \n",
       "4753               0   2.31   BDBM119786   \n",
       "4754               0   0.64   BDBM175239   \n",
       "4755               0   0.86          b12   \n",
       "4756               0   2.91           13   \n",
       "\n",
       "                                                 Smiles Standard Type  \\\n",
       "0                  N#Cc1ccc(C[C@@H](N)CC(=O)N2CCSC2)cc1          IC50   \n",
       "1     NC(CC(=O)N1CCC[C@H]1C(=O)NCc1ccc(C(=O)O)cc1)Cc...          IC50   \n",
       "2         O=C(NCc1ccccc1)[C@@H]1CN[C@H](C(=O)N2CCCC2)C1          IC50   \n",
       "3                   N[C@@H](CC(=O)N1CCSC1)Cc1ccc(F)cc1F          IC50   \n",
       "4                          N[C@H](C(=O)N1CCCC1)C1CCCCC1          IC50   \n",
       "...                                                 ...           ...   \n",
       "4752  CS(=O)(=O)n1cc2c(n1)CN([C@@H]1C[C@H](N)C(c3cc(...          IC50   \n",
       "4753  CC#CCn1c(N2CCC[C@@H](N)C2)nc2c1C(=O)N(Cc1nc(C)...          IC50   \n",
       "4754                      O=C(CNCC(O)COc1ccccc1)N1CCCC1          IC50   \n",
       "4755   O=c1cc(N2CCNCC2)n(Cc2ccccc2[N+](=O)[O-])c2ccnn12          IC50   \n",
       "4756       O=C(N/N=C/c1c(O)ccc2ccccc12)c1n[nH]c2c1CCCC2          IC50   \n",
       "\n",
       "     Standard Relation  ...  Target ChEMBL ID              Target Name  \\\n",
       "0                  '='  ...         CHEMBL284  Dipeptidyl peptidase IV   \n",
       "1                  '='  ...         CHEMBL284  Dipeptidyl peptidase IV   \n",
       "2                  '='  ...         CHEMBL284  Dipeptidyl peptidase IV   \n",
       "3                  '='  ...         CHEMBL284  Dipeptidyl peptidase IV   \n",
       "4                  '='  ...         CHEMBL284  Dipeptidyl peptidase IV   \n",
       "...                ...  ...               ...                      ...   \n",
       "4752               '='  ...         CHEMBL284  Dipeptidyl peptidase IV   \n",
       "4753               '='  ...         CHEMBL284  Dipeptidyl peptidase IV   \n",
       "4754               '='  ...         CHEMBL284  Dipeptidyl peptidase IV   \n",
       "4755               '='  ...         CHEMBL284  Dipeptidyl peptidase IV   \n",
       "4756               '='  ...         CHEMBL284  Dipeptidyl peptidase IV   \n",
       "\n",
       "      Target Organism     Target Type Document ChEMBL ID Source ID  \\\n",
       "0        Homo sapiens  SINGLE PROTEIN      CHEMBL1137853         1   \n",
       "1        Homo sapiens  SINGLE PROTEIN      CHEMBL1137046         1   \n",
       "2        Homo sapiens  SINGLE PROTEIN      CHEMBL1147816         1   \n",
       "3        Homo sapiens  SINGLE PROTEIN      CHEMBL1137853         1   \n",
       "4        Homo sapiens  SINGLE PROTEIN      CHEMBL1147603         1   \n",
       "...               ...             ...                ...       ...   \n",
       "4752     Homo sapiens  SINGLE PROTEIN      CHEMBL3638894        37   \n",
       "4753     Homo sapiens  SINGLE PROTEIN      CHEMBL3638800        37   \n",
       "4754     Homo sapiens  SINGLE PROTEIN      CHEMBL3639212        37   \n",
       "4755     Homo sapiens  SINGLE PROTEIN      CHEMBL4184227         1   \n",
       "4756     Homo sapiens  SINGLE PROTEIN      CHEMBL4229387         1   \n",
       "\n",
       "         Source Description          Document Journal Document Year  \\\n",
       "0     Scientific Literature  Bioorg. Med. Chem. Lett.          2004   \n",
       "1     Scientific Literature  Bioorg. Med. Chem. Lett.          2004   \n",
       "2     Scientific Literature  Bioorg. Med. Chem. Lett.          2006   \n",
       "3     Scientific Literature  Bioorg. Med. Chem. Lett.          2004   \n",
       "4     Scientific Literature  Bioorg. Med. Chem. Lett.          2004   \n",
       "...                     ...                       ...           ...   \n",
       "4752     BindingDB Database                       NaN          2014   \n",
       "4753     BindingDB Database                       NaN          2014   \n",
       "4754     BindingDB Database                       NaN          2015   \n",
       "4755  Scientific Literature           Bioorg Med Chem          2018   \n",
       "4756  Scientific Literature            Eur J Med Chem          2018   \n",
       "\n",
       "     Cell ChEMBL ID  \n",
       "0              None  \n",
       "1              None  \n",
       "2              None  \n",
       "3              None  \n",
       "4              None  \n",
       "...             ...  \n",
       "4752           None  \n",
       "4753           None  \n",
       "4754           None  \n",
       "4755           None  \n",
       "4756           None  \n",
       "\n",
       "[4062 rows x 41 columns]"
      ],
      "text/html": "<div>\n<style scoped>\n    .dataframe tbody tr th:only-of-type {\n        vertical-align: middle;\n    }\n\n    .dataframe tbody tr th {\n        vertical-align: top;\n    }\n\n    .dataframe thead th {\n        text-align: right;\n    }\n</style>\n<table border=\"1\" class=\"dataframe\">\n  <thead>\n    <tr style=\"text-align: right;\">\n      <th></th>\n      <th>Molecule ChEMBL ID</th>\n      <th>Molecule Name</th>\n      <th>Molecule Max Phase</th>\n      <th>Molecular Weight</th>\n      <th>#RO5 Violations</th>\n      <th>AlogP</th>\n      <th>Compound Key</th>\n      <th>Smiles</th>\n      <th>Standard Type</th>\n      <th>Standard Relation</th>\n      <th>...</th>\n      <th>Target ChEMBL ID</th>\n      <th>Target Name</th>\n      <th>Target Organism</th>\n      <th>Target Type</th>\n      <th>Document ChEMBL ID</th>\n      <th>Source ID</th>\n      <th>Source Description</th>\n      <th>Document Journal</th>\n      <th>Document Year</th>\n      <th>Cell ChEMBL ID</th>\n    </tr>\n  </thead>\n  <tbody>\n    <tr>\n      <th>0</th>\n      <td>CHEMBL365066</td>\n      <td>NaN</td>\n      <td>0</td>\n      <td>275.38</td>\n      <td>0</td>\n      <td>1.35</td>\n      <td>22l</td>\n      <td>N#Cc1ccc(C[C@@H](N)CC(=O)N2CCSC2)cc1</td>\n      <td>IC50</td>\n      <td>'='</td>\n      <td>...</td>\n      <td>CHEMBL284</td>\n      <td>Dipeptidyl peptidase IV</td>\n      <td>Homo sapiens</td>\n      <td>SINGLE PROTEIN</td>\n      <td>CHEMBL1137853</td>\n      <td>1</td>\n      <td>Scientific Literature</td>\n      <td>Bioorg. Med. Chem. Lett.</td>\n      <td>2004</td>\n      <td>None</td>\n    </tr>\n    <tr>\n      <th>1</th>\n      <td>CHEMBL366049</td>\n      <td>NaN</td>\n      <td>0</td>\n      <td>541.50</td>\n      <td>0</td>\n      <td>2.09</td>\n      <td>20</td>\n      <td>NC(CC(=O)N1CCC[C@H]1C(=O)NCc1ccc(C(=O)O)cc1)Cc...</td>\n      <td>IC50</td>\n      <td>'='</td>\n      <td>...</td>\n      <td>CHEMBL284</td>\n      <td>Dipeptidyl peptidase IV</td>\n      <td>Homo sapiens</td>\n      <td>SINGLE PROTEIN</td>\n      <td>CHEMBL1137046</td>\n      <td>1</td>\n      <td>Scientific Literature</td>\n      <td>Bioorg. Med. Chem. Lett.</td>\n      <td>2004</td>\n      <td>None</td>\n    </tr>\n    <tr>\n      <th>2</th>\n      <td>CHEMBL210920</td>\n      <td>NaN</td>\n      <td>0</td>\n      <td>301.39</td>\n      <td>0</td>\n      <td>0.90</td>\n      <td>8h</td>\n      <td>O=C(NCc1ccccc1)[C@@H]1CN[C@H](C(=O)N2CCCC2)C1</td>\n      <td>IC50</td>\n      <td>'='</td>\n      <td>...</td>\n      <td>CHEMBL284</td>\n      <td>Dipeptidyl peptidase IV</td>\n      <td>Homo sapiens</td>\n      <td>SINGLE PROTEIN</td>\n      <td>CHEMBL1147816</td>\n      <td>1</td>\n      <td>Scientific Literature</td>\n      <td>Bioorg. Med. Chem. Lett.</td>\n      <td>2006</td>\n      <td>None</td>\n    </tr>\n    <tr>\n      <th>3</th>\n      <td>CHEMBL184912</td>\n      <td>NaN</td>\n      <td>0</td>\n      <td>286.35</td>\n      <td>0</td>\n      <td>1.76</td>\n      <td>22p</td>\n      <td>N[C@@H](CC(=O)N1CCSC1)Cc1ccc(F)cc1F</td>\n      <td>IC50</td>\n      <td>'='</td>\n      <td>...</td>\n      <td>CHEMBL284</td>\n      <td>Dipeptidyl peptidase IV</td>\n      <td>Homo sapiens</td>\n      <td>SINGLE PROTEIN</td>\n      <td>CHEMBL1137853</td>\n      <td>1</td>\n      <td>Scientific Literature</td>\n      <td>Bioorg. Med. Chem. Lett.</td>\n      <td>2004</td>\n      <td>None</td>\n    </tr>\n    <tr>\n      <th>4</th>\n      <td>CHEMBL278393</td>\n      <td>NaN</td>\n      <td>0</td>\n      <td>210.32</td>\n      <td>0</td>\n      <td>1.52</td>\n      <td>4</td>\n      <td>N[C@H](C(=O)N1CCCC1)C1CCCCC1</td>\n      <td>IC50</td>\n      <td>'='</td>\n      <td>...</td>\n      <td>CHEMBL284</td>\n      <td>Dipeptidyl peptidase IV</td>\n      <td>Homo sapiens</td>\n      <td>SINGLE PROTEIN</td>\n      <td>CHEMBL1147603</td>\n      <td>1</td>\n      <td>Scientific Literature</td>\n      <td>Bioorg. Med. Chem. Lett.</td>\n      <td>2004</td>\n      <td>None</td>\n    </tr>\n    <tr>\n      <th>...</th>\n      <td>...</td>\n      <td>...</td>\n      <td>...</td>\n      <td>...</td>\n      <td>...</td>\n      <td>...</td>\n      <td>...</td>\n      <td>...</td>\n      <td>...</td>\n      <td>...</td>\n      <td>...</td>\n      <td>...</td>\n      <td>...</td>\n      <td>...</td>\n      <td>...</td>\n      <td>...</td>\n      <td>...</td>\n      <td>...</td>\n      <td>...</td>\n      <td>...</td>\n      <td>...</td>\n    </tr>\n    <tr>\n      <th>4752</th>\n      <td>CHEMBL3694423</td>\n      <td>NaN</td>\n      <td>0</td>\n      <td>454.50</td>\n      <td>0</td>\n      <td>-0.09</td>\n      <td>BDBM120800</td>\n      <td>CS(=O)(=O)n1cc2c(n1)CN([C@@H]1C[C@H](N)C(c3cc(...</td>\n      <td>IC50</td>\n      <td>'='</td>\n      <td>...</td>\n      <td>CHEMBL284</td>\n      <td>Dipeptidyl peptidase IV</td>\n      <td>Homo sapiens</td>\n      <td>SINGLE PROTEIN</td>\n      <td>CHEMBL3638894</td>\n      <td>37</td>\n      <td>BindingDB Database</td>\n      <td>NaN</td>\n      <td>2014</td>\n      <td>None</td>\n    </tr>\n    <tr>\n      <th>4753</th>\n      <td>CHEMBL3675622</td>\n      <td>NaN</td>\n      <td>0</td>\n      <td>497.61</td>\n      <td>0</td>\n      <td>2.31</td>\n      <td>BDBM119786</td>\n      <td>CC#CCn1c(N2CCC[C@@H](N)C2)nc2c1C(=O)N(Cc1nc(C)...</td>\n      <td>IC50</td>\n      <td>'='</td>\n      <td>...</td>\n      <td>CHEMBL284</td>\n      <td>Dipeptidyl peptidase IV</td>\n      <td>Homo sapiens</td>\n      <td>SINGLE PROTEIN</td>\n      <td>CHEMBL3638800</td>\n      <td>37</td>\n      <td>BindingDB Database</td>\n      <td>NaN</td>\n      <td>2014</td>\n      <td>None</td>\n    </tr>\n    <tr>\n      <th>4754</th>\n      <td>CHEMBL3704834</td>\n      <td>NaN</td>\n      <td>0</td>\n      <td>278.35</td>\n      <td>0</td>\n      <td>0.64</td>\n      <td>BDBM175239</td>\n      <td>O=C(CNCC(O)COc1ccccc1)N1CCCC1</td>\n      <td>IC50</td>\n      <td>'='</td>\n      <td>...</td>\n      <td>CHEMBL284</td>\n      <td>Dipeptidyl peptidase IV</td>\n      <td>Homo sapiens</td>\n      <td>SINGLE PROTEIN</td>\n      <td>CHEMBL3639212</td>\n      <td>37</td>\n      <td>BindingDB Database</td>\n      <td>NaN</td>\n      <td>2015</td>\n      <td>None</td>\n    </tr>\n    <tr>\n      <th>4755</th>\n      <td>CHEMBL4213950</td>\n      <td>NaN</td>\n      <td>0</td>\n      <td>354.37</td>\n      <td>0</td>\n      <td>0.86</td>\n      <td>b12</td>\n      <td>O=c1cc(N2CCNCC2)n(Cc2ccccc2[N+](=O)[O-])c2ccnn12</td>\n      <td>IC50</td>\n      <td>'='</td>\n      <td>...</td>\n      <td>CHEMBL284</td>\n      <td>Dipeptidyl peptidase IV</td>\n      <td>Homo sapiens</td>\n      <td>SINGLE PROTEIN</td>\n      <td>CHEMBL4184227</td>\n      <td>1</td>\n      <td>Scientific Literature</td>\n      <td>Bioorg Med Chem</td>\n      <td>2018</td>\n      <td>None</td>\n    </tr>\n    <tr>\n      <th>4756</th>\n      <td>CHEMBL4247286</td>\n      <td>NaN</td>\n      <td>0</td>\n      <td>334.38</td>\n      <td>0</td>\n      <td>2.91</td>\n      <td>13</td>\n      <td>O=C(N/N=C/c1c(O)ccc2ccccc12)c1n[nH]c2c1CCCC2</td>\n      <td>IC50</td>\n      <td>'='</td>\n      <td>...</td>\n      <td>CHEMBL284</td>\n      <td>Dipeptidyl peptidase IV</td>\n      <td>Homo sapiens</td>\n      <td>SINGLE PROTEIN</td>\n      <td>CHEMBL4229387</td>\n      <td>1</td>\n      <td>Scientific Literature</td>\n      <td>Eur J Med Chem</td>\n      <td>2018</td>\n      <td>None</td>\n    </tr>\n  </tbody>\n</table>\n<p>4062 rows × 41 columns</p>\n</div>"
     },
     "metadata": {},
     "execution_count": 2
    }
   ],
   "source": [
    "# Seleksi data Standar relation & standar units\n",
    "#i = data_mentah[((data_mentah['Standard Relation'] != \"'='\") | (data_mentah['Standard Units'] != \"nM\"))].index\n",
    "condition = (data_mentah['Standard Relation'] == \"'='\") & (data_mentah['Standard Units'] == \"nM\")\n",
    "condition\n",
    "data_mentah = data_mentah[condition]\n",
    "data_mentah\n",
    "#data_mentah.drop(i)"
   ]
  },
  {
   "cell_type": "code",
   "execution_count": 3,
   "metadata": {},
   "outputs": [
    {
     "output_type": "execute_result",
     "data": {
      "text/plain": [
       "     Molecule ChEMBL ID                                             Smiles  \\\n",
       "0          CHEMBL365066               N#Cc1ccc(C[C@@H](N)CC(=O)N2CCSC2)cc1   \n",
       "1          CHEMBL366049  NC(CC(=O)N1CCC[C@H]1C(=O)NCc1ccc(C(=O)O)cc1)Cc...   \n",
       "2          CHEMBL210920      O=C(NCc1ccccc1)[C@@H]1CN[C@H](C(=O)N2CCCC2)C1   \n",
       "3          CHEMBL184912                N[C@@H](CC(=O)N1CCSC1)Cc1ccc(F)cc1F   \n",
       "4          CHEMBL278393                       N[C@H](C(=O)N1CCCC1)C1CCCCC1   \n",
       "...                 ...                                                ...   \n",
       "4752      CHEMBL3694423  CS(=O)(=O)n1cc2c(n1)CN([C@@H]1C[C@H](N)C(c3cc(...   \n",
       "4753      CHEMBL3675622  CC#CCn1c(N2CCC[C@@H](N)C2)nc2c1C(=O)N(Cc1nc(C)...   \n",
       "4754      CHEMBL3704834                      O=C(CNCC(O)COc1ccccc1)N1CCCC1   \n",
       "4755      CHEMBL4213950   O=c1cc(N2CCNCC2)n(Cc2ccccc2[N+](=O)[O-])c2ccnn12   \n",
       "4756      CHEMBL4247286       O=C(N/N=C/c1c(O)ccc2ccccc12)c1n[nH]c2c1CCCC2   \n",
       "\n",
       "      Standard Value  \n",
       "0            14860.0  \n",
       "1               54.0  \n",
       "2             1957.0  \n",
       "3              589.0  \n",
       "4              320.0  \n",
       "...              ...  \n",
       "4752             4.3  \n",
       "4753             1.3  \n",
       "4754         12000.0  \n",
       "4755          1200.0  \n",
       "4756          2120.0  \n",
       "\n",
       "[4062 rows x 3 columns]"
      ],
      "text/html": "<div>\n<style scoped>\n    .dataframe tbody tr th:only-of-type {\n        vertical-align: middle;\n    }\n\n    .dataframe tbody tr th {\n        vertical-align: top;\n    }\n\n    .dataframe thead th {\n        text-align: right;\n    }\n</style>\n<table border=\"1\" class=\"dataframe\">\n  <thead>\n    <tr style=\"text-align: right;\">\n      <th></th>\n      <th>Molecule ChEMBL ID</th>\n      <th>Smiles</th>\n      <th>Standard Value</th>\n    </tr>\n  </thead>\n  <tbody>\n    <tr>\n      <th>0</th>\n      <td>CHEMBL365066</td>\n      <td>N#Cc1ccc(C[C@@H](N)CC(=O)N2CCSC2)cc1</td>\n      <td>14860.0</td>\n    </tr>\n    <tr>\n      <th>1</th>\n      <td>CHEMBL366049</td>\n      <td>NC(CC(=O)N1CCC[C@H]1C(=O)NCc1ccc(C(=O)O)cc1)Cc...</td>\n      <td>54.0</td>\n    </tr>\n    <tr>\n      <th>2</th>\n      <td>CHEMBL210920</td>\n      <td>O=C(NCc1ccccc1)[C@@H]1CN[C@H](C(=O)N2CCCC2)C1</td>\n      <td>1957.0</td>\n    </tr>\n    <tr>\n      <th>3</th>\n      <td>CHEMBL184912</td>\n      <td>N[C@@H](CC(=O)N1CCSC1)Cc1ccc(F)cc1F</td>\n      <td>589.0</td>\n    </tr>\n    <tr>\n      <th>4</th>\n      <td>CHEMBL278393</td>\n      <td>N[C@H](C(=O)N1CCCC1)C1CCCCC1</td>\n      <td>320.0</td>\n    </tr>\n    <tr>\n      <th>...</th>\n      <td>...</td>\n      <td>...</td>\n      <td>...</td>\n    </tr>\n    <tr>\n      <th>4752</th>\n      <td>CHEMBL3694423</td>\n      <td>CS(=O)(=O)n1cc2c(n1)CN([C@@H]1C[C@H](N)C(c3cc(...</td>\n      <td>4.3</td>\n    </tr>\n    <tr>\n      <th>4753</th>\n      <td>CHEMBL3675622</td>\n      <td>CC#CCn1c(N2CCC[C@@H](N)C2)nc2c1C(=O)N(Cc1nc(C)...</td>\n      <td>1.3</td>\n    </tr>\n    <tr>\n      <th>4754</th>\n      <td>CHEMBL3704834</td>\n      <td>O=C(CNCC(O)COc1ccccc1)N1CCCC1</td>\n      <td>12000.0</td>\n    </tr>\n    <tr>\n      <th>4755</th>\n      <td>CHEMBL4213950</td>\n      <td>O=c1cc(N2CCNCC2)n(Cc2ccccc2[N+](=O)[O-])c2ccnn12</td>\n      <td>1200.0</td>\n    </tr>\n    <tr>\n      <th>4756</th>\n      <td>CHEMBL4247286</td>\n      <td>O=C(N/N=C/c1c(O)ccc2ccccc12)c1n[nH]c2c1CCCC2</td>\n      <td>2120.0</td>\n    </tr>\n  </tbody>\n</table>\n<p>4062 rows × 3 columns</p>\n</div>"
     },
     "metadata": {},
     "execution_count": 3
    }
   ],
   "source": [
    "# Mengambil kolom ChEMBL ID, Smiles, dan Standard Value\n",
    "data_kolom = data_mentah[['Molecule ChEMBL ID', 'Smiles', 'Standard Value']]\n",
    "data_kolom"
   ]
  },
  {
   "cell_type": "code",
   "execution_count": 4,
   "metadata": {},
   "outputs": [
    {
     "output_type": "execute_result",
     "data": {
      "text/plain": [
       "     Molecule ChEMBL ID                                             Smiles  \\\n",
       "0          CHEMBL365066               N#Cc1ccc(C[C@@H](N)CC(=O)N2CCSC2)cc1   \n",
       "1          CHEMBL366049  NC(CC(=O)N1CCC[C@H]1C(=O)NCc1ccc(C(=O)O)cc1)Cc...   \n",
       "2          CHEMBL210920      O=C(NCc1ccccc1)[C@@H]1CN[C@H](C(=O)N2CCCC2)C1   \n",
       "3          CHEMBL184912                N[C@@H](CC(=O)N1CCSC1)Cc1ccc(F)cc1F   \n",
       "4          CHEMBL278393                       N[C@H](C(=O)N1CCCC1)C1CCCCC1   \n",
       "...                 ...                                                ...   \n",
       "4752      CHEMBL3694423  CS(=O)(=O)n1cc2c(n1)CN([C@@H]1C[C@H](N)C(c3cc(...   \n",
       "4753      CHEMBL3675622  CC#CCn1c(N2CCC[C@@H](N)C2)nc2c1C(=O)N(Cc1nc(C)...   \n",
       "4754      CHEMBL3704834                      O=C(CNCC(O)COc1ccccc1)N1CCCC1   \n",
       "4755      CHEMBL4213950   O=c1cc(N2CCNCC2)n(Cc2ccccc2[N+](=O)[O-])c2ccnn12   \n",
       "4756      CHEMBL4247286       O=C(N/N=C/c1c(O)ccc2ccccc12)c1n[nH]c2c1CCCC2   \n",
       "\n",
       "         IC50  \n",
       "0     14860.0  \n",
       "1        54.0  \n",
       "2      1957.0  \n",
       "3       589.0  \n",
       "4       320.0  \n",
       "...       ...  \n",
       "4752      4.3  \n",
       "4753      1.3  \n",
       "4754  12000.0  \n",
       "4755   1200.0  \n",
       "4756   2120.0  \n",
       "\n",
       "[4062 rows x 3 columns]"
      ],
      "text/html": "<div>\n<style scoped>\n    .dataframe tbody tr th:only-of-type {\n        vertical-align: middle;\n    }\n\n    .dataframe tbody tr th {\n        vertical-align: top;\n    }\n\n    .dataframe thead th {\n        text-align: right;\n    }\n</style>\n<table border=\"1\" class=\"dataframe\">\n  <thead>\n    <tr style=\"text-align: right;\">\n      <th></th>\n      <th>Molecule ChEMBL ID</th>\n      <th>Smiles</th>\n      <th>IC50</th>\n    </tr>\n  </thead>\n  <tbody>\n    <tr>\n      <th>0</th>\n      <td>CHEMBL365066</td>\n      <td>N#Cc1ccc(C[C@@H](N)CC(=O)N2CCSC2)cc1</td>\n      <td>14860.0</td>\n    </tr>\n    <tr>\n      <th>1</th>\n      <td>CHEMBL366049</td>\n      <td>NC(CC(=O)N1CCC[C@H]1C(=O)NCc1ccc(C(=O)O)cc1)Cc...</td>\n      <td>54.0</td>\n    </tr>\n    <tr>\n      <th>2</th>\n      <td>CHEMBL210920</td>\n      <td>O=C(NCc1ccccc1)[C@@H]1CN[C@H](C(=O)N2CCCC2)C1</td>\n      <td>1957.0</td>\n    </tr>\n    <tr>\n      <th>3</th>\n      <td>CHEMBL184912</td>\n      <td>N[C@@H](CC(=O)N1CCSC1)Cc1ccc(F)cc1F</td>\n      <td>589.0</td>\n    </tr>\n    <tr>\n      <th>4</th>\n      <td>CHEMBL278393</td>\n      <td>N[C@H](C(=O)N1CCCC1)C1CCCCC1</td>\n      <td>320.0</td>\n    </tr>\n    <tr>\n      <th>...</th>\n      <td>...</td>\n      <td>...</td>\n      <td>...</td>\n    </tr>\n    <tr>\n      <th>4752</th>\n      <td>CHEMBL3694423</td>\n      <td>CS(=O)(=O)n1cc2c(n1)CN([C@@H]1C[C@H](N)C(c3cc(...</td>\n      <td>4.3</td>\n    </tr>\n    <tr>\n      <th>4753</th>\n      <td>CHEMBL3675622</td>\n      <td>CC#CCn1c(N2CCC[C@@H](N)C2)nc2c1C(=O)N(Cc1nc(C)...</td>\n      <td>1.3</td>\n    </tr>\n    <tr>\n      <th>4754</th>\n      <td>CHEMBL3704834</td>\n      <td>O=C(CNCC(O)COc1ccccc1)N1CCCC1</td>\n      <td>12000.0</td>\n    </tr>\n    <tr>\n      <th>4755</th>\n      <td>CHEMBL4213950</td>\n      <td>O=c1cc(N2CCNCC2)n(Cc2ccccc2[N+](=O)[O-])c2ccnn12</td>\n      <td>1200.0</td>\n    </tr>\n    <tr>\n      <th>4756</th>\n      <td>CHEMBL4247286</td>\n      <td>O=C(N/N=C/c1c(O)ccc2ccccc12)c1n[nH]c2c1CCCC2</td>\n      <td>2120.0</td>\n    </tr>\n  </tbody>\n</table>\n<p>4062 rows × 3 columns</p>\n</div>"
     },
     "metadata": {},
     "execution_count": 4
    }
   ],
   "source": [
    "# Rename \"Standar Value\" = \"IC50\"\n",
    "data_rename = data_kolom.rename(columns={'Standard Value' : 'IC50'}) \n",
    "data_rename"
   ]
  },
  {
   "cell_type": "code",
   "execution_count": 5,
   "metadata": {},
   "outputs": [
    {
     "output_type": "execute_result",
     "data": {
      "text/plain": [
       "     Molecule ChEMBL ID                                             Smiles  \\\n",
       "0          CHEMBL365066               N#Cc1ccc(C[C@@H](N)CC(=O)N2CCSC2)cc1   \n",
       "1          CHEMBL366049  NC(CC(=O)N1CCC[C@H]1C(=O)NCc1ccc(C(=O)O)cc1)Cc...   \n",
       "2          CHEMBL210920      O=C(NCc1ccccc1)[C@@H]1CN[C@H](C(=O)N2CCCC2)C1   \n",
       "3          CHEMBL184912                N[C@@H](CC(=O)N1CCSC1)Cc1ccc(F)cc1F   \n",
       "4          CHEMBL278393                       N[C@H](C(=O)N1CCCC1)C1CCCCC1   \n",
       "...                 ...                                                ...   \n",
       "4752      CHEMBL3694423  CS(=O)(=O)n1cc2c(n1)CN([C@@H]1C[C@H](N)C(c3cc(...   \n",
       "4753      CHEMBL3675622  CC#CCn1c(N2CCC[C@@H](N)C2)nc2c1C(=O)N(Cc1nc(C)...   \n",
       "4754      CHEMBL3704834                      O=C(CNCC(O)COc1ccccc1)N1CCCC1   \n",
       "4755      CHEMBL4213950   O=c1cc(N2CCNCC2)n(Cc2ccccc2[N+](=O)[O-])c2ccnn12   \n",
       "4756      CHEMBL4247286       O=C(N/N=C/c1c(O)ccc2ccccc12)c1n[nH]c2c1CCCC2   \n",
       "\n",
       "         IC50  \n",
       "0     14860.0  \n",
       "1        54.0  \n",
       "2      1957.0  \n",
       "3       589.0  \n",
       "4       320.0  \n",
       "...       ...  \n",
       "4752      4.3  \n",
       "4753      1.3  \n",
       "4754  12000.0  \n",
       "4755   1200.0  \n",
       "4756   2120.0  \n",
       "\n",
       "[4058 rows x 3 columns]"
      ],
      "text/html": "<div>\n<style scoped>\n    .dataframe tbody tr th:only-of-type {\n        vertical-align: middle;\n    }\n\n    .dataframe tbody tr th {\n        vertical-align: top;\n    }\n\n    .dataframe thead th {\n        text-align: right;\n    }\n</style>\n<table border=\"1\" class=\"dataframe\">\n  <thead>\n    <tr style=\"text-align: right;\">\n      <th></th>\n      <th>Molecule ChEMBL ID</th>\n      <th>Smiles</th>\n      <th>IC50</th>\n    </tr>\n  </thead>\n  <tbody>\n    <tr>\n      <th>0</th>\n      <td>CHEMBL365066</td>\n      <td>N#Cc1ccc(C[C@@H](N)CC(=O)N2CCSC2)cc1</td>\n      <td>14860.0</td>\n    </tr>\n    <tr>\n      <th>1</th>\n      <td>CHEMBL366049</td>\n      <td>NC(CC(=O)N1CCC[C@H]1C(=O)NCc1ccc(C(=O)O)cc1)Cc...</td>\n      <td>54.0</td>\n    </tr>\n    <tr>\n      <th>2</th>\n      <td>CHEMBL210920</td>\n      <td>O=C(NCc1ccccc1)[C@@H]1CN[C@H](C(=O)N2CCCC2)C1</td>\n      <td>1957.0</td>\n    </tr>\n    <tr>\n      <th>3</th>\n      <td>CHEMBL184912</td>\n      <td>N[C@@H](CC(=O)N1CCSC1)Cc1ccc(F)cc1F</td>\n      <td>589.0</td>\n    </tr>\n    <tr>\n      <th>4</th>\n      <td>CHEMBL278393</td>\n      <td>N[C@H](C(=O)N1CCCC1)C1CCCCC1</td>\n      <td>320.0</td>\n    </tr>\n    <tr>\n      <th>...</th>\n      <td>...</td>\n      <td>...</td>\n      <td>...</td>\n    </tr>\n    <tr>\n      <th>4752</th>\n      <td>CHEMBL3694423</td>\n      <td>CS(=O)(=O)n1cc2c(n1)CN([C@@H]1C[C@H](N)C(c3cc(...</td>\n      <td>4.3</td>\n    </tr>\n    <tr>\n      <th>4753</th>\n      <td>CHEMBL3675622</td>\n      <td>CC#CCn1c(N2CCC[C@@H](N)C2)nc2c1C(=O)N(Cc1nc(C)...</td>\n      <td>1.3</td>\n    </tr>\n    <tr>\n      <th>4754</th>\n      <td>CHEMBL3704834</td>\n      <td>O=C(CNCC(O)COc1ccccc1)N1CCCC1</td>\n      <td>12000.0</td>\n    </tr>\n    <tr>\n      <th>4755</th>\n      <td>CHEMBL4213950</td>\n      <td>O=c1cc(N2CCNCC2)n(Cc2ccccc2[N+](=O)[O-])c2ccnn12</td>\n      <td>1200.0</td>\n    </tr>\n    <tr>\n      <th>4756</th>\n      <td>CHEMBL4247286</td>\n      <td>O=C(N/N=C/c1c(O)ccc2ccccc12)c1n[nH]c2c1CCCC2</td>\n      <td>2120.0</td>\n    </tr>\n  </tbody>\n</table>\n<p>4058 rows × 3 columns</p>\n</div>"
     },
     "metadata": {},
     "execution_count": 5
    }
   ],
   "source": [
    "# Seleksi Smiles dan Standar Values = Nan\n",
    "data_rename.dropna(inplace=True)\n",
    "data_rename"
   ]
  },
  {
   "cell_type": "code",
   "execution_count": 6,
   "metadata": {},
   "outputs": [
    {
     "output_type": "execute_result",
     "data": {
      "text/plain": [
       "     Molecule ChEMBL ID                                             Smiles  \\\n",
       "0          CHEMBL365066               N#Cc1ccc(C[C@@H](N)CC(=O)N2CCSC2)cc1   \n",
       "1          CHEMBL366049  NC(CC(=O)N1CCC[C@H]1C(=O)NCc1ccc(C(=O)O)cc1)Cc...   \n",
       "2          CHEMBL210920      O=C(NCc1ccccc1)[C@@H]1CN[C@H](C(=O)N2CCCC2)C1   \n",
       "3          CHEMBL184912                N[C@@H](CC(=O)N1CCSC1)Cc1ccc(F)cc1F   \n",
       "4          CHEMBL278393                       N[C@H](C(=O)N1CCCC1)C1CCCCC1   \n",
       "...                 ...                                                ...   \n",
       "4752      CHEMBL3694423  CS(=O)(=O)n1cc2c(n1)CN([C@@H]1C[C@H](N)C(c3cc(...   \n",
       "4753      CHEMBL3675622  CC#CCn1c(N2CCC[C@@H](N)C2)nc2c1C(=O)N(Cc1nc(C)...   \n",
       "4754      CHEMBL3704834                      O=C(CNCC(O)COc1ccccc1)N1CCCC1   \n",
       "4755      CHEMBL4213950   O=c1cc(N2CCNCC2)n(Cc2ccccc2[N+](=O)[O-])c2ccnn12   \n",
       "4756      CHEMBL4247286       O=C(N/N=C/c1c(O)ccc2ccccc12)c1n[nH]c2c1CCCC2   \n",
       "\n",
       "         IC50  IC50 Mikro  \n",
       "0     14860.0     14.8600  \n",
       "1        54.0      0.0540  \n",
       "2      1957.0      1.9570  \n",
       "3       589.0      0.5890  \n",
       "4       320.0      0.3200  \n",
       "...       ...         ...  \n",
       "4752      4.3      0.0043  \n",
       "4753      1.3      0.0013  \n",
       "4754  12000.0     12.0000  \n",
       "4755   1200.0      1.2000  \n",
       "4756   2120.0      2.1200  \n",
       "\n",
       "[4058 rows x 4 columns]"
      ],
      "text/html": "<div>\n<style scoped>\n    .dataframe tbody tr th:only-of-type {\n        vertical-align: middle;\n    }\n\n    .dataframe tbody tr th {\n        vertical-align: top;\n    }\n\n    .dataframe thead th {\n        text-align: right;\n    }\n</style>\n<table border=\"1\" class=\"dataframe\">\n  <thead>\n    <tr style=\"text-align: right;\">\n      <th></th>\n      <th>Molecule ChEMBL ID</th>\n      <th>Smiles</th>\n      <th>IC50</th>\n      <th>IC50 Mikro</th>\n    </tr>\n  </thead>\n  <tbody>\n    <tr>\n      <th>0</th>\n      <td>CHEMBL365066</td>\n      <td>N#Cc1ccc(C[C@@H](N)CC(=O)N2CCSC2)cc1</td>\n      <td>14860.0</td>\n      <td>14.8600</td>\n    </tr>\n    <tr>\n      <th>1</th>\n      <td>CHEMBL366049</td>\n      <td>NC(CC(=O)N1CCC[C@H]1C(=O)NCc1ccc(C(=O)O)cc1)Cc...</td>\n      <td>54.0</td>\n      <td>0.0540</td>\n    </tr>\n    <tr>\n      <th>2</th>\n      <td>CHEMBL210920</td>\n      <td>O=C(NCc1ccccc1)[C@@H]1CN[C@H](C(=O)N2CCCC2)C1</td>\n      <td>1957.0</td>\n      <td>1.9570</td>\n    </tr>\n    <tr>\n      <th>3</th>\n      <td>CHEMBL184912</td>\n      <td>N[C@@H](CC(=O)N1CCSC1)Cc1ccc(F)cc1F</td>\n      <td>589.0</td>\n      <td>0.5890</td>\n    </tr>\n    <tr>\n      <th>4</th>\n      <td>CHEMBL278393</td>\n      <td>N[C@H](C(=O)N1CCCC1)C1CCCCC1</td>\n      <td>320.0</td>\n      <td>0.3200</td>\n    </tr>\n    <tr>\n      <th>...</th>\n      <td>...</td>\n      <td>...</td>\n      <td>...</td>\n      <td>...</td>\n    </tr>\n    <tr>\n      <th>4752</th>\n      <td>CHEMBL3694423</td>\n      <td>CS(=O)(=O)n1cc2c(n1)CN([C@@H]1C[C@H](N)C(c3cc(...</td>\n      <td>4.3</td>\n      <td>0.0043</td>\n    </tr>\n    <tr>\n      <th>4753</th>\n      <td>CHEMBL3675622</td>\n      <td>CC#CCn1c(N2CCC[C@@H](N)C2)nc2c1C(=O)N(Cc1nc(C)...</td>\n      <td>1.3</td>\n      <td>0.0013</td>\n    </tr>\n    <tr>\n      <th>4754</th>\n      <td>CHEMBL3704834</td>\n      <td>O=C(CNCC(O)COc1ccccc1)N1CCCC1</td>\n      <td>12000.0</td>\n      <td>12.0000</td>\n    </tr>\n    <tr>\n      <th>4755</th>\n      <td>CHEMBL4213950</td>\n      <td>O=c1cc(N2CCNCC2)n(Cc2ccccc2[N+](=O)[O-])c2ccnn12</td>\n      <td>1200.0</td>\n      <td>1.2000</td>\n    </tr>\n    <tr>\n      <th>4756</th>\n      <td>CHEMBL4247286</td>\n      <td>O=C(N/N=C/c1c(O)ccc2ccccc12)c1n[nH]c2c1CCCC2</td>\n      <td>2120.0</td>\n      <td>2.1200</td>\n    </tr>\n  </tbody>\n</table>\n<p>4058 rows × 4 columns</p>\n</div>"
     },
     "metadata": {},
     "execution_count": 6
    }
   ],
   "source": [
    "# Membuat kolom baru pIC50 dan memasukan nilai -log(pIC50)\n",
    "data_pIC50 = []\n",
    "for x in data_rename['IC50']:\n",
    "    z = x * 10 ** -3 #Perhitungan mikromolar\n",
    "    data_pIC50.append(z)\n",
    "\n",
    "data_rename['IC50 Mikro'] = data_pIC50\n",
    "data_rename"
   ]
  },
  {
   "cell_type": "code",
   "execution_count": 7,
   "metadata": {},
   "outputs": [
    {
     "output_type": "execute_result",
     "data": {
      "text/plain": [
       "     Molecule ChEMBL ID                                             Smiles  \\\n",
       "0          CHEMBL365066               N#Cc1ccc(C[C@@H](N)CC(=O)N2CCSC2)cc1   \n",
       "1          CHEMBL366049  NC(CC(=O)N1CCC[C@H]1C(=O)NCc1ccc(C(=O)O)cc1)Cc...   \n",
       "2          CHEMBL210920      O=C(NCc1ccccc1)[C@@H]1CN[C@H](C(=O)N2CCCC2)C1   \n",
       "3          CHEMBL184912                N[C@@H](CC(=O)N1CCSC1)Cc1ccc(F)cc1F   \n",
       "4          CHEMBL278393                       N[C@H](C(=O)N1CCCC1)C1CCCCC1   \n",
       "...                 ...                                                ...   \n",
       "4752      CHEMBL3694423  CS(=O)(=O)n1cc2c(n1)CN([C@@H]1C[C@H](N)C(c3cc(...   \n",
       "4753      CHEMBL3675622  CC#CCn1c(N2CCC[C@@H](N)C2)nc2c1C(=O)N(Cc1nc(C)...   \n",
       "4754      CHEMBL3704834                      O=C(CNCC(O)COc1ccccc1)N1CCCC1   \n",
       "4755      CHEMBL4213950   O=c1cc(N2CCNCC2)n(Cc2ccccc2[N+](=O)[O-])c2ccnn12   \n",
       "4756      CHEMBL4247286       O=C(N/N=C/c1c(O)ccc2ccccc12)c1n[nH]c2c1CCCC2   \n",
       "\n",
       "         IC50  IC50 Mikro  Label  \n",
       "0     14860.0     14.8600     -1  \n",
       "1        54.0      0.0540      1  \n",
       "2      1957.0      1.9570      1  \n",
       "3       589.0      0.5890      1  \n",
       "4       320.0      0.3200      1  \n",
       "...       ...         ...    ...  \n",
       "4752      4.3      0.0043      1  \n",
       "4753      1.3      0.0013      1  \n",
       "4754  12000.0     12.0000     -1  \n",
       "4755   1200.0      1.2000      1  \n",
       "4756   2120.0      2.1200      1  \n",
       "\n",
       "[4058 rows x 5 columns]"
      ],
      "text/html": "<div>\n<style scoped>\n    .dataframe tbody tr th:only-of-type {\n        vertical-align: middle;\n    }\n\n    .dataframe tbody tr th {\n        vertical-align: top;\n    }\n\n    .dataframe thead th {\n        text-align: right;\n    }\n</style>\n<table border=\"1\" class=\"dataframe\">\n  <thead>\n    <tr style=\"text-align: right;\">\n      <th></th>\n      <th>Molecule ChEMBL ID</th>\n      <th>Smiles</th>\n      <th>IC50</th>\n      <th>IC50 Mikro</th>\n      <th>Label</th>\n    </tr>\n  </thead>\n  <tbody>\n    <tr>\n      <th>0</th>\n      <td>CHEMBL365066</td>\n      <td>N#Cc1ccc(C[C@@H](N)CC(=O)N2CCSC2)cc1</td>\n      <td>14860.0</td>\n      <td>14.8600</td>\n      <td>-1</td>\n    </tr>\n    <tr>\n      <th>1</th>\n      <td>CHEMBL366049</td>\n      <td>NC(CC(=O)N1CCC[C@H]1C(=O)NCc1ccc(C(=O)O)cc1)Cc...</td>\n      <td>54.0</td>\n      <td>0.0540</td>\n      <td>1</td>\n    </tr>\n    <tr>\n      <th>2</th>\n      <td>CHEMBL210920</td>\n      <td>O=C(NCc1ccccc1)[C@@H]1CN[C@H](C(=O)N2CCCC2)C1</td>\n      <td>1957.0</td>\n      <td>1.9570</td>\n      <td>1</td>\n    </tr>\n    <tr>\n      <th>3</th>\n      <td>CHEMBL184912</td>\n      <td>N[C@@H](CC(=O)N1CCSC1)Cc1ccc(F)cc1F</td>\n      <td>589.0</td>\n      <td>0.5890</td>\n      <td>1</td>\n    </tr>\n    <tr>\n      <th>4</th>\n      <td>CHEMBL278393</td>\n      <td>N[C@H](C(=O)N1CCCC1)C1CCCCC1</td>\n      <td>320.0</td>\n      <td>0.3200</td>\n      <td>1</td>\n    </tr>\n    <tr>\n      <th>...</th>\n      <td>...</td>\n      <td>...</td>\n      <td>...</td>\n      <td>...</td>\n      <td>...</td>\n    </tr>\n    <tr>\n      <th>4752</th>\n      <td>CHEMBL3694423</td>\n      <td>CS(=O)(=O)n1cc2c(n1)CN([C@@H]1C[C@H](N)C(c3cc(...</td>\n      <td>4.3</td>\n      <td>0.0043</td>\n      <td>1</td>\n    </tr>\n    <tr>\n      <th>4753</th>\n      <td>CHEMBL3675622</td>\n      <td>CC#CCn1c(N2CCC[C@@H](N)C2)nc2c1C(=O)N(Cc1nc(C)...</td>\n      <td>1.3</td>\n      <td>0.0013</td>\n      <td>1</td>\n    </tr>\n    <tr>\n      <th>4754</th>\n      <td>CHEMBL3704834</td>\n      <td>O=C(CNCC(O)COc1ccccc1)N1CCCC1</td>\n      <td>12000.0</td>\n      <td>12.0000</td>\n      <td>-1</td>\n    </tr>\n    <tr>\n      <th>4755</th>\n      <td>CHEMBL4213950</td>\n      <td>O=c1cc(N2CCNCC2)n(Cc2ccccc2[N+](=O)[O-])c2ccnn12</td>\n      <td>1200.0</td>\n      <td>1.2000</td>\n      <td>1</td>\n    </tr>\n    <tr>\n      <th>4756</th>\n      <td>CHEMBL4247286</td>\n      <td>O=C(N/N=C/c1c(O)ccc2ccccc12)c1n[nH]c2c1CCCC2</td>\n      <td>2120.0</td>\n      <td>2.1200</td>\n      <td>1</td>\n    </tr>\n  </tbody>\n</table>\n<p>4058 rows × 5 columns</p>\n</div>"
     },
     "metadata": {},
     "execution_count": 7
    }
   ],
   "source": [
    "# Standar nilai aktif dan non aktif IC50\n",
    "label = []\n",
    "for x in data_rename['IC50 Mikro']:\n",
    "    if x <= 10:\n",
    "        label.append(1)\n",
    "    elif x >= 100:\n",
    "        label.append(0)\n",
    "    else:\n",
    "        label.append(-1)\n",
    "\n",
    "data_rename['Label'] = label\n",
    "data_rename"
   ]
  },
  {
   "cell_type": "code",
   "execution_count": 8,
   "metadata": {},
   "outputs": [
    {
     "output_type": "execute_result",
     "data": {
      "text/plain": [
       "     Molecule ChEMBL ID                                             Smiles  \\\n",
       "1          CHEMBL366049  NC(CC(=O)N1CCC[C@H]1C(=O)NCc1ccc(C(=O)O)cc1)Cc...   \n",
       "2          CHEMBL210920      O=C(NCc1ccccc1)[C@@H]1CN[C@H](C(=O)N2CCCC2)C1   \n",
       "3          CHEMBL184912                N[C@@H](CC(=O)N1CCSC1)Cc1ccc(F)cc1F   \n",
       "4          CHEMBL278393                       N[C@H](C(=O)N1CCCC1)C1CCCCC1   \n",
       "5           CHEMBL23110  N[C@H](C(=O)N1CCC(F)(F)C1)[C@H]1CC[C@H](NC(=O)...   \n",
       "...                 ...                                                ...   \n",
       "4751      CHEMBL4249193  O=[N+]([O-])c1cccc(/C=N/N2C(c3ccccc3)=Nc3ccccc...   \n",
       "4752      CHEMBL3694423  CS(=O)(=O)n1cc2c(n1)CN([C@@H]1C[C@H](N)C(c3cc(...   \n",
       "4753      CHEMBL3675622  CC#CCn1c(N2CCC[C@@H](N)C2)nc2c1C(=O)N(Cc1nc(C)...   \n",
       "4755      CHEMBL4213950   O=c1cc(N2CCNCC2)n(Cc2ccccc2[N+](=O)[O-])c2ccnn12   \n",
       "4756      CHEMBL4247286       O=C(N/N=C/c1c(O)ccc2ccccc12)c1n[nH]c2c1CCCC2   \n",
       "\n",
       "         IC50  IC50 Mikro  Label  \n",
       "1       54.00     0.05400      1  \n",
       "2     1957.00     1.95700      1  \n",
       "3      589.00     0.58900      1  \n",
       "4      320.00     0.32000      1  \n",
       "5       55.00     0.05500      1  \n",
       "...       ...         ...    ...  \n",
       "4751     1.33     0.00133      1  \n",
       "4752     4.30     0.00430      1  \n",
       "4753     1.30     0.00130      1  \n",
       "4755  1200.00     1.20000      1  \n",
       "4756  2120.00     2.12000      1  \n",
       "\n",
       "[3814 rows x 5 columns]"
      ],
      "text/html": "<div>\n<style scoped>\n    .dataframe tbody tr th:only-of-type {\n        vertical-align: middle;\n    }\n\n    .dataframe tbody tr th {\n        vertical-align: top;\n    }\n\n    .dataframe thead th {\n        text-align: right;\n    }\n</style>\n<table border=\"1\" class=\"dataframe\">\n  <thead>\n    <tr style=\"text-align: right;\">\n      <th></th>\n      <th>Molecule ChEMBL ID</th>\n      <th>Smiles</th>\n      <th>IC50</th>\n      <th>IC50 Mikro</th>\n      <th>Label</th>\n    </tr>\n  </thead>\n  <tbody>\n    <tr>\n      <th>1</th>\n      <td>CHEMBL366049</td>\n      <td>NC(CC(=O)N1CCC[C@H]1C(=O)NCc1ccc(C(=O)O)cc1)Cc...</td>\n      <td>54.00</td>\n      <td>0.05400</td>\n      <td>1</td>\n    </tr>\n    <tr>\n      <th>2</th>\n      <td>CHEMBL210920</td>\n      <td>O=C(NCc1ccccc1)[C@@H]1CN[C@H](C(=O)N2CCCC2)C1</td>\n      <td>1957.00</td>\n      <td>1.95700</td>\n      <td>1</td>\n    </tr>\n    <tr>\n      <th>3</th>\n      <td>CHEMBL184912</td>\n      <td>N[C@@H](CC(=O)N1CCSC1)Cc1ccc(F)cc1F</td>\n      <td>589.00</td>\n      <td>0.58900</td>\n      <td>1</td>\n    </tr>\n    <tr>\n      <th>4</th>\n      <td>CHEMBL278393</td>\n      <td>N[C@H](C(=O)N1CCCC1)C1CCCCC1</td>\n      <td>320.00</td>\n      <td>0.32000</td>\n      <td>1</td>\n    </tr>\n    <tr>\n      <th>5</th>\n      <td>CHEMBL23110</td>\n      <td>N[C@H](C(=O)N1CCC(F)(F)C1)[C@H]1CC[C@H](NC(=O)...</td>\n      <td>55.00</td>\n      <td>0.05500</td>\n      <td>1</td>\n    </tr>\n    <tr>\n      <th>...</th>\n      <td>...</td>\n      <td>...</td>\n      <td>...</td>\n      <td>...</td>\n      <td>...</td>\n    </tr>\n    <tr>\n      <th>4751</th>\n      <td>CHEMBL4249193</td>\n      <td>O=[N+]([O-])c1cccc(/C=N/N2C(c3ccccc3)=Nc3ccccc...</td>\n      <td>1.33</td>\n      <td>0.00133</td>\n      <td>1</td>\n    </tr>\n    <tr>\n      <th>4752</th>\n      <td>CHEMBL3694423</td>\n      <td>CS(=O)(=O)n1cc2c(n1)CN([C@@H]1C[C@H](N)C(c3cc(...</td>\n      <td>4.30</td>\n      <td>0.00430</td>\n      <td>1</td>\n    </tr>\n    <tr>\n      <th>4753</th>\n      <td>CHEMBL3675622</td>\n      <td>CC#CCn1c(N2CCC[C@@H](N)C2)nc2c1C(=O)N(Cc1nc(C)...</td>\n      <td>1.30</td>\n      <td>0.00130</td>\n      <td>1</td>\n    </tr>\n    <tr>\n      <th>4755</th>\n      <td>CHEMBL4213950</td>\n      <td>O=c1cc(N2CCNCC2)n(Cc2ccccc2[N+](=O)[O-])c2ccnn12</td>\n      <td>1200.00</td>\n      <td>1.20000</td>\n      <td>1</td>\n    </tr>\n    <tr>\n      <th>4756</th>\n      <td>CHEMBL4247286</td>\n      <td>O=C(N/N=C/c1c(O)ccc2ccccc12)c1n[nH]c2c1CCCC2</td>\n      <td>2120.00</td>\n      <td>2.12000</td>\n      <td>1</td>\n    </tr>\n  </tbody>\n</table>\n<p>3814 rows × 5 columns</p>\n</div>"
     },
     "metadata": {},
     "execution_count": 8
    }
   ],
   "source": [
    "# Seleksi data label = -1\n",
    "condition = (data_rename['Label'] != -1)\n",
    "data_rename = data_rename[condition]\n",
    "data_rename"
   ]
  },
  {
   "cell_type": "code",
   "execution_count": 9,
   "metadata": {},
   "outputs": [
    {
     "output_type": "execute_result",
     "data": {
      "text/plain": [
       "     Molecule ChEMBL ID                                             Smiles  \\\n",
       "0          CHEMBL366049  NC(CC(=O)N1CCC[C@H]1C(=O)NCc1ccc(C(=O)O)cc1)Cc...   \n",
       "1          CHEMBL210920      O=C(NCc1ccccc1)[C@@H]1CN[C@H](C(=O)N2CCCC2)C1   \n",
       "2          CHEMBL184912                N[C@@H](CC(=O)N1CCSC1)Cc1ccc(F)cc1F   \n",
       "3          CHEMBL278393                       N[C@H](C(=O)N1CCCC1)C1CCCCC1   \n",
       "4           CHEMBL23110  N[C@H](C(=O)N1CCC(F)(F)C1)[C@H]1CC[C@H](NC(=O)...   \n",
       "...                 ...                                                ...   \n",
       "3809      CHEMBL4249193  O=[N+]([O-])c1cccc(/C=N/N2C(c3ccccc3)=Nc3ccccc...   \n",
       "3810      CHEMBL3694423  CS(=O)(=O)n1cc2c(n1)CN([C@@H]1C[C@H](N)C(c3cc(...   \n",
       "3811      CHEMBL3675622  CC#CCn1c(N2CCC[C@@H](N)C2)nc2c1C(=O)N(Cc1nc(C)...   \n",
       "3812      CHEMBL4213950   O=c1cc(N2CCNCC2)n(Cc2ccccc2[N+](=O)[O-])c2ccnn12   \n",
       "3813      CHEMBL4247286       O=C(N/N=C/c1c(O)ccc2ccccc12)c1n[nH]c2c1CCCC2   \n",
       "\n",
       "         IC50  IC50 Mikro  Label  \n",
       "0       54.00     0.05400      1  \n",
       "1     1957.00     1.95700      1  \n",
       "2      589.00     0.58900      1  \n",
       "3      320.00     0.32000      1  \n",
       "4       55.00     0.05500      1  \n",
       "...       ...         ...    ...  \n",
       "3809     1.33     0.00133      1  \n",
       "3810     4.30     0.00430      1  \n",
       "3811     1.30     0.00130      1  \n",
       "3812  1200.00     1.20000      1  \n",
       "3813  2120.00     2.12000      1  \n",
       "\n",
       "[3814 rows x 5 columns]"
      ],
      "text/html": "<div>\n<style scoped>\n    .dataframe tbody tr th:only-of-type {\n        vertical-align: middle;\n    }\n\n    .dataframe tbody tr th {\n        vertical-align: top;\n    }\n\n    .dataframe thead th {\n        text-align: right;\n    }\n</style>\n<table border=\"1\" class=\"dataframe\">\n  <thead>\n    <tr style=\"text-align: right;\">\n      <th></th>\n      <th>Molecule ChEMBL ID</th>\n      <th>Smiles</th>\n      <th>IC50</th>\n      <th>IC50 Mikro</th>\n      <th>Label</th>\n    </tr>\n  </thead>\n  <tbody>\n    <tr>\n      <th>0</th>\n      <td>CHEMBL366049</td>\n      <td>NC(CC(=O)N1CCC[C@H]1C(=O)NCc1ccc(C(=O)O)cc1)Cc...</td>\n      <td>54.00</td>\n      <td>0.05400</td>\n      <td>1</td>\n    </tr>\n    <tr>\n      <th>1</th>\n      <td>CHEMBL210920</td>\n      <td>O=C(NCc1ccccc1)[C@@H]1CN[C@H](C(=O)N2CCCC2)C1</td>\n      <td>1957.00</td>\n      <td>1.95700</td>\n      <td>1</td>\n    </tr>\n    <tr>\n      <th>2</th>\n      <td>CHEMBL184912</td>\n      <td>N[C@@H](CC(=O)N1CCSC1)Cc1ccc(F)cc1F</td>\n      <td>589.00</td>\n      <td>0.58900</td>\n      <td>1</td>\n    </tr>\n    <tr>\n      <th>3</th>\n      <td>CHEMBL278393</td>\n      <td>N[C@H](C(=O)N1CCCC1)C1CCCCC1</td>\n      <td>320.00</td>\n      <td>0.32000</td>\n      <td>1</td>\n    </tr>\n    <tr>\n      <th>4</th>\n      <td>CHEMBL23110</td>\n      <td>N[C@H](C(=O)N1CCC(F)(F)C1)[C@H]1CC[C@H](NC(=O)...</td>\n      <td>55.00</td>\n      <td>0.05500</td>\n      <td>1</td>\n    </tr>\n    <tr>\n      <th>...</th>\n      <td>...</td>\n      <td>...</td>\n      <td>...</td>\n      <td>...</td>\n      <td>...</td>\n    </tr>\n    <tr>\n      <th>3809</th>\n      <td>CHEMBL4249193</td>\n      <td>O=[N+]([O-])c1cccc(/C=N/N2C(c3ccccc3)=Nc3ccccc...</td>\n      <td>1.33</td>\n      <td>0.00133</td>\n      <td>1</td>\n    </tr>\n    <tr>\n      <th>3810</th>\n      <td>CHEMBL3694423</td>\n      <td>CS(=O)(=O)n1cc2c(n1)CN([C@@H]1C[C@H](N)C(c3cc(...</td>\n      <td>4.30</td>\n      <td>0.00430</td>\n      <td>1</td>\n    </tr>\n    <tr>\n      <th>3811</th>\n      <td>CHEMBL3675622</td>\n      <td>CC#CCn1c(N2CCC[C@@H](N)C2)nc2c1C(=O)N(Cc1nc(C)...</td>\n      <td>1.30</td>\n      <td>0.00130</td>\n      <td>1</td>\n    </tr>\n    <tr>\n      <th>3812</th>\n      <td>CHEMBL4213950</td>\n      <td>O=c1cc(N2CCNCC2)n(Cc2ccccc2[N+](=O)[O-])c2ccnn12</td>\n      <td>1200.00</td>\n      <td>1.20000</td>\n      <td>1</td>\n    </tr>\n    <tr>\n      <th>3813</th>\n      <td>CHEMBL4247286</td>\n      <td>O=C(N/N=C/c1c(O)ccc2ccccc12)c1n[nH]c2c1CCCC2</td>\n      <td>2120.00</td>\n      <td>2.12000</td>\n      <td>1</td>\n    </tr>\n  </tbody>\n</table>\n<p>3814 rows × 5 columns</p>\n</div>"
     },
     "metadata": {},
     "execution_count": 9
    }
   ],
   "source": [
    "# Export to csv\n",
    "readyToExport = data_rename.reset_index(drop=True)\n",
    "readyToExport.to_csv('../Data/Data Seleksi.csv')\n",
    "readyToExport"
   ]
  },
  {
   "cell_type": "code",
   "execution_count": 10,
   "metadata": {},
   "outputs": [
    {
     "output_type": "execute_result",
     "data": {
      "text/plain": [
       "1    3701\n",
       "0     113\n",
       "Name: Label, dtype: int64"
      ]
     },
     "metadata": {},
     "execution_count": 10
    }
   ],
   "source": [
    "# Menghitung nilai dari tiap value label\n",
    "data_rename['Label'].value_counts() "
   ]
  },
  {
   "cell_type": "code",
   "execution_count": null,
   "metadata": {},
   "outputs": [],
   "source": []
  }
 ]
}