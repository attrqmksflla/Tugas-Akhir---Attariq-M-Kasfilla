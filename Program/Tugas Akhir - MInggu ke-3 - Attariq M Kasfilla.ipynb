{
 "metadata": {
  "language_info": {
   "codemirror_mode": {
    "name": "ipython",
    "version": 3
   },
   "file_extension": ".py",
   "mimetype": "text/x-python",
   "name": "python",
   "nbconvert_exporter": "python",
   "pygments_lexer": "ipython3",
   "version": "3.8.3-final"
  },
  "orig_nbformat": 2,
  "kernelspec": {
   "name": "python3",
   "display_name": "Python 3.8.3 64-bit (conda)",
   "metadata": {
    "interpreter": {
     "hash": "1e8706de921fadecaa93ae4a05847bdddc580f8bb7810bd0d94867135f05b223"
    }
   }
  }
 },
 "nbformat": 4,
 "nbformat_minor": 2,
 "cells": [
  {
   "cell_type": "code",
   "execution_count": 1,
   "metadata": {},
   "outputs": [
    {
     "output_type": "execute_result",
     "data": {
      "text/plain": [
       "                     Name   ALogP    ALogp2      AMR       apol  TopoPSA\n",
       "0        AUTOGEN_smiles_1 -2.4427  5.966783  58.5798  64.881618   112.73\n",
       "1        AUTOGEN_smiles_2 -2.2658  5.133850  54.2512  50.160239    61.44\n",
       "2        AUTOGEN_smiles_3  0.2408  0.057985  47.6729  40.564688    71.63\n",
       "3        AUTOGEN_smiles_4 -2.7535  7.581762  50.6752  38.791446    46.33\n",
       "4        AUTOGEN_smiles_5 -1.4117  1.992897  62.1044  55.908239    75.43\n",
       "...                   ...     ...       ...      ...        ...      ...\n",
       "3809  AUTOGEN_smiles_3810  0.4517  0.204033  34.4106  65.346274   124.26\n",
       "3810  AUTOGEN_smiles_3811 -1.8393  3.383024  67.8468  62.463032   135.93\n",
       "3811  AUTOGEN_smiles_3812 -0.7136  0.509225  86.1764  78.892583   108.77\n",
       "3812  AUTOGEN_smiles_3813 -0.9454  0.893781  45.5899  50.928274    93.30\n",
       "3813  AUTOGEN_smiles_3814 -1.8077  3.267779  35.9975  51.446274    90.37\n",
       "\n",
       "[3814 rows x 6 columns]"
      ],
      "text/html": "<div>\n<style scoped>\n    .dataframe tbody tr th:only-of-type {\n        vertical-align: middle;\n    }\n\n    .dataframe tbody tr th {\n        vertical-align: top;\n    }\n\n    .dataframe thead th {\n        text-align: right;\n    }\n</style>\n<table border=\"1\" class=\"dataframe\">\n  <thead>\n    <tr style=\"text-align: right;\">\n      <th></th>\n      <th>Name</th>\n      <th>ALogP</th>\n      <th>ALogp2</th>\n      <th>AMR</th>\n      <th>apol</th>\n      <th>TopoPSA</th>\n    </tr>\n  </thead>\n  <tbody>\n    <tr>\n      <th>0</th>\n      <td>AUTOGEN_smiles_1</td>\n      <td>-2.4427</td>\n      <td>5.966783</td>\n      <td>58.5798</td>\n      <td>64.881618</td>\n      <td>112.73</td>\n    </tr>\n    <tr>\n      <th>1</th>\n      <td>AUTOGEN_smiles_2</td>\n      <td>-2.2658</td>\n      <td>5.133850</td>\n      <td>54.2512</td>\n      <td>50.160239</td>\n      <td>61.44</td>\n    </tr>\n    <tr>\n      <th>2</th>\n      <td>AUTOGEN_smiles_3</td>\n      <td>0.2408</td>\n      <td>0.057985</td>\n      <td>47.6729</td>\n      <td>40.564688</td>\n      <td>71.63</td>\n    </tr>\n    <tr>\n      <th>3</th>\n      <td>AUTOGEN_smiles_4</td>\n      <td>-2.7535</td>\n      <td>7.581762</td>\n      <td>50.6752</td>\n      <td>38.791446</td>\n      <td>46.33</td>\n    </tr>\n    <tr>\n      <th>4</th>\n      <td>AUTOGEN_smiles_5</td>\n      <td>-1.4117</td>\n      <td>1.992897</td>\n      <td>62.1044</td>\n      <td>55.908239</td>\n      <td>75.43</td>\n    </tr>\n    <tr>\n      <th>...</th>\n      <td>...</td>\n      <td>...</td>\n      <td>...</td>\n      <td>...</td>\n      <td>...</td>\n      <td>...</td>\n    </tr>\n    <tr>\n      <th>3809</th>\n      <td>AUTOGEN_smiles_3810</td>\n      <td>0.4517</td>\n      <td>0.204033</td>\n      <td>34.4106</td>\n      <td>65.346274</td>\n      <td>124.26</td>\n    </tr>\n    <tr>\n      <th>3810</th>\n      <td>AUTOGEN_smiles_3811</td>\n      <td>-1.8393</td>\n      <td>3.383024</td>\n      <td>67.8468</td>\n      <td>62.463032</td>\n      <td>135.93</td>\n    </tr>\n    <tr>\n      <th>3811</th>\n      <td>AUTOGEN_smiles_3812</td>\n      <td>-0.7136</td>\n      <td>0.509225</td>\n      <td>86.1764</td>\n      <td>78.892583</td>\n      <td>108.77</td>\n    </tr>\n    <tr>\n      <th>3812</th>\n      <td>AUTOGEN_smiles_3813</td>\n      <td>-0.9454</td>\n      <td>0.893781</td>\n      <td>45.5899</td>\n      <td>50.928274</td>\n      <td>93.30</td>\n    </tr>\n    <tr>\n      <th>3813</th>\n      <td>AUTOGEN_smiles_3814</td>\n      <td>-1.8077</td>\n      <td>3.267779</td>\n      <td>35.9975</td>\n      <td>51.446274</td>\n      <td>90.37</td>\n    </tr>\n  </tbody>\n</table>\n<p>3814 rows × 6 columns</p>\n</div>"
     },
     "metadata": {},
     "execution_count": 1
    }
   ],
   "source": [
    "# Import semua library\n",
    "import glob\n",
    "import pandas as pd\n",
    "from sklearn.cluster import KMeans\n",
    "import numpy as np\n",
    "\n",
    "\n",
    "# Memanggil semua data/file yang di butuhkan\n",
    "file_1 = pd.read_csv('../Data/Data Seleksi.csv') # CSV DPP-IV\n",
    "file_2 = pd.read_csv('../Data/chembl_27.smi', names=[\"Smiles\"]) # CSV CHEMBL\n",
    "padel_1 = pd.read_csv('../Data/Padel_DPPIV.csv') # CSV Padel DPP-IV\n",
    "padel_2 = pd.read_csv('../Data/Padel_CHEMBL.csv') # CSV Padel CHEMBL\n",
    "\n",
    "padel_1"
   ]
  },
  {
   "cell_type": "code",
   "execution_count": 2,
   "metadata": {},
   "outputs": [
    {
     "output_type": "execute_result",
     "data": {
      "text/plain": [
       "                                                 Smiles  Label\n",
       "0     NC(CC(=O)N1CCC[C@H]1C(=O)NCc1ccc(C(=O)O)cc1)Cc...      1\n",
       "1         O=C(NCc1ccccc1)[C@@H]1CN[C@H](C(=O)N2CCCC2)C1      1\n",
       "2                   N[C@@H](CC(=O)N1CCSC1)Cc1ccc(F)cc1F      1\n",
       "3                          N[C@H](C(=O)N1CCCC1)C1CCCCC1      1\n",
       "4     N[C@H](C(=O)N1CCC(F)(F)C1)[C@H]1CC[C@H](NC(=O)...      1\n",
       "...                                                 ...    ...\n",
       "3809  O=[N+]([O-])c1cccc(/C=N/N2C(c3ccccc3)=Nc3ccccc...      1\n",
       "3810  CS(=O)(=O)n1cc2c(n1)CN([C@@H]1C[C@H](N)C(c3cc(...      1\n",
       "3811  CC#CCn1c(N2CCC[C@@H](N)C2)nc2c1C(=O)N(Cc1nc(C)...      1\n",
       "3812   O=c1cc(N2CCNCC2)n(Cc2ccccc2[N+](=O)[O-])c2ccnn12      1\n",
       "3813       O=C(N/N=C/c1c(O)ccc2ccccc12)c1n[nH]c2c1CCCC2      1\n",
       "\n",
       "[3814 rows x 2 columns]"
      ],
      "text/html": "<div>\n<style scoped>\n    .dataframe tbody tr th:only-of-type {\n        vertical-align: middle;\n    }\n\n    .dataframe tbody tr th {\n        vertical-align: top;\n    }\n\n    .dataframe thead th {\n        text-align: right;\n    }\n</style>\n<table border=\"1\" class=\"dataframe\">\n  <thead>\n    <tr style=\"text-align: right;\">\n      <th></th>\n      <th>Smiles</th>\n      <th>Label</th>\n    </tr>\n  </thead>\n  <tbody>\n    <tr>\n      <th>0</th>\n      <td>NC(CC(=O)N1CCC[C@H]1C(=O)NCc1ccc(C(=O)O)cc1)Cc...</td>\n      <td>1</td>\n    </tr>\n    <tr>\n      <th>1</th>\n      <td>O=C(NCc1ccccc1)[C@@H]1CN[C@H](C(=O)N2CCCC2)C1</td>\n      <td>1</td>\n    </tr>\n    <tr>\n      <th>2</th>\n      <td>N[C@@H](CC(=O)N1CCSC1)Cc1ccc(F)cc1F</td>\n      <td>1</td>\n    </tr>\n    <tr>\n      <th>3</th>\n      <td>N[C@H](C(=O)N1CCCC1)C1CCCCC1</td>\n      <td>1</td>\n    </tr>\n    <tr>\n      <th>4</th>\n      <td>N[C@H](C(=O)N1CCC(F)(F)C1)[C@H]1CC[C@H](NC(=O)...</td>\n      <td>1</td>\n    </tr>\n    <tr>\n      <th>...</th>\n      <td>...</td>\n      <td>...</td>\n    </tr>\n    <tr>\n      <th>3809</th>\n      <td>O=[N+]([O-])c1cccc(/C=N/N2C(c3ccccc3)=Nc3ccccc...</td>\n      <td>1</td>\n    </tr>\n    <tr>\n      <th>3810</th>\n      <td>CS(=O)(=O)n1cc2c(n1)CN([C@@H]1C[C@H](N)C(c3cc(...</td>\n      <td>1</td>\n    </tr>\n    <tr>\n      <th>3811</th>\n      <td>CC#CCn1c(N2CCC[C@@H](N)C2)nc2c1C(=O)N(Cc1nc(C)...</td>\n      <td>1</td>\n    </tr>\n    <tr>\n      <th>3812</th>\n      <td>O=c1cc(N2CCNCC2)n(Cc2ccccc2[N+](=O)[O-])c2ccnn12</td>\n      <td>1</td>\n    </tr>\n    <tr>\n      <th>3813</th>\n      <td>O=C(N/N=C/c1c(O)ccc2ccccc12)c1n[nH]c2c1CCCC2</td>\n      <td>1</td>\n    </tr>\n  </tbody>\n</table>\n<p>3814 rows × 2 columns</p>\n</div>"
     },
     "metadata": {},
     "execution_count": 2
    }
   ],
   "source": [
    "# Mengambil kolom smiles dan label \n",
    "file_1 = file_1[[\"Smiles\", \"Label\"]]\n",
    "file_1"
   ]
  },
  {
   "cell_type": "code",
   "execution_count": 3,
   "metadata": {},
   "outputs": [
    {
     "output_type": "execute_result",
     "data": {
      "text/plain": [
       "                                                 Smiles  Label   ALogP  \\\n",
       "0     NC(CC(=O)N1CCC[C@H]1C(=O)NCc1ccc(C(=O)O)cc1)Cc...      1 -2.4427   \n",
       "1         O=C(NCc1ccccc1)[C@@H]1CN[C@H](C(=O)N2CCCC2)C1      1 -2.2658   \n",
       "2                   N[C@@H](CC(=O)N1CCSC1)Cc1ccc(F)cc1F      1  0.2408   \n",
       "3                          N[C@H](C(=O)N1CCCC1)C1CCCCC1      1 -2.7535   \n",
       "4     N[C@H](C(=O)N1CCC(F)(F)C1)[C@H]1CC[C@H](NC(=O)...      1 -1.4117   \n",
       "...                                                 ...    ...     ...   \n",
       "3809  O=[N+]([O-])c1cccc(/C=N/N2C(c3ccccc3)=Nc3ccccc...      1  0.4517   \n",
       "3810  CS(=O)(=O)n1cc2c(n1)CN([C@@H]1C[C@H](N)C(c3cc(...      1 -1.8393   \n",
       "3811  CC#CCn1c(N2CCC[C@@H](N)C2)nc2c1C(=O)N(Cc1nc(C)...      1 -0.7136   \n",
       "3812   O=c1cc(N2CCNCC2)n(Cc2ccccc2[N+](=O)[O-])c2ccnn12      1 -0.9454   \n",
       "3813       O=C(N/N=C/c1c(O)ccc2ccccc12)c1n[nH]c2c1CCCC2      1 -1.8077   \n",
       "\n",
       "        ALogp2      AMR       apol  TopoPSA  \n",
       "0     5.966783  58.5798  64.881618   112.73  \n",
       "1     5.133850  54.2512  50.160239    61.44  \n",
       "2     0.057985  47.6729  40.564688    71.63  \n",
       "3     7.581762  50.6752  38.791446    46.33  \n",
       "4     1.992897  62.1044  55.908239    75.43  \n",
       "...        ...      ...        ...      ...  \n",
       "3809  0.204033  34.4106  65.346274   124.26  \n",
       "3810  3.383024  67.8468  62.463032   135.93  \n",
       "3811  0.509225  86.1764  78.892583   108.77  \n",
       "3812  0.893781  45.5899  50.928274    93.30  \n",
       "3813  3.267779  35.9975  51.446274    90.37  \n",
       "\n",
       "[3814 rows x 7 columns]"
      ],
      "text/html": "<div>\n<style scoped>\n    .dataframe tbody tr th:only-of-type {\n        vertical-align: middle;\n    }\n\n    .dataframe tbody tr th {\n        vertical-align: top;\n    }\n\n    .dataframe thead th {\n        text-align: right;\n    }\n</style>\n<table border=\"1\" class=\"dataframe\">\n  <thead>\n    <tr style=\"text-align: right;\">\n      <th></th>\n      <th>Smiles</th>\n      <th>Label</th>\n      <th>ALogP</th>\n      <th>ALogp2</th>\n      <th>AMR</th>\n      <th>apol</th>\n      <th>TopoPSA</th>\n    </tr>\n  </thead>\n  <tbody>\n    <tr>\n      <th>0</th>\n      <td>NC(CC(=O)N1CCC[C@H]1C(=O)NCc1ccc(C(=O)O)cc1)Cc...</td>\n      <td>1</td>\n      <td>-2.4427</td>\n      <td>5.966783</td>\n      <td>58.5798</td>\n      <td>64.881618</td>\n      <td>112.73</td>\n    </tr>\n    <tr>\n      <th>1</th>\n      <td>O=C(NCc1ccccc1)[C@@H]1CN[C@H](C(=O)N2CCCC2)C1</td>\n      <td>1</td>\n      <td>-2.2658</td>\n      <td>5.133850</td>\n      <td>54.2512</td>\n      <td>50.160239</td>\n      <td>61.44</td>\n    </tr>\n    <tr>\n      <th>2</th>\n      <td>N[C@@H](CC(=O)N1CCSC1)Cc1ccc(F)cc1F</td>\n      <td>1</td>\n      <td>0.2408</td>\n      <td>0.057985</td>\n      <td>47.6729</td>\n      <td>40.564688</td>\n      <td>71.63</td>\n    </tr>\n    <tr>\n      <th>3</th>\n      <td>N[C@H](C(=O)N1CCCC1)C1CCCCC1</td>\n      <td>1</td>\n      <td>-2.7535</td>\n      <td>7.581762</td>\n      <td>50.6752</td>\n      <td>38.791446</td>\n      <td>46.33</td>\n    </tr>\n    <tr>\n      <th>4</th>\n      <td>N[C@H](C(=O)N1CCC(F)(F)C1)[C@H]1CC[C@H](NC(=O)...</td>\n      <td>1</td>\n      <td>-1.4117</td>\n      <td>1.992897</td>\n      <td>62.1044</td>\n      <td>55.908239</td>\n      <td>75.43</td>\n    </tr>\n    <tr>\n      <th>...</th>\n      <td>...</td>\n      <td>...</td>\n      <td>...</td>\n      <td>...</td>\n      <td>...</td>\n      <td>...</td>\n      <td>...</td>\n    </tr>\n    <tr>\n      <th>3809</th>\n      <td>O=[N+]([O-])c1cccc(/C=N/N2C(c3ccccc3)=Nc3ccccc...</td>\n      <td>1</td>\n      <td>0.4517</td>\n      <td>0.204033</td>\n      <td>34.4106</td>\n      <td>65.346274</td>\n      <td>124.26</td>\n    </tr>\n    <tr>\n      <th>3810</th>\n      <td>CS(=O)(=O)n1cc2c(n1)CN([C@@H]1C[C@H](N)C(c3cc(...</td>\n      <td>1</td>\n      <td>-1.8393</td>\n      <td>3.383024</td>\n      <td>67.8468</td>\n      <td>62.463032</td>\n      <td>135.93</td>\n    </tr>\n    <tr>\n      <th>3811</th>\n      <td>CC#CCn1c(N2CCC[C@@H](N)C2)nc2c1C(=O)N(Cc1nc(C)...</td>\n      <td>1</td>\n      <td>-0.7136</td>\n      <td>0.509225</td>\n      <td>86.1764</td>\n      <td>78.892583</td>\n      <td>108.77</td>\n    </tr>\n    <tr>\n      <th>3812</th>\n      <td>O=c1cc(N2CCNCC2)n(Cc2ccccc2[N+](=O)[O-])c2ccnn12</td>\n      <td>1</td>\n      <td>-0.9454</td>\n      <td>0.893781</td>\n      <td>45.5899</td>\n      <td>50.928274</td>\n      <td>93.30</td>\n    </tr>\n    <tr>\n      <th>3813</th>\n      <td>O=C(N/N=C/c1c(O)ccc2ccccc12)c1n[nH]c2c1CCCC2</td>\n      <td>1</td>\n      <td>-1.8077</td>\n      <td>3.267779</td>\n      <td>35.9975</td>\n      <td>51.446274</td>\n      <td>90.37</td>\n    </tr>\n  </tbody>\n</table>\n<p>3814 rows × 7 columns</p>\n</div>"
     },
     "metadata": {},
     "execution_count": 3
    }
   ],
   "source": [
    "# Memasukan nilai descriptor pada csv DPP-IV\n",
    "file_1[\"ALogP\"] = padel_1.ALogP # add column ALogP\n",
    "file_1[\"ALogp2\"] = padel_1.ALogp2 # add column ALogp2\n",
    "file_1[\"AMR\"] = padel_1.AMR # add column AMR\n",
    "file_1[\"apol\"] = padel_1.apol # add column apol\n",
    "file_1[\"TopoPSA\"] = padel_1.TopoPSA # add column TopoPSA\n",
    "file_1"
   ]
  },
  {
   "cell_type": "code",
   "execution_count": 4,
   "metadata": {},
   "outputs": [
    {
     "output_type": "execute_result",
     "data": {
      "text/plain": [
       "                                                    Smiles  Label   ALogP  \\\n",
       "0                   Brc1cccc(Nc2ncnc3ccncc23)c1NCCN1CCOCC1     -1 -0.0233   \n",
       "1                     COc1c(O)cc(O)c(C(=N)Cc2ccc(O)cc2)c1O     -1 -1.9638   \n",
       "2                         CCOC(=O)c1cc2cc(C(=O)O)ccc2[nH]1     -1 -0.3986   \n",
       "3        CC(=O)O[C@H]1/C(C)=C\\[C@@H]2OC(=O)[C@]3(C)O[C@...     -1 -0.1488   \n",
       "4        C[C@H](NC(=O)OCc1ccccc1)C(=O)N[C@@H](C)C(=O)NN...     -1 -3.6904   \n",
       "...                                                    ...    ...     ...   \n",
       "1667412  CC(=O)[C@H]1CC[C@H]2[C@@H]3CCC4=CC(=O)C=C[C@]4...     -1  0.5237   \n",
       "1667413                            CC(C)=CCC/C(C)=C\\C(N)=O     -1  2.0469   \n",
       "1667414               CCOC(=O)C(C#N)C(=N)C1C(=O)OC2CCCCC21     -1 -1.1547   \n",
       "1667415  c1ccc(C2CC(C3CC(c4ccccc4)OC(c4ccccc4)C3)CC(c3c...     -1 -0.0996   \n",
       "1667416  C[n+]1cn([C@@H]2O[C@H](CO[P@@](=O)(S)OP(=O)(O)...     -1 -3.9888   \n",
       "\n",
       "            ALogp2       AMR       apol  TopoPSA  \n",
       "0         0.000543   47.9894  57.894653    75.20  \n",
       "1         3.856510   28.7265  41.511895   114.00  \n",
       "2         0.158882   26.8015  32.762723    79.39  \n",
       "3         0.022141  135.2805  83.710548   184.49  \n",
       "4        13.619052   96.5485  89.288962   206.52  \n",
       "...            ...       ...        ...      ...  \n",
       "1667412   0.274262   93.3634  56.702618    51.21  \n",
       "1667413   4.189800   51.3869  30.837481    43.09  \n",
       "1667414   1.333332   62.0061  42.050274   100.24  \n",
       "1667415   0.009920   40.2426  84.114962    18.46  \n",
       "1667416  15.910525  100.7119  63.078653   335.42  \n",
       "\n",
       "[1667417 rows x 7 columns]"
      ],
      "text/html": "<div>\n<style scoped>\n    .dataframe tbody tr th:only-of-type {\n        vertical-align: middle;\n    }\n\n    .dataframe tbody tr th {\n        vertical-align: top;\n    }\n\n    .dataframe thead th {\n        text-align: right;\n    }\n</style>\n<table border=\"1\" class=\"dataframe\">\n  <thead>\n    <tr style=\"text-align: right;\">\n      <th></th>\n      <th>Smiles</th>\n      <th>Label</th>\n      <th>ALogP</th>\n      <th>ALogp2</th>\n      <th>AMR</th>\n      <th>apol</th>\n      <th>TopoPSA</th>\n    </tr>\n  </thead>\n  <tbody>\n    <tr>\n      <th>0</th>\n      <td>Brc1cccc(Nc2ncnc3ccncc23)c1NCCN1CCOCC1</td>\n      <td>-1</td>\n      <td>-0.0233</td>\n      <td>0.000543</td>\n      <td>47.9894</td>\n      <td>57.894653</td>\n      <td>75.20</td>\n    </tr>\n    <tr>\n      <th>1</th>\n      <td>COc1c(O)cc(O)c(C(=N)Cc2ccc(O)cc2)c1O</td>\n      <td>-1</td>\n      <td>-1.9638</td>\n      <td>3.856510</td>\n      <td>28.7265</td>\n      <td>41.511895</td>\n      <td>114.00</td>\n    </tr>\n    <tr>\n      <th>2</th>\n      <td>CCOC(=O)c1cc2cc(C(=O)O)ccc2[nH]1</td>\n      <td>-1</td>\n      <td>-0.3986</td>\n      <td>0.158882</td>\n      <td>26.8015</td>\n      <td>32.762723</td>\n      <td>79.39</td>\n    </tr>\n    <tr>\n      <th>3</th>\n      <td>CC(=O)O[C@H]1/C(C)=C\\[C@@H]2OC(=O)[C@]3(C)O[C@...</td>\n      <td>-1</td>\n      <td>-0.1488</td>\n      <td>0.022141</td>\n      <td>135.2805</td>\n      <td>83.710548</td>\n      <td>184.49</td>\n    </tr>\n    <tr>\n      <th>4</th>\n      <td>C[C@H](NC(=O)OCc1ccccc1)C(=O)N[C@@H](C)C(=O)NN...</td>\n      <td>-1</td>\n      <td>-3.6904</td>\n      <td>13.619052</td>\n      <td>96.5485</td>\n      <td>89.288962</td>\n      <td>206.52</td>\n    </tr>\n    <tr>\n      <th>...</th>\n      <td>...</td>\n      <td>...</td>\n      <td>...</td>\n      <td>...</td>\n      <td>...</td>\n      <td>...</td>\n      <td>...</td>\n    </tr>\n    <tr>\n      <th>1667412</th>\n      <td>CC(=O)[C@H]1CC[C@H]2[C@@H]3CCC4=CC(=O)C=C[C@]4...</td>\n      <td>-1</td>\n      <td>0.5237</td>\n      <td>0.274262</td>\n      <td>93.3634</td>\n      <td>56.702618</td>\n      <td>51.21</td>\n    </tr>\n    <tr>\n      <th>1667413</th>\n      <td>CC(C)=CCC/C(C)=C\\C(N)=O</td>\n      <td>-1</td>\n      <td>2.0469</td>\n      <td>4.189800</td>\n      <td>51.3869</td>\n      <td>30.837481</td>\n      <td>43.09</td>\n    </tr>\n    <tr>\n      <th>1667414</th>\n      <td>CCOC(=O)C(C#N)C(=N)C1C(=O)OC2CCCCC21</td>\n      <td>-1</td>\n      <td>-1.1547</td>\n      <td>1.333332</td>\n      <td>62.0061</td>\n      <td>42.050274</td>\n      <td>100.24</td>\n    </tr>\n    <tr>\n      <th>1667415</th>\n      <td>c1ccc(C2CC(C3CC(c4ccccc4)OC(c4ccccc4)C3)CC(c3c...</td>\n      <td>-1</td>\n      <td>-0.0996</td>\n      <td>0.009920</td>\n      <td>40.2426</td>\n      <td>84.114962</td>\n      <td>18.46</td>\n    </tr>\n    <tr>\n      <th>1667416</th>\n      <td>C[n+]1cn([C@@H]2O[C@H](CO[P@@](=O)(S)OP(=O)(O)...</td>\n      <td>-1</td>\n      <td>-3.9888</td>\n      <td>15.910525</td>\n      <td>100.7119</td>\n      <td>63.078653</td>\n      <td>335.42</td>\n    </tr>\n  </tbody>\n</table>\n<p>1667417 rows × 7 columns</p>\n</div>"
     },
     "metadata": {},
     "execution_count": 4
    }
   ],
   "source": [
    "# Memasukan nilai label -1 & nilai descriptor pada csv CHEMBL\n",
    "file_2[\"Label\"] = -1 # add label set to -1\n",
    "file_2[\"ALogP\"] = padel_2.ALogP # add column ALogP\n",
    "file_2[\"ALogp2\"] = padel_2.ALogp2 # add column ALogp2\n",
    "file_2[\"AMR\"] = padel_2.AMR # add column AMR\n",
    "file_2[\"apol\"] = padel_2.apol # add column apol\n",
    "file_2[\"TopoPSA\"] = padel_2.TopoPSA # add column TopoPSA\n",
    "file_2"
   ]
  },
  {
   "cell_type": "code",
   "execution_count": 5,
   "metadata": {},
   "outputs": [
    {
     "output_type": "execute_result",
     "data": {
      "text/plain": [
       "                                                    Smiles  Label   ALogP  \\\n",
       "0        NC(CC(=O)N1CCC[C@H]1C(=O)NCc1ccc(C(=O)O)cc1)Cc...      1 -2.4427   \n",
       "1            O=C(NCc1ccccc1)[C@@H]1CN[C@H](C(=O)N2CCCC2)C1      1 -2.2658   \n",
       "2                      N[C@@H](CC(=O)N1CCSC1)Cc1ccc(F)cc1F      1  0.2408   \n",
       "3                             N[C@H](C(=O)N1CCCC1)C1CCCCC1      1 -2.7535   \n",
       "4        N[C@H](C(=O)N1CCC(F)(F)C1)[C@H]1CC[C@H](NC(=O)...      1 -1.4117   \n",
       "...                                                    ...    ...     ...   \n",
       "1667412  CC(=O)[C@H]1CC[C@H]2[C@@H]3CCC4=CC(=O)C=C[C@]4...     -1  0.5237   \n",
       "1667413                            CC(C)=CCC/C(C)=C\\C(N)=O     -1  2.0469   \n",
       "1667414               CCOC(=O)C(C#N)C(=N)C1C(=O)OC2CCCCC21     -1 -1.1547   \n",
       "1667415  c1ccc(C2CC(C3CC(c4ccccc4)OC(c4ccccc4)C3)CC(c3c...     -1 -0.0996   \n",
       "1667416  C[n+]1cn([C@@H]2O[C@H](CO[P@@](=O)(S)OP(=O)(O)...     -1 -3.9888   \n",
       "\n",
       "            ALogp2       AMR       apol  TopoPSA  \n",
       "0         5.966783   58.5798  64.881618   112.73  \n",
       "1         5.133850   54.2512  50.160239    61.44  \n",
       "2         0.057985   47.6729  40.564688    71.63  \n",
       "3         7.581762   50.6752  38.791446    46.33  \n",
       "4         1.992897   62.1044  55.908239    75.43  \n",
       "...            ...       ...        ...      ...  \n",
       "1667412   0.274262   93.3634  56.702618    51.21  \n",
       "1667413   4.189800   51.3869  30.837481    43.09  \n",
       "1667414   1.333332   62.0061  42.050274   100.24  \n",
       "1667415   0.009920   40.2426  84.114962    18.46  \n",
       "1667416  15.910525  100.7119  63.078653   335.42  \n",
       "\n",
       "[1671231 rows x 7 columns]"
      ],
      "text/html": "<div>\n<style scoped>\n    .dataframe tbody tr th:only-of-type {\n        vertical-align: middle;\n    }\n\n    .dataframe tbody tr th {\n        vertical-align: top;\n    }\n\n    .dataframe thead th {\n        text-align: right;\n    }\n</style>\n<table border=\"1\" class=\"dataframe\">\n  <thead>\n    <tr style=\"text-align: right;\">\n      <th></th>\n      <th>Smiles</th>\n      <th>Label</th>\n      <th>ALogP</th>\n      <th>ALogp2</th>\n      <th>AMR</th>\n      <th>apol</th>\n      <th>TopoPSA</th>\n    </tr>\n  </thead>\n  <tbody>\n    <tr>\n      <th>0</th>\n      <td>NC(CC(=O)N1CCC[C@H]1C(=O)NCc1ccc(C(=O)O)cc1)Cc...</td>\n      <td>1</td>\n      <td>-2.4427</td>\n      <td>5.966783</td>\n      <td>58.5798</td>\n      <td>64.881618</td>\n      <td>112.73</td>\n    </tr>\n    <tr>\n      <th>1</th>\n      <td>O=C(NCc1ccccc1)[C@@H]1CN[C@H](C(=O)N2CCCC2)C1</td>\n      <td>1</td>\n      <td>-2.2658</td>\n      <td>5.133850</td>\n      <td>54.2512</td>\n      <td>50.160239</td>\n      <td>61.44</td>\n    </tr>\n    <tr>\n      <th>2</th>\n      <td>N[C@@H](CC(=O)N1CCSC1)Cc1ccc(F)cc1F</td>\n      <td>1</td>\n      <td>0.2408</td>\n      <td>0.057985</td>\n      <td>47.6729</td>\n      <td>40.564688</td>\n      <td>71.63</td>\n    </tr>\n    <tr>\n      <th>3</th>\n      <td>N[C@H](C(=O)N1CCCC1)C1CCCCC1</td>\n      <td>1</td>\n      <td>-2.7535</td>\n      <td>7.581762</td>\n      <td>50.6752</td>\n      <td>38.791446</td>\n      <td>46.33</td>\n    </tr>\n    <tr>\n      <th>4</th>\n      <td>N[C@H](C(=O)N1CCC(F)(F)C1)[C@H]1CC[C@H](NC(=O)...</td>\n      <td>1</td>\n      <td>-1.4117</td>\n      <td>1.992897</td>\n      <td>62.1044</td>\n      <td>55.908239</td>\n      <td>75.43</td>\n    </tr>\n    <tr>\n      <th>...</th>\n      <td>...</td>\n      <td>...</td>\n      <td>...</td>\n      <td>...</td>\n      <td>...</td>\n      <td>...</td>\n      <td>...</td>\n    </tr>\n    <tr>\n      <th>1667412</th>\n      <td>CC(=O)[C@H]1CC[C@H]2[C@@H]3CCC4=CC(=O)C=C[C@]4...</td>\n      <td>-1</td>\n      <td>0.5237</td>\n      <td>0.274262</td>\n      <td>93.3634</td>\n      <td>56.702618</td>\n      <td>51.21</td>\n    </tr>\n    <tr>\n      <th>1667413</th>\n      <td>CC(C)=CCC/C(C)=C\\C(N)=O</td>\n      <td>-1</td>\n      <td>2.0469</td>\n      <td>4.189800</td>\n      <td>51.3869</td>\n      <td>30.837481</td>\n      <td>43.09</td>\n    </tr>\n    <tr>\n      <th>1667414</th>\n      <td>CCOC(=O)C(C#N)C(=N)C1C(=O)OC2CCCCC21</td>\n      <td>-1</td>\n      <td>-1.1547</td>\n      <td>1.333332</td>\n      <td>62.0061</td>\n      <td>42.050274</td>\n      <td>100.24</td>\n    </tr>\n    <tr>\n      <th>1667415</th>\n      <td>c1ccc(C2CC(C3CC(c4ccccc4)OC(c4ccccc4)C3)CC(c3c...</td>\n      <td>-1</td>\n      <td>-0.0996</td>\n      <td>0.009920</td>\n      <td>40.2426</td>\n      <td>84.114962</td>\n      <td>18.46</td>\n    </tr>\n    <tr>\n      <th>1667416</th>\n      <td>C[n+]1cn([C@@H]2O[C@H](CO[P@@](=O)(S)OP(=O)(O)...</td>\n      <td>-1</td>\n      <td>-3.9888</td>\n      <td>15.910525</td>\n      <td>100.7119</td>\n      <td>63.078653</td>\n      <td>335.42</td>\n    </tr>\n  </tbody>\n</table>\n<p>1671231 rows × 7 columns</p>\n</div>"
     },
     "metadata": {},
     "execution_count": 5
    }
   ],
   "source": [
    "# Menggabungkan semua data kedalam 1 dataframes\n",
    "final_data = pd.concat([file_1, file_2])\n",
    "final_data"
   ]
  },
  {
   "cell_type": "code",
   "execution_count": 6,
   "metadata": {},
   "outputs": [
    {
     "output_type": "execute_result",
     "data": {
      "text/plain": [
       "Smiles     0\n",
       "Label      0\n",
       "ALogP      0\n",
       "ALogp2     0\n",
       "AMR        0\n",
       "apol       0\n",
       "TopoPSA    0\n",
       "dtype: int64"
      ]
     },
     "metadata": {},
     "execution_count": 6
    }
   ],
   "source": [
    "final_data.dropna(inplace=True)\n",
    "final_data\n",
    "final_data.isna().sum()"
   ]
  },
  {
   "cell_type": "code",
   "execution_count": 7,
   "metadata": {},
   "outputs": [
    {
     "output_type": "execute_result",
     "data": {
      "text/plain": [
       "array([16, 14, 10, ..., 16,  2, 15])"
      ]
     },
     "metadata": {},
     "execution_count": 7
    }
   ],
   "source": [
    "# Clustering menggunakan k-means\n",
    "X = final_data.iloc[:,2:].values\n",
    "\n",
    "# list_alogp, list_alogp2, list_amr, list_apol, list_topopsa = [], [], [], [], []\n",
    "\n",
    "# list_alogp = final_data['ALogP'].tolist()\n",
    "# list_alogp2 = final_data['ALogp2'].tolist()\n",
    "# list_amr = final_data['AMR'].tolist()\n",
    "# list_apol = final_data['apol'].tolist()\n",
    "# list_topopsa = final_data['TopoPSA'].tolist()\n",
    "\n",
    "# total_row = len(final_data.index)\n",
    "# # X = np.array([len(final_data.index),(final_data[['ALogP', 'ALogp2', 'AMR', 'apol', 'TopoPSA']])])\n",
    "# # X = np.array([[total_row, list_alogp], [total_row, list_alogp2], [total_row, list_amr], [total_row, list_apol], [total_row, list_topopsa]])\n",
    "# # X = np.array([[list_alogp], [list_alogp2], [list_amr], [list_apol], [list_topopsa]])\n",
    "# X = np.array([total_row, list_alogp], dtype=object)\n",
    "kmeans = KMeans(n_clusters=20, random_state=10).fit(X)\n",
    "final_data['Cluster'] = kmeans.labels_\n",
    "kmeans.predict(X)"
   ]
  },
  {
   "cell_type": "code",
   "execution_count": 8,
   "metadata": {},
   "outputs": [
    {
     "output_type": "execute_result",
     "data": {
      "text/plain": [
       "                                                    Smiles  Label   ALogP  \\\n",
       "0        NC(CC(=O)N1CCC[C@H]1C(=O)NCc1ccc(C(=O)O)cc1)Cc...      1 -2.4427   \n",
       "1            O=C(NCc1ccccc1)[C@@H]1CN[C@H](C(=O)N2CCCC2)C1      1 -2.2658   \n",
       "2                      N[C@@H](CC(=O)N1CCSC1)Cc1ccc(F)cc1F      1  0.2408   \n",
       "3                             N[C@H](C(=O)N1CCCC1)C1CCCCC1      1 -2.7535   \n",
       "4        N[C@H](C(=O)N1CCC(F)(F)C1)[C@H]1CC[C@H](NC(=O)...      1 -1.4117   \n",
       "...                                                    ...    ...     ...   \n",
       "1667412  CC(=O)[C@H]1CC[C@H]2[C@@H]3CCC4=CC(=O)C=C[C@]4...     -1  0.5237   \n",
       "1667413                            CC(C)=CCC/C(C)=C\\C(N)=O     -1  2.0469   \n",
       "1667414               CCOC(=O)C(C#N)C(=N)C1C(=O)OC2CCCCC21     -1 -1.1547   \n",
       "1667415  c1ccc(C2CC(C3CC(c4ccccc4)OC(c4ccccc4)C3)CC(c3c...     -1 -0.0996   \n",
       "1667416  C[n+]1cn([C@@H]2O[C@H](CO[P@@](=O)(S)OP(=O)(O)...     -1 -3.9888   \n",
       "\n",
       "            ALogp2       AMR       apol  TopoPSA  Cluster  \n",
       "0         5.966783   58.5798  64.881618   112.73       16  \n",
       "1         5.133850   54.2512  50.160239    61.44       14  \n",
       "2         0.057985   47.6729  40.564688    71.63       10  \n",
       "3         7.581762   50.6752  38.791446    46.33       14  \n",
       "4         1.992897   62.1044  55.908239    75.43       12  \n",
       "...            ...       ...        ...      ...      ...  \n",
       "1667412   0.274262   93.3634  56.702618    51.21        9  \n",
       "1667413   4.189800   51.3869  30.837481    43.09        5  \n",
       "1667414   1.333332   62.0061  42.050274   100.24       16  \n",
       "1667415   0.009920   40.2426  84.114962    18.46        2  \n",
       "1667416  15.910525  100.7119  63.078653   335.42       15  \n",
       "\n",
       "[1671192 rows x 8 columns]"
      ],
      "text/html": "<div>\n<style scoped>\n    .dataframe tbody tr th:only-of-type {\n        vertical-align: middle;\n    }\n\n    .dataframe tbody tr th {\n        vertical-align: top;\n    }\n\n    .dataframe thead th {\n        text-align: right;\n    }\n</style>\n<table border=\"1\" class=\"dataframe\">\n  <thead>\n    <tr style=\"text-align: right;\">\n      <th></th>\n      <th>Smiles</th>\n      <th>Label</th>\n      <th>ALogP</th>\n      <th>ALogp2</th>\n      <th>AMR</th>\n      <th>apol</th>\n      <th>TopoPSA</th>\n      <th>Cluster</th>\n    </tr>\n  </thead>\n  <tbody>\n    <tr>\n      <th>0</th>\n      <td>NC(CC(=O)N1CCC[C@H]1C(=O)NCc1ccc(C(=O)O)cc1)Cc...</td>\n      <td>1</td>\n      <td>-2.4427</td>\n      <td>5.966783</td>\n      <td>58.5798</td>\n      <td>64.881618</td>\n      <td>112.73</td>\n      <td>16</td>\n    </tr>\n    <tr>\n      <th>1</th>\n      <td>O=C(NCc1ccccc1)[C@@H]1CN[C@H](C(=O)N2CCCC2)C1</td>\n      <td>1</td>\n      <td>-2.2658</td>\n      <td>5.133850</td>\n      <td>54.2512</td>\n      <td>50.160239</td>\n      <td>61.44</td>\n      <td>14</td>\n    </tr>\n    <tr>\n      <th>2</th>\n      <td>N[C@@H](CC(=O)N1CCSC1)Cc1ccc(F)cc1F</td>\n      <td>1</td>\n      <td>0.2408</td>\n      <td>0.057985</td>\n      <td>47.6729</td>\n      <td>40.564688</td>\n      <td>71.63</td>\n      <td>10</td>\n    </tr>\n    <tr>\n      <th>3</th>\n      <td>N[C@H](C(=O)N1CCCC1)C1CCCCC1</td>\n      <td>1</td>\n      <td>-2.7535</td>\n      <td>7.581762</td>\n      <td>50.6752</td>\n      <td>38.791446</td>\n      <td>46.33</td>\n      <td>14</td>\n    </tr>\n    <tr>\n      <th>4</th>\n      <td>N[C@H](C(=O)N1CCC(F)(F)C1)[C@H]1CC[C@H](NC(=O)...</td>\n      <td>1</td>\n      <td>-1.4117</td>\n      <td>1.992897</td>\n      <td>62.1044</td>\n      <td>55.908239</td>\n      <td>75.43</td>\n      <td>12</td>\n    </tr>\n    <tr>\n      <th>...</th>\n      <td>...</td>\n      <td>...</td>\n      <td>...</td>\n      <td>...</td>\n      <td>...</td>\n      <td>...</td>\n      <td>...</td>\n      <td>...</td>\n    </tr>\n    <tr>\n      <th>1667412</th>\n      <td>CC(=O)[C@H]1CC[C@H]2[C@@H]3CCC4=CC(=O)C=C[C@]4...</td>\n      <td>-1</td>\n      <td>0.5237</td>\n      <td>0.274262</td>\n      <td>93.3634</td>\n      <td>56.702618</td>\n      <td>51.21</td>\n      <td>9</td>\n    </tr>\n    <tr>\n      <th>1667413</th>\n      <td>CC(C)=CCC/C(C)=C\\C(N)=O</td>\n      <td>-1</td>\n      <td>2.0469</td>\n      <td>4.189800</td>\n      <td>51.3869</td>\n      <td>30.837481</td>\n      <td>43.09</td>\n      <td>5</td>\n    </tr>\n    <tr>\n      <th>1667414</th>\n      <td>CCOC(=O)C(C#N)C(=N)C1C(=O)OC2CCCCC21</td>\n      <td>-1</td>\n      <td>-1.1547</td>\n      <td>1.333332</td>\n      <td>62.0061</td>\n      <td>42.050274</td>\n      <td>100.24</td>\n      <td>16</td>\n    </tr>\n    <tr>\n      <th>1667415</th>\n      <td>c1ccc(C2CC(C3CC(c4ccccc4)OC(c4ccccc4)C3)CC(c3c...</td>\n      <td>-1</td>\n      <td>-0.0996</td>\n      <td>0.009920</td>\n      <td>40.2426</td>\n      <td>84.114962</td>\n      <td>18.46</td>\n      <td>2</td>\n    </tr>\n    <tr>\n      <th>1667416</th>\n      <td>C[n+]1cn([C@@H]2O[C@H](CO[P@@](=O)(S)OP(=O)(O)...</td>\n      <td>-1</td>\n      <td>-3.9888</td>\n      <td>15.910525</td>\n      <td>100.7119</td>\n      <td>63.078653</td>\n      <td>335.42</td>\n      <td>15</td>\n    </tr>\n  </tbody>\n</table>\n<p>1671192 rows × 8 columns</p>\n</div>"
     },
     "metadata": {},
     "execution_count": 8
    }
   ],
   "source": [
    "final_data"
   ]
  },
  {
   "cell_type": "code",
   "execution_count": 9,
   "metadata": {},
   "outputs": [
    {
     "output_type": "stream",
     "name": "stdout",
     "text": [
      "[16, 14, 10, 12, 0, 13, 8, 18, 2, 1, 11, 3, 9, 6, 17, 5, 4, 15, 19]\n"
     ]
    }
   ],
   "source": [
    "# Mencari cluster berapa yang tidak memiliki Label = 1\n",
    "list_cluster = []\n",
    "for x in range(len(final_data)):\n",
    "    if final_data.iloc[x, 1] == 1:\n",
    "        list_cluster.append(final_data.iloc[x, 7])\n",
    "    elif final_data.iloc[x, 1] == -1:\n",
    "        break\n",
    "\n",
    "list_cluster = list(dict.fromkeys(list_cluster))\n",
    "print(list_cluster)"
   ]
  },
  {
   "cell_type": "code",
   "execution_count": 10,
   "metadata": {},
   "outputs": [
    {
     "output_type": "stream",
     "name": "stdout",
     "text": [
      "Cluster yang tidak ada 1 nya adalah :  7\n"
     ]
    }
   ],
   "source": [
    "list_cluster.sort()\n",
    "for x in range(len(list_cluster)):\n",
    "    if x != list_cluster[x]:\n",
    "        cluster_for_min1 = x\n",
    "        break\n",
    "print(\"Cluster yang tidak ada 1 nya adalah : \", cluster_for_min1)"
   ]
  },
  {
   "cell_type": "code",
   "execution_count": 11,
   "metadata": {},
   "outputs": [
    {
     "output_type": "execute_result",
     "data": {
      "text/plain": [
       "-1    1663790\n",
       " 1       3701\n",
       " 0       3701\n",
       "Name: Label, dtype: int64"
      ]
     },
     "metadata": {},
     "execution_count": 11
    }
   ],
   "source": [
    "# Cluster ke 7 merupakan cluster yang akan ditambahkan kedalam label = 0\n",
    "df_jumlah_label = final_data['Label'].value_counts(ascending = True).to_frame()\n",
    "kekurangan_data = df_jumlah_label.iloc[1, 0] - df_jumlah_label.iloc[0, 0]\n",
    "\n",
    "for x in range(len(final_data)):\n",
    "    if (final_data.iloc[x, 7] == cluster_for_min1) & (kekurangan_data != 0):\n",
    "        kekurangan_data -= 1\n",
    "        final_data.iloc[x, 1] = 0\n",
    "\n",
    "final_data['Label'].value_counts()"
   ]
  },
  {
   "cell_type": "code",
   "execution_count": 12,
   "metadata": {},
   "outputs": [
    {
     "output_type": "execute_result",
     "data": {
      "text/plain": [
       "                                                    Smiles  Label   ALogP  \\\n",
       "0        NC(CC(=O)N1CCC[C@H]1C(=O)NCc1ccc(C(=O)O)cc1)Cc...      1 -2.4427   \n",
       "1            O=C(NCc1ccccc1)[C@@H]1CN[C@H](C(=O)N2CCCC2)C1      1 -2.2658   \n",
       "2                      N[C@@H](CC(=O)N1CCSC1)Cc1ccc(F)cc1F      1  0.2408   \n",
       "3                             N[C@H](C(=O)N1CCCC1)C1CCCCC1      1 -2.7535   \n",
       "4        N[C@H](C(=O)N1CCC(F)(F)C1)[C@H]1CC[C@H](NC(=O)...      1 -1.4117   \n",
       "...                                                    ...    ...     ...   \n",
       "1667412  CC(=O)[C@H]1CC[C@H]2[C@@H]3CCC4=CC(=O)C=C[C@]4...     -1  0.5237   \n",
       "1667413                            CC(C)=CCC/C(C)=C\\C(N)=O     -1  2.0469   \n",
       "1667414               CCOC(=O)C(C#N)C(=N)C1C(=O)OC2CCCCC21     -1 -1.1547   \n",
       "1667415  c1ccc(C2CC(C3CC(c4ccccc4)OC(c4ccccc4)C3)CC(c3c...     -1 -0.0996   \n",
       "1667416  C[n+]1cn([C@@H]2O[C@H](CO[P@@](=O)(S)OP(=O)(O)...     -1 -3.9888   \n",
       "\n",
       "            ALogp2       AMR       apol  TopoPSA  Cluster  \n",
       "0         5.966783   58.5798  64.881618   112.73       16  \n",
       "1         5.133850   54.2512  50.160239    61.44       14  \n",
       "2         0.057985   47.6729  40.564688    71.63       10  \n",
       "3         7.581762   50.6752  38.791446    46.33       14  \n",
       "4         1.992897   62.1044  55.908239    75.43       12  \n",
       "...            ...       ...        ...      ...      ...  \n",
       "1667412   0.274262   93.3634  56.702618    51.21        9  \n",
       "1667413   4.189800   51.3869  30.837481    43.09        5  \n",
       "1667414   1.333332   62.0061  42.050274   100.24       16  \n",
       "1667415   0.009920   40.2426  84.114962    18.46        2  \n",
       "1667416  15.910525  100.7119  63.078653   335.42       15  \n",
       "\n",
       "[1671192 rows x 8 columns]"
      ],
      "text/html": "<div>\n<style scoped>\n    .dataframe tbody tr th:only-of-type {\n        vertical-align: middle;\n    }\n\n    .dataframe tbody tr th {\n        vertical-align: top;\n    }\n\n    .dataframe thead th {\n        text-align: right;\n    }\n</style>\n<table border=\"1\" class=\"dataframe\">\n  <thead>\n    <tr style=\"text-align: right;\">\n      <th></th>\n      <th>Smiles</th>\n      <th>Label</th>\n      <th>ALogP</th>\n      <th>ALogp2</th>\n      <th>AMR</th>\n      <th>apol</th>\n      <th>TopoPSA</th>\n      <th>Cluster</th>\n    </tr>\n  </thead>\n  <tbody>\n    <tr>\n      <th>0</th>\n      <td>NC(CC(=O)N1CCC[C@H]1C(=O)NCc1ccc(C(=O)O)cc1)Cc...</td>\n      <td>1</td>\n      <td>-2.4427</td>\n      <td>5.966783</td>\n      <td>58.5798</td>\n      <td>64.881618</td>\n      <td>112.73</td>\n      <td>16</td>\n    </tr>\n    <tr>\n      <th>1</th>\n      <td>O=C(NCc1ccccc1)[C@@H]1CN[C@H](C(=O)N2CCCC2)C1</td>\n      <td>1</td>\n      <td>-2.2658</td>\n      <td>5.133850</td>\n      <td>54.2512</td>\n      <td>50.160239</td>\n      <td>61.44</td>\n      <td>14</td>\n    </tr>\n    <tr>\n      <th>2</th>\n      <td>N[C@@H](CC(=O)N1CCSC1)Cc1ccc(F)cc1F</td>\n      <td>1</td>\n      <td>0.2408</td>\n      <td>0.057985</td>\n      <td>47.6729</td>\n      <td>40.564688</td>\n      <td>71.63</td>\n      <td>10</td>\n    </tr>\n    <tr>\n      <th>3</th>\n      <td>N[C@H](C(=O)N1CCCC1)C1CCCCC1</td>\n      <td>1</td>\n      <td>-2.7535</td>\n      <td>7.581762</td>\n      <td>50.6752</td>\n      <td>38.791446</td>\n      <td>46.33</td>\n      <td>14</td>\n    </tr>\n    <tr>\n      <th>4</th>\n      <td>N[C@H](C(=O)N1CCC(F)(F)C1)[C@H]1CC[C@H](NC(=O)...</td>\n      <td>1</td>\n      <td>-1.4117</td>\n      <td>1.992897</td>\n      <td>62.1044</td>\n      <td>55.908239</td>\n      <td>75.43</td>\n      <td>12</td>\n    </tr>\n    <tr>\n      <th>...</th>\n      <td>...</td>\n      <td>...</td>\n      <td>...</td>\n      <td>...</td>\n      <td>...</td>\n      <td>...</td>\n      <td>...</td>\n      <td>...</td>\n    </tr>\n    <tr>\n      <th>1667412</th>\n      <td>CC(=O)[C@H]1CC[C@H]2[C@@H]3CCC4=CC(=O)C=C[C@]4...</td>\n      <td>-1</td>\n      <td>0.5237</td>\n      <td>0.274262</td>\n      <td>93.3634</td>\n      <td>56.702618</td>\n      <td>51.21</td>\n      <td>9</td>\n    </tr>\n    <tr>\n      <th>1667413</th>\n      <td>CC(C)=CCC/C(C)=C\\C(N)=O</td>\n      <td>-1</td>\n      <td>2.0469</td>\n      <td>4.189800</td>\n      <td>51.3869</td>\n      <td>30.837481</td>\n      <td>43.09</td>\n      <td>5</td>\n    </tr>\n    <tr>\n      <th>1667414</th>\n      <td>CCOC(=O)C(C#N)C(=N)C1C(=O)OC2CCCCC21</td>\n      <td>-1</td>\n      <td>-1.1547</td>\n      <td>1.333332</td>\n      <td>62.0061</td>\n      <td>42.050274</td>\n      <td>100.24</td>\n      <td>16</td>\n    </tr>\n    <tr>\n      <th>1667415</th>\n      <td>c1ccc(C2CC(C3CC(c4ccccc4)OC(c4ccccc4)C3)CC(c3c...</td>\n      <td>-1</td>\n      <td>-0.0996</td>\n      <td>0.009920</td>\n      <td>40.2426</td>\n      <td>84.114962</td>\n      <td>18.46</td>\n      <td>2</td>\n    </tr>\n    <tr>\n      <th>1667416</th>\n      <td>C[n+]1cn([C@@H]2O[C@H](CO[P@@](=O)(S)OP(=O)(O)...</td>\n      <td>-1</td>\n      <td>-3.9888</td>\n      <td>15.910525</td>\n      <td>100.7119</td>\n      <td>63.078653</td>\n      <td>335.42</td>\n      <td>15</td>\n    </tr>\n  </tbody>\n</table>\n<p>1671192 rows × 8 columns</p>\n</div>"
     },
     "metadata": {},
     "execution_count": 12
    }
   ],
   "source": [
    "# Export to csv\n",
    "readyToExport = final_data\n",
    "readyToExport.to_csv('../Data/Data Minggu ke-3.csv')\n",
    "readyToExport"
   ]
  },
  {
   "cell_type": "code",
   "execution_count": 13,
   "metadata": {},
   "outputs": [
    {
     "output_type": "execute_result",
     "data": {
      "text/plain": [
       "-1    1663790\n",
       " 1       3701\n",
       " 0       3701\n",
       "Name: Label, dtype: int64"
      ]
     },
     "metadata": {},
     "execution_count": 13
    }
   ],
   "source": [
    "final_data['Label'].value_counts()"
   ]
  },
  {
   "cell_type": "code",
   "execution_count": null,
   "metadata": {},
   "outputs": [],
   "source": []
  }
 ]
}