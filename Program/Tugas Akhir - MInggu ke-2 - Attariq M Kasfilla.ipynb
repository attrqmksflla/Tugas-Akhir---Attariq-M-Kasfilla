{
 "nbformat": 4,
 "nbformat_minor": 2,
 "metadata": {
  "language_info": {
   "name": "python",
   "codemirror_mode": {
    "name": "ipython",
    "version": 3
   },
   "version": "3.8.3-final"
  },
  "orig_nbformat": 2,
  "file_extension": ".py",
  "mimetype": "text/x-python",
  "name": "python",
  "npconvert_exporter": "python",
  "pygments_lexer": "ipython3",
  "version": 3,
  "kernelspec": {
   "name": "python3",
   "display_name": "Python 3.8.3 64-bit (conda)",
   "metadata": {
    "interpreter": {
     "hash": "1e8706de921fadecaa93ae4a05847bdddc580f8bb7810bd0d94867135f05b223"
    }
   }
  }
 },
 "cells": [
  {
   "cell_type": "code",
   "execution_count": 1,
   "metadata": {
    "tags": []
   },
   "outputs": [
    {
     "output_type": "execute_result",
     "data": {
      "text/plain": [
       "      Unnamed: 0 Molecule ChEMBL ID  \\\n",
       "0              0       CHEMBL366049   \n",
       "1              1       CHEMBL210920   \n",
       "2              2       CHEMBL184912   \n",
       "3              3       CHEMBL278393   \n",
       "4              4        CHEMBL23110   \n",
       "...          ...                ...   \n",
       "3809        3809      CHEMBL4249193   \n",
       "3810        3810      CHEMBL3694423   \n",
       "3811        3811      CHEMBL3675622   \n",
       "3812        3812      CHEMBL4213950   \n",
       "3813        3813      CHEMBL4247286   \n",
       "\n",
       "                                                 Smiles     IC50  IC50 Mikro  \\\n",
       "0     NC(CC(=O)N1CCC[C@H]1C(=O)NCc1ccc(C(=O)O)cc1)Cc...    54.00     0.05400   \n",
       "1         O=C(NCc1ccccc1)[C@@H]1CN[C@H](C(=O)N2CCCC2)C1  1957.00     1.95700   \n",
       "2                   N[C@@H](CC(=O)N1CCSC1)Cc1ccc(F)cc1F   589.00     0.58900   \n",
       "3                          N[C@H](C(=O)N1CCCC1)C1CCCCC1   320.00     0.32000   \n",
       "4     N[C@H](C(=O)N1CCC(F)(F)C1)[C@H]1CC[C@H](NC(=O)...    55.00     0.05500   \n",
       "...                                                 ...      ...         ...   \n",
       "3809  O=[N+]([O-])c1cccc(/C=N/N2C(c3ccccc3)=Nc3ccccc...     1.33     0.00133   \n",
       "3810  CS(=O)(=O)n1cc2c(n1)CN([C@@H]1C[C@H](N)C(c3cc(...     4.30     0.00430   \n",
       "3811  CC#CCn1c(N2CCC[C@@H](N)C2)nc2c1C(=O)N(Cc1nc(C)...     1.30     0.00130   \n",
       "3812   O=c1cc(N2CCNCC2)n(Cc2ccccc2[N+](=O)[O-])c2ccnn12  1200.00     1.20000   \n",
       "3813       O=C(N/N=C/c1c(O)ccc2ccccc12)c1n[nH]c2c1CCCC2  2120.00     2.12000   \n",
       "\n",
       "      Label  \n",
       "0         1  \n",
       "1         1  \n",
       "2         1  \n",
       "3         1  \n",
       "4         1  \n",
       "...     ...  \n",
       "3809      1  \n",
       "3810      1  \n",
       "3811      1  \n",
       "3812      1  \n",
       "3813      1  \n",
       "\n",
       "[3814 rows x 6 columns]"
      ],
      "text/html": "<div>\n<style scoped>\n    .dataframe tbody tr th:only-of-type {\n        vertical-align: middle;\n    }\n\n    .dataframe tbody tr th {\n        vertical-align: top;\n    }\n\n    .dataframe thead th {\n        text-align: right;\n    }\n</style>\n<table border=\"1\" class=\"dataframe\">\n  <thead>\n    <tr style=\"text-align: right;\">\n      <th></th>\n      <th>Unnamed: 0</th>\n      <th>Molecule ChEMBL ID</th>\n      <th>Smiles</th>\n      <th>IC50</th>\n      <th>IC50 Mikro</th>\n      <th>Label</th>\n    </tr>\n  </thead>\n  <tbody>\n    <tr>\n      <th>0</th>\n      <td>0</td>\n      <td>CHEMBL366049</td>\n      <td>NC(CC(=O)N1CCC[C@H]1C(=O)NCc1ccc(C(=O)O)cc1)Cc...</td>\n      <td>54.00</td>\n      <td>0.05400</td>\n      <td>1</td>\n    </tr>\n    <tr>\n      <th>1</th>\n      <td>1</td>\n      <td>CHEMBL210920</td>\n      <td>O=C(NCc1ccccc1)[C@@H]1CN[C@H](C(=O)N2CCCC2)C1</td>\n      <td>1957.00</td>\n      <td>1.95700</td>\n      <td>1</td>\n    </tr>\n    <tr>\n      <th>2</th>\n      <td>2</td>\n      <td>CHEMBL184912</td>\n      <td>N[C@@H](CC(=O)N1CCSC1)Cc1ccc(F)cc1F</td>\n      <td>589.00</td>\n      <td>0.58900</td>\n      <td>1</td>\n    </tr>\n    <tr>\n      <th>3</th>\n      <td>3</td>\n      <td>CHEMBL278393</td>\n      <td>N[C@H](C(=O)N1CCCC1)C1CCCCC1</td>\n      <td>320.00</td>\n      <td>0.32000</td>\n      <td>1</td>\n    </tr>\n    <tr>\n      <th>4</th>\n      <td>4</td>\n      <td>CHEMBL23110</td>\n      <td>N[C@H](C(=O)N1CCC(F)(F)C1)[C@H]1CC[C@H](NC(=O)...</td>\n      <td>55.00</td>\n      <td>0.05500</td>\n      <td>1</td>\n    </tr>\n    <tr>\n      <th>...</th>\n      <td>...</td>\n      <td>...</td>\n      <td>...</td>\n      <td>...</td>\n      <td>...</td>\n      <td>...</td>\n    </tr>\n    <tr>\n      <th>3809</th>\n      <td>3809</td>\n      <td>CHEMBL4249193</td>\n      <td>O=[N+]([O-])c1cccc(/C=N/N2C(c3ccccc3)=Nc3ccccc...</td>\n      <td>1.33</td>\n      <td>0.00133</td>\n      <td>1</td>\n    </tr>\n    <tr>\n      <th>3810</th>\n      <td>3810</td>\n      <td>CHEMBL3694423</td>\n      <td>CS(=O)(=O)n1cc2c(n1)CN([C@@H]1C[C@H](N)C(c3cc(...</td>\n      <td>4.30</td>\n      <td>0.00430</td>\n      <td>1</td>\n    </tr>\n    <tr>\n      <th>3811</th>\n      <td>3811</td>\n      <td>CHEMBL3675622</td>\n      <td>CC#CCn1c(N2CCC[C@@H](N)C2)nc2c1C(=O)N(Cc1nc(C)...</td>\n      <td>1.30</td>\n      <td>0.00130</td>\n      <td>1</td>\n    </tr>\n    <tr>\n      <th>3812</th>\n      <td>3812</td>\n      <td>CHEMBL4213950</td>\n      <td>O=c1cc(N2CCNCC2)n(Cc2ccccc2[N+](=O)[O-])c2ccnn12</td>\n      <td>1200.00</td>\n      <td>1.20000</td>\n      <td>1</td>\n    </tr>\n    <tr>\n      <th>3813</th>\n      <td>3813</td>\n      <td>CHEMBL4247286</td>\n      <td>O=C(N/N=C/c1c(O)ccc2ccccc12)c1n[nH]c2c1CCCC2</td>\n      <td>2120.00</td>\n      <td>2.12000</td>\n      <td>1</td>\n    </tr>\n  </tbody>\n</table>\n<p>3814 rows × 6 columns</p>\n</div>"
     },
     "metadata": {},
     "execution_count": 1
    }
   ],
   "source": [
    "# Import semua library\n",
    "import pandas as pd\n",
    "import numpy as np\n",
    "import sys\n",
    "\n",
    "data_mentah = pd.read_csv('../Data/Data Seleksi.csv',  delimiter=\",\")\n",
    "data_mentah"
   ]
  },
  {
   "cell_type": "code",
   "execution_count": 2,
   "metadata": {},
   "outputs": [
    {
     "output_type": "execute_result",
     "data": {
      "text/plain": [
       "0       NC(CC(=O)N1CCC[C@H]1C(=O)NCc1ccc(C(=O)O)cc1)Cc...\n",
       "1           O=C(NCc1ccccc1)[C@@H]1CN[C@H](C(=O)N2CCCC2)C1\n",
       "2                     N[C@@H](CC(=O)N1CCSC1)Cc1ccc(F)cc1F\n",
       "3                            N[C@H](C(=O)N1CCCC1)C1CCCCC1\n",
       "4       N[C@H](C(=O)N1CCC(F)(F)C1)[C@H]1CC[C@H](NC(=O)...\n",
       "                              ...                        \n",
       "3809    O=[N+]([O-])c1cccc(/C=N/N2C(c3ccccc3)=Nc3ccccc...\n",
       "3810    CS(=O)(=O)n1cc2c(n1)CN([C@@H]1C[C@H](N)C(c3cc(...\n",
       "3811    CC#CCn1c(N2CCC[C@@H](N)C2)nc2c1C(=O)N(Cc1nc(C)...\n",
       "3812     O=c1cc(N2CCNCC2)n(Cc2ccccc2[N+](=O)[O-])c2ccnn12\n",
       "3813         O=C(N/N=C/c1c(O)ccc2ccccc12)c1n[nH]c2c1CCCC2\n",
       "Name: Smiles, Length: 3814, dtype: object"
      ]
     },
     "metadata": {},
     "execution_count": 2
    }
   ],
   "source": [
    "# Melihat / memanggil semua data smiles\n",
    "data_mentah.Smiles"
   ]
  },
  {
   "cell_type": "code",
   "execution_count": 3,
   "metadata": {},
   "outputs": [],
   "source": [
    "# export smiles to txt\n",
    "f = open ('../Data/smiles.txt', 'w+')\n",
    "for x in data_mentah.Smiles:\n",
    "    f.write(str(x))\n",
    "    f.write('\\n')\n",
    "\n",
    "f.close()"
   ]
  },
  {
   "cell_type": "code",
   "execution_count": 4,
   "metadata": {
    "tags": [
     "outputPrepend"
    ]
   },
   "outputs": [
    {
     "output_type": "stream",
     "name": "stdout",
     "text": [
      "(F)F)nc4ccccc34)CC2)CN1)N1CCSC1\nCOc1cc(OC)cc(-c2nc(-c3ccc(Cl)cc3Cl)c(CN(C)C)c(N(C)C)n2)c1\nCCCC(Oc1ccc(CNC(=O)[C@@H]2CCCN2C(=O)CC(N)Cc2ccccc2F)cc1)C(=O)O.O=C(O)C(F)(F)F\nNC(C(=O)N1CCC[C@H]1C(=O)NCc1ccccc1C(=O)O)C1CCCCC1.O=C(O)C(F)(F)F\nCC(C)[C@H](N)C(=S)N1CCC[C@H]1B(O)O\nN[C@H]1C[C@@H](N2Cc3nc(C(F)(F)F)[nH]c3C2)CSC1c1cc(F)ccc1F\nCc1c(-c2ccc([C@H](C)[C@H](N)C(=O)N3CC[C@H](F)C3)cc2)ccc(=O)n1C.O=C(O)C(F)(F)F\nC[C@@H](c1ccc(-c2ccc(=O)n(C)c2F)cc1)[C@H](N)C(=O)N1CC[C@H](F)C1.O=C(O)C(F)(F)F\nOB(O)[C@@H]1CCCN1C(=S)CNCc1ccccc1\nCS(=O)(=O)c1ccc(-c2nc3c(s2)CCN(C(=O)C[C@H](N)Cc2cc(F)ccc2F)C3)cc1\nN#Cc1ccc(NCCNCC(=O)N2CCC[C@H]2C#N)nc1\nN[C@@H](CC(=O)N1CC[C@@H]2[C@H](CCc3nnc(C(F)(F)F)n32)C1)Cc1cc(F)c(F)cc1F\nCc1c(-c2ccc([C@H](C(=O)N(C)C)[C@H](N)C(=O)N3CC[C@H](F)C3)cc2)ccc2ncnn12.O=C(O)C(F)(F)F\nCC(=O)NC[C@@H]1C[C@@H]2CCCC[C@@H]2N1C(=O)C[C@H](N)Cc1cc(F)c(F)cc1F\nCc1cc(O)nc2c3c(nn12)CN([C@H]1CO[C@H](c2cc(F)c(F)cc2F)[C@@H](N)C1)C3\nCc1cc(O)n2nc3c(c2n1)CN([C@H]1CO[C@H](c2cc(F)c(F)cc2F)[C@@H](N)C1)C3\nCc1ccn2nc3c(c2n1)CN([C@H]1CO[C@H](c2cc(F)c(F)cc2F)[C@@H](N)C1)C3\nN[C@H]1C[C@@H](N2Cc3nn4cccnc4c3C2)CC[C@@H]1c1cc(F)c(F)cc1F\nCl.N#C[C@@H]1CCCN1C(=O)[C@@H](N)Cc1ccc(-c2cn(Cc3cccc(Cl)c3)nn2)cc1\nN[C@@H](CC(=O)N1CCn2c(nnc2C(F)(F)F)C1)Cc1cc(F)c(F)cc1F\nN#C[C@@H]1C[C@H](F)CN1C(=O)C[C@H](N)Cc1ccccc1Cl\nCc1ccccc1C[C@@H](N)CC(=O)N1[C@H](C#N)C[C@@H]2CCC[C@@H]21\nN[C@@H](CC(=O)N1CCn2c(nnc2C(F)(F)F)C1)Cc1cc(F)c(F)cc1F\nCc1nc2c(cnn2-c2ccccc2)c(=O)n1-c1ccccn1\nCC#CCn1c(N2CCC[C@@H](N)C2)cc(=O)n(Cc2cc(Cl)c3ccccc3n2)c1=O\nN[C@@H](CC(=O)N1[C@H](C(=O)O)C[C@@H]2CCCC[C@@H]21)Cc1cc(F)c(F)cc1F\nCC(C)Cn1c(CN)c(-c2ccccc2)c2cc(Br)cnc2c1=O\nCC#CCn1c(N2CCC[C@@H](N)C2)cc(=O)n(Cc2ccc3c(ccc4ccccc43)n2)c1=O\nCC#CCn1c(N2CCNCC2)nc2c1c(=O)n(Cc1cccc(C#N)c1)c(=O)n2C\nCC#CCn1c(N2CCC[C@@H](N)C2)nc2c1c(=O)n(CCCN1CCC(C(=O)Nc3ccc(Br)cc3)CC1)c(=O)n2C\nCC#CCn1c(N2CCC[C@@H](N)C2)nc2c1c(=O)n(CCCN1CCC(C(=O)Nc3ccc(OC)cc3)CC1)c(=O)n2C\nCC#CCn1c(N2CCC[C@@H](N)C2)nc2c1c(=O)n(Cc1ccc(OC)c3ccccc13)c(=O)n2C\nCOc1ccc(C[C@@H](N)CC(=O)N2C[C@@H](F)C[C@H]2C#N)cc1\nCC(C)Cn1c(CN)c(-c2ccccc2)c2ccc(C(N)=O)cc2c1=O.Cl\nCC(C)Cn1c(CN)c(-c2ccccc2)c2cc(O)ccc2c1=O.Cl\nO=C([C@@H]1C[C@H](n2cc(-c3ccccc3)nn2)CN1)N1CCC(F)(F)C1\nN#Cc1ccccc1Cn1c(=O)[nH]c2nccc(N3CCC[C@@H](N)C3)c21\nCS(=O)(=O)NC[C@@H]1C[C@@H]2CCCC[C@@H]2N1C(=O)C[C@H](N)Cc1cc(F)c(F)cc1F\nN[C@@H](CC(=O)N1[C@H](COC(=O)c2ccccc2)C[C@@H]2CCCC[C@@H]21)Cc1cc(F)c(F)cc1F\nCS(=O)(=O)n1cc2c(n1)CN([C@H]1COC(c3cc(F)ccc3F)[C@@H](N)C1)C2\nCC#CCn1c(N2CCC[C@@H](N)C2)nc2c1c(=O)n(CC(=O)c1ccccc1OCC(=O)NC)c(=O)n2C\nN#C[C@@H]1CCCN1C(=O)[C@@H](N)Cc1ccccc1F\nN[C@H]1C[C@@H](N2Cc3cn[nH]c3C2)CO[C@@H]1c1cc(F)c(F)cc1F\nC[C@H](N[C@@H](CCc1ccccc1)C(=O)O)C(=O)N1C[C@@H](NC(=O)C[C@H](N)Cc2cc(F)c(F)cc2F)C[C@H]1C(=O)O\nN#Cc1ccccc1C[C@H](N)C(=O)N1CCC[C@H]1C#N\nN#C[C@@H]1CCCN1C(=O)[C@@H](N)Cc1ccccc1\nN#Cc1ccccc1C[C@H](N)C(=O)N1C[C@@H](F)C[C@H]1C#N\nN[C@H]1C[C@@H](N2Cc3c[nH]nc3C2)C[S+]([O-])C1c1cc(F)cc(F)c1F\nN[C@@H](CC(=O)N1CCn2c(nnc2C(F)(F)F)C1)Cc1cc(F)c(F)cc1F\nCl.N[C@@H](CC(=O)N1CC[C@@H]2[C@@H](Cc3nnc(C(F)(F)F)n32)C1)Cc1cc(F)c(F)cc1F\nCc1nc2c([nH]1)CN([C@H]1CSC(c3cc(F)ccc3F)[C@@H](N)C1)C2\nCC#CCn1c(N2CCC[C@@H](N)C2)nc2nc3n(c(=O)c21)CC(=O)N3C\nCCN1C(=O)Cn2c1nc1nc(N3CCC[C@@H](N)C3)n(Cc3cc(F)ccc3C#N)c1c2=O\nCS(=O)(=O)n1cc2c(n1)CN([C@H]1CCS[C@H](c3cc(F)ccc3F)[C@@H](N)C1)C2\nCC(C)=CCn1c(N2CCCC(N)C2)nc2c1c(=O)n(CC(=O)N1CCCCC1)c(=O)n2C\nCS(=O)(=O)n1cc2c(n1)CN([C@@H]1C[C@H](N)[C@@H](c3cc(F)ccc3F)[C@@H]3C[C@@H]31)C2\nCCN1C(=O)CN(C(=O)C[C@H](N)[C@H]2CCc3cc(F)c(F)cc32)Cc2ccccc21\nCCCc1nc2c(c(C(F)(F)F)n1)CCN(C(=O)C[C@H](N)CN1C(=O)CCC(F)(F)C1O)C2\nN[C@@H](CC(=O)N1CCc2c(nc(-c3ccco3)nc2C(F)(F)F)C1)CN1C(=O)CCC(F)(F)[C@H]1O\nN[C@@H](CC(=O)N1CCc2c(nc(C3CCC3)nc2C(F)(F)F)C1)CN1C(=O)CCC(F)(F)C1O\nN[C@H]1C[C@@H](N2Cc3cn[nH]c3C2)CN(CC(=O)N2CC[C@@H](F)C2)C1c1cc(F)ccc1F\nN[C@H]1C[C@@H](N2Cc3[nH]nc(NS(=O)(=O)c4c[nH]cn4)c3C2)CO[C@@H]1c1cc(F)ccc1F\nCC#CCn1c(N2CCC[C@@H](N)C2)nc2c1c(=O)n(Cc1nc(C)c3ccccc3n1)c(=O)n2C\nN#C[C@@H]1C[C@@H]2C[C@@H]2N1C(=O)[C@@H](N)C12CC3CC(CC(O)(C3)C1)C2\nN[C@@H](CC(=O)N1CC(=O)Nc2nccnc2C1)[C@H]1CCc2cc(F)c(F)cc21\nCN1C(=O)CN(C(=O)C[C@H](N)[C@H]2CCc3cc(F)c(F)cc32)Cc2ccccc21\nCCCS(=O)(=O)n1cc2c(n1)CN([C@H]1CO[C@H](c3cc(F)ccc3F)[C@@H](N)C1)C2\nN[C@H]1C[C@@H](N2Cc3[nH]nc(NS(=O)(=O)CC(F)(F)F)c3C2)CO[C@@H]1c1cc(F)ccc1F\nCS(=O)(=O)c1n[nH]c2c1CN([C@H]1CO[C@H](c3cc(F)ccc3F)[C@@H](N)C1)C2\nN#C[C@@H]1C[C@H](F)CN1C(=O)[C@@H](N)Cc1cc2c(cc1Br)OCO2\nN[C@H]1C[C@@H](N2Cc3cn(S(=O)(=O)C4CC4)nc3C2)COC1c1cc(F)ccc1F\nCc1ccc(-c2c(/C=C/c3nc(C(=O)O)cs3)c(C)nc(CC(C)C)c2CN)cc1.Cl.Cl\nCc1nnc2n1[C@@H]1CCN(C(=O)C[C@H](N)Cc3cc(F)c(F)cc3F)C[C@@H]1CC2.Cl\nCl.N[C@@H](CC(=O)N1CC[C@@H]2[C@@H](CCc3nnc(-c4cnccn4)n32)C1)Cc1cc(F)c(F)cc1F\nCC#CC#Cc1ccc(C#CC(O)CO)s1\nC[C@H](N)C(=O)N1CCC[C@H]1B(O)O\nCC(C)[C@H](N)C(=O)N[C@@H](C)B(O)O\nCC(C)[C@H](N)C(=O)N[C@@H](C)B(O)O\nCn1c(=O)cc(N2CCC[C@@H](N)C2)n(Cc2ccccc2C#N)c1=O\nN[C@@H](CC(=O)N1CCc2c(nc(-c3cccs3)nc2C(F)(F)F)C1)CN1C(=O)CCC(F)(F)[C@@H]1O\nCCS(=O)(=O)n1cc2c(n1)CN([C@H]1CO[C@H](c3cc(F)ccc3F)[C@@H](N)C1)C2\nCl.Cn1c(=O)c2c(nc(N3CCC[C@@H](N)C3)n2Cc2ccccc2Cl)c2ccc(C(N)=O)cc21\nCn1c(=O)cc(N2CCC[C@@H](N)C2)n(Cc2ccccc2C#N)c1=O\nO=C([C@@H]1C[C@H](N2CCN(c3nc(-c4ccccc4)cs3)CC2)CN1)N1CCSC1\nO=C([C@@H]1C[C@H](N2CCN(c3nnnn3-c3ccccc3)CC2)CN1)N1CCSC1\nCc1cc(N2CCN([C@@H]3CN[C@H](C(=O)N4CCSC4)C3)CC2)n(-c2ccccn2)n1\nCN(C)C(=O)Nc1ccc(S(=O)(=O)N[C@H]2CC[C@H]([C@H](N)C(=O)N3CCCC3)CC2)cc1\nN#Cc1ccccc1Cn1c(N2CCC[C@@H](N)C2)nc2c(Br)c[nH]c2c1=O\nCC#CCn1c(N2CCC[C@@H](N)C2)nc2ccn(C)c2c1=O\nCC#CCn1c(N2CCC[C@@H](N)C2)nc2ccn(Cc3ccc4ccc(Cl)cc4n3)c2c1=O\nCC#CCn1c(N2CCC[C@@H](N)C2)nc2ccn(Cc3nc4ccccc4[nH]3)c2c1=O\nCC#CCn1c(N2CCC[C@@H](N)C2)nc2ccn(Cc3ncccn3)c2c1=O\nCC#CCn1c(N2CCC[C@@H](N)C2)nc2c(Br)c[nH]c2c1=O\nN[C@H](C(=O)N1CCSC1)[C@H]1CC[C@H](NC(=O)Nc2ccc(F)c(F)c2)CC1\nCn1cnc2ccc(-c3ccccc3C(N)=O)c(CN)c21\nC[C@H]1C[C@@H](C#N)N(C(=O)[C@@H](N)CC(=O)N2CCN(C(c3ccc(F)cc3)c3ccc(F)cc3)CC2)C1.O=C(O)C(F)(F)F.O=C(O)C(F)(F)F\nCOc1cc2c(cc1OC)[C@@H]1CC(N)[C@@H](c3cccc(C4CC4)c3)CN1CC2\nCOC(=O)c1cccc(-c2nnn3c2CN(C(=O)C[C@H](N)Cc2cc(F)c(F)cc2F)CC3)c1.Cl\nCOC(=O)C1SCCN1C(=O)C[C@H](N)Cc1cc(F)c(F)cc1F.Cl\nCN(C)C(=O)C1SCCN1C(=O)C[C@H](N)Cc1cc(F)c(F)cc1F.Cl\nCl.N[C@@H](CC(=O)N1CCSC1C(=O)NCc1ccc(OCC(=O)O)cc1)Cc1cc(F)c(F)cc1F\nCl.N[C@@H](CC(=O)N1CCSC1C(=O)NCc1ccc2c(c1)OC(C(=O)O)O2)Cc1cc(F)c(F)cc1F\nCC#CCn1c(N2CCC[C@@H](N)C2)nc2c1c(=O)n(CC(=O)c1ccccc1OCC(=O)NCC)c(=O)n2C\nCC#CCn1c(N2CCC[C@@H](N)C2)nc2c1c(=O)n(Cc1nc(C)c3ccccc3n1)c(=O)n2C\nCC#CCn1c(N2CCC[C@@H](N)C2)nc2c1c(=O)n(Cc1cc(C)c3nccnc3c1)c(=O)n2C\nN[C@@H](CC(=O)N1[C@H](CNC(=O)c2ccccc2)C[C@@H]2CCCC[C@@H]21)Cc1cc(F)c(F)cc1F\nN[C@H](C(=O)N1CCSC1)[C@H]1CC[C@H](NS(=O)(=O)c2ccc(OC(F)(F)F)cc2)CC1\nNOC(=O)c1cncc(N2CCC([C@H](N)Cc3cc(F)ccc3F)CC2)c1\nN[C@@H](CC(=O)N1CC(=O)Nc2cccnc2C1)[C@H]1CCc2cc(F)c(F)cc21\nCC#CCn1c(N2CCCC(N)C2)nc2c1c(=O)n(Cc1cc(=O)n(C)c3ccccc13)c(=O)n2C\nCC#CCn1c(N2CCC[C@@H](N)C2)nc2c1c(=O)n(Cc1nc(C)cc3ccccc13)c(=O)n2C\nCC#CCn1c(N2CCC[C@@H](N)C2)nc2c1c(=O)n(CC(=O)c1cccc3c1OCO3)c(=O)n2C\nN[C@@H](CC(=O)N1CC[C@@H]2[C@@H](CCc3nnc(C(F)(F)F)n32)C1)Cc1cc(F)c(F)cc1F\nN[C@@H](CC(=O)N1CCn2c(nnc2C(F)(F)F)C1)Cc1cc(F)c(F)cc1F\nCS(=O)(=O)n1cc2c(n1)CN([C@@H]1C[C@H](N)C(c3cc(F)ccc3F)N(Cc3cncnc3)C1)C2\nCC(C)=CCn1c(N2CCC[C@@H](N)C2)nc2c1C(=O)N(Cc1nc(C)c3ccccc3n1)C1=NCCN12\nCOCCc1nc2c(c(C(F)(F)F)n1)CCN(C(=O)C[C@H](N)CN1C(=O)CCC(F)(F)[C@@H]1O)C2\nCl.O=C(C1CCCN1)N1CCCC1P(=O)(Oc1ccc(NN2CCCC2)cc1)Oc1ccc(NN2CCCC2)cc1\nNC[C@]1(c2cccc(Cl)c2)CC[C@H](N2CCCCC2=O)CC1\nN[C@H]1C[C@@H](N2Cc3cnc(C(F)(F)F)nc3C2)CSC1c1cc(F)ccc1F\nCc1nnc(C(F)(F)F)n1C1CCN(C(=O)C[C@H](N)Cc2cc(F)c(F)cc2F)CC1.Cl\nCl.N#C[C@@H]1CCCN1C(=O)[C@@H](N)Cc1ccc(-c2cn(Cc3ccccc3Cl)nn2)cc1\nCCN1C(=O)Cn2c1nc1nc(N3CCC[C@@H](N)C3)n(Cc3cc(F)ccc3F)c1c2=O\nN[C@@H](CC(=O)N1CC[C@@H]2[C@H](CCc3nnc(C(F)(F)F)n32)C1)Cc1cc(F)c(F)cc1F\nNC(=O)[C@@H]1CCCN1C(=O)CCNC(=O)c1ccc(O)cc1\nN[C@@H](CC(=O)N1CCn2c(nnc2C(F)(F)F)C1)Cc1cc(F)c(F)cc1F\nN[C@@H](CC(=O)N1CC(=O)Nc2cc(C(F)(F)F)ccc2C1)[C@H]1CCc2cc(F)c(F)cc21\nN#Cc1ccc2c(c1)NC(=O)CN(C(=O)C[C@H](N)[C@H]1CCc3cc(F)c(F)cc31)C2\nCC(C)N1C(=O)CN(C(=O)C[C@H](N)[C@H]2CCc3cc(F)c(F)cc32)Cc2ccccc21\nCC#CCn1c(N2CCC[C@@H](N)C2)nc2c1c(=O)n(Cc1ccc(C#N)c3ccccc13)c(=O)n2C\nCc1cc2ccccc2c(Cn2c(=O)c3c(nc(N4CCC[C@@H](N)C4)n3Cc3ccccc3Cl)n(C)c2=O)n1\nCOc1ccccc1-c1c(CN)c(N)nc2c1c(=O)n(C)c(=O)n2C\nCOC(=O)c1ccc2c3nc(N4CCC[C@@H](N)C4)n(Cc4ccccc4Cl)c3c(=O)n(C)c2c1.Cl\nCl.Cn1c(=O)c2c(nc(N3CCC[C@@H](N)C3)n2Cc2ccccc2)c2cc(C(=O)O)ccc21\nCc1cc(N2CCN([C@@H]3CN[C@H](C(=O)N4CCSC4)C3)CC2)n(-c2ccc(C#N)cc2)n1\nN[C@@H](CC(=O)N1CC(=O)Nc2cc(Br)ccc2C1)[C@H]1CCc2cc(F)c(F)cc21\nCC(C)(C)c1nc2c(c(C(F)(F)F)n1)CCN(C(=O)C[C@H](N)CN1C(=O)CCC(F)C1O)C2\nCC#CCn1c(N2CCC[C@@H](N)C2)cc(=O)n(Cc2ccc3ccc(Cl)cc3n2)c1=O\nCC[C@@H](C)[C@H](N)C(=O)N1C[C@H]2C[C@H]2[C@H]1C#N.O=C(O)C(F)(F)F\nCS(=O)(=O)c1ccc(N2C[C@H](CN)[C@@H](c3cc(F)ccc3F)CC2=O)cc1\nN#C[C@@H]1CCCN1C(=O)[C@@H](N)Cc1cccc(F)c1\nCn1c(=O)c2c(-c3cc(F)ccc3Br)c(CN)c(N3CCOCC3)nc2n(C)c1=O\nN#C[C@@H]1C[C@H](F)CN1C(=O)[C@@H](N)Cc1ccc(OCc2ccccc2)cc1\nN#Cc1ccc(C[C@H](N)C(=O)N2C[C@@H](F)C[C@H]2C#N)cc1\nN[C@@H](CC(=O)NC1(c2nc(-c3ccc(F)cc3)cs2)CCS(=O)(=O)CC1)Cc1ccccc1F\nCC(C)=CCn1c(N2CCCC(N)C2)nc2c1c(=O)n(Cc1cc3ccccc3cn1)c(=O)n2C\nCC(C)=CCn1c(N2CCCC(N)C2)nc2c1c(=O)n(CC(=O)c1cccc(C(=O)O)c1)c(=O)n2C\nCC(C)=CCn1c(N2CCCC(N)C2)nc2c1c(=O)n(CC(=O)c1ccccc1C(=O)N1CCOCC1)c(=O)n2C\nC/C=C/Cn1c(N2CCCC(N)C2)nc2c1c(=O)n(CC(=O)c1ccccc1NC(C)=O)c(=O)n2C\nCC#CCn1c(N2CCC[C@H](N)C2)nc2c1c(=O)n(Cc1nc(C)cc3ccccc13)c(=O)n2C\nCC#CCn1c(N2CCC[C@@H](N)C2)nc2c1c(=O)n(C/C=C/c1c(F)c(F)c(F)c(F)c1F)c(=O)n2C\nO=C([C@@H]1C[C@H](N2CCN(c3ccc([N+](=O)[O-])cc3)CC2)CN1)N1CCSC1\nN#Cc1cnc(N2CCN([C@@H]3CN[C@H](C(=O)N4CCSC4)C3)CC2)c2ccccc12\nN[C@@H](CC(=O)N1[C@H](CNC(=O)C2CCCC2)C[C@@H]2CCCC[C@@H]21)Cc1cc(F)c(F)cc1F\nCn1c(=O)n(Cc2ccccc2C#N)c2c(N3CCC[C@@H](N)C3)c3ccccc3nc21\nCn1c(=O)n(Cc2ccccc2C#N)c2c(N3CCCCC(N)C3)ccnc21\nO=C([C@@H]1C[C@H](N2CCN(c3ccc4ccccc4n3)CC2)CN1)N1CCSC1\nO=C([C@@H]1C[C@H](N2CCN(c3nccn3-c3ccccc3)CC2)CN1)N1CCSC1\nCS(=O)(=O)N1C[C@@H](N2Cc3cn(S(C)(=O)=O)nc3C2)C[C@H](N)C1c1cc(F)ccc1F\nCc1nc(CN2C(=O)c3c(nc(N4CCC[C@@H](N)C4)n3Cc3ccccc3C#N)N3CCN=C23)nc2ccccc12\nCC(=O)Nc1ccc(OP(=O)(Oc2ccc(NC(C)=O)cc2)C2CCCN2C(=O)[C@@H]2CCCN2)cc1\nCS(=O)(=O)n1cc2c(n1)CN([C@H]1CNC(c3cc(F)ccc3F)[C@@H](N)C1)C2\nN[C@H]1C[C@@H](N2Cc3cn(S(=O)(=O)C4CCCC4)nc3C2)COC1c1cc(F)c(F)cc1F\nN#Cc1[nH]nc2c1CN([C@H]1CSC(c3cc(F)ccc3F)[C@@H](N)C1)C2\nN[C@@H](CC(=O)N1CCn2c(nnc2C(F)(F)F)C1)Cc1cc(F)c(F)cc1F\nCS(=O)(=O)c1ccc(-c2c[nH]c3c(=O)n(Cc4cc(F)ccc4C#N)c(N4CCC[C@@H](N)C4)nc23)c(F)c1\nCC(C)Cn1c(CN)c(-c2ccccc2)c2cc(C(N)=O)ccc2c1=O.Cl\nN[C@H]1C[C@@H](N2Cc3cn[nH]c3C2)CN(CCN2CCC(F)(F)C2)C1c1cc(F)ccc1F\nO=c1cc(N2CCNCC2)n(Cc2ccccc2)c2ccnn12\nCOc1ccc(Cn2c(=O)c3c(nc(N4CCC[C@@H](N)C4)n3Cc3ccccc3Cl)n(C)c2=O)cc1C(=O)O\nCc1oc(=O)oc1COC(=O)c1ccc2c3nc(N4CCC[C@@H](N)C4)n(Cc4cc(F)ccc4Cl)c3c(=O)n(C)c2c1.Cl\nO=C(NCC(=O)N1CCC[C@H]1B(O)O)c1cccnc1\nCC#CCn1c(N2CCC[C@@H](N)C2)cc(=O)n(Cc2ccc3cc(Br)ccc3n2)c1=O\nCC#CCn1c(N2CCC[C@@H](N)C2)cc(=O)n(Cc2ncccn2)c1=O\nCC#CCn1c(N2CCC[C@@H](N)C2)cc(=O)n(Cc2ccc3ccc(F)cc3n2)c1=O\nCC(C)=CCn1c(N2CCC3CNCC32)nc2c1c(=O)n(CC(=O)c1ccccc1)c(=O)n2C\nCc1nc(CN2C(=O)c3c(nc(N4CCC[C@@H](N)C4)n3CC3CCC3)N3CCN=C23)nc2ccccc12\nCN[C@@H]1CCCN(c2ccnc3c2n(Cc2ccccc2C#N)c(=O)n3C)C1\nCn1c(=O)n(Cc2ccccc2C#N)c2c(N3CCC[C@@H](N)C3)ccnc21\nN[C@@H](CC(=O)N1CCn2c(nnc2C(F)(F)F)C1)Cc1cc(F)c(F)cc1F.O=P(O)(O)O\nN=C(N)NCCC[C@H](N)C(=O)N1CCC[C@H]1B(O)O\nCC(C)(O)Cn1cc2c(n1)CN([C@H]1CSC(c3cc(F)cc(F)c3F)[C@@H](N)C1)C2\nN[C@@H](CC(=O)N1CC[C@H]2[C@@H](CCc3nnc(C(F)(F)F)n32)C1)Cc1cc(F)c(F)cc1F\nO=C1C[C@@H](c2ccc(O)cc2)Oc2cc(O)cc(O)c21\nN[C@@H](CC(=O)N1CC(=O)Nc2cc(F)c(F)cc2C1)[C@H]1CCc2cc(F)c(F)cc21\nCC#CCn1c(N2CCC[C@@H](N)C2)nc2c1c(=O)n(CCCN1CCC(C(=O)Nc3ccc(Cl)cc3)CC1)c(=O)n2C\nCC#CCn1c(N2CCC[C@@H](N)C2)nc2c1c(=O)n(CCCN1CCC(C(=O)Nc3ccccc3)CC1)c(=O)n2C\nCC#CCn1c(N2CCCNCC2)nc2c1c(=O)n(CCCN1CCC(C(=O)OC(C)C)CC1)c(=O)n2C\nCC#CCn1c(N2CCC[C@@H](N)C2)nc2c1c(=O)n(CCCCC1CCN(C(=O)OC(C)C)CC1)c(=O)n2C\nN#C[C@@H]1C[C@H](F)CN1C(=O)[C@@H](N)Cc1ccccc1\nCC#CCn1c(N2CCC[C@@H](N)C2)nc2c1c(=O)n(Cc1nc(C)c3ccccc3n1)c(=O)n2C\nCc1c2c(nn1S(=O)(=O)C1(C)CC1)CN([C@H]1CCO[C@H](c3cc(F)ccc3F)[C@@H](N)C1)C2\nNC[C@]1(c2cccc(Cl)c2)CC[C@H](N2CCCCC2)CC1\nN[C@@H](CC(=O)N1CCn2c(nnc2C(F)(F)F)C1)Cc1cc(F)c(F)cc1F\nO=C(CN[C@@H]1CCNC1)N1CCC[C@H]1B(O)O\nNC[C@]1(c2cccc(Cl)c2)CC[C@H](N2CCn3c(nnc3C(F)(F)F)C2)CC1\nCC1(S(=O)(=O)n2cc3c(n2)CN([C@H]2CCO[C@H](c4cc(F)c(F)cc4F)[C@@H](N)C2)C3)CC1\nCNC(=O)c1ccc2c(=O)n(CC(C)C)c(CN)c(-c3ccccc3)c2c1.Cl\nCC(C)(C)OC[C@@H]1C(=O)NCCN1C(=O)C[C@H](N)Cc1cc(F)c(F)cc1F\nN[C@@H](CC(=O)N1CC[C@@H]2[C@@H](CCc3nnc(C(F)(F)F)n32)C1)Cc1ccccc1\nCS(=O)(=O)n1cc2c(n1)CN([C@H]1CO[C@H](c3cc(F)ccc3F)[C@@H](N)C1)C2\nO=C(Nc1ccc(F)cc1)c1cnn(-c2ccccc2)c1NC(=O)C(F)(F)F\nCOc1ccc(-n2ncc3c(=O)n(-c4cc(C)ccn4)c(C)nc32)cc1\nCC(C)Cc1nc2ccc(C(N)=O)cc2c(-c2ccccc2)c1CN\nCC(C)(F)Cn1cc2c(n1)CN([C@H]1CSC(c3cc(F)cc(F)c3F)[C@@H](N)C1)C2\nCn1c2nccc-2c(N2CCC[C@@H](N)C2)n(Cc2cccc(F)c2)c1=O\nN#C[C@@H]1[C@@H]2C[C@@H]2CN1C(=O)[C@@H](N)CC(=O)N1CCN(C(c2ccc(F)cc2)c2ccc(F)cc2)CC1.O=C(O)C(F)(F)F\nCC#CCn1c(N2CCCC(N)C2)nc2c1c(=O)n(Cc1ccnc3ccccc13)c(=O)n2C\nC/C=C/Cn1c(N2CCC[C@H](N)C2)nc2c1c(=O)n(CC(=O)c1ccccc1OCC(=O)NC)c(=O)n2C\nN[C@@H](CC(=O)N1CC[C@@H]2[C@@H](CCc3nnc(C(F)(F)F)n32)C1)Cc1cc(F)c(F)cc1F\nN[C@@H](CC(=O)N1CC(=O)Nc2ccccc2C1)[C@H]1CCc2cc(F)c(F)cc21\nN[C@@H](CC(=O)N1CCNc2cc(C(F)(F)F)ccc2C1)[C@H]1CCc2cc(F)c(F)cc21\nN[C@H]1C[C@@H](N2Cc3nn4c(C(F)(F)F)ccnc4c3C2)CO[C@@H]1c1cc(F)c(F)cc1F\nCc1cc2ncc3c(n2n1)CN([C@H]1CO[C@H](c2cc(F)ccc2F)[C@@H](N)C1)C3\nN[C@@H](CC(=O)N1CCc2c(nc(-c3ccco3)nc2C(F)(F)F)C1)CN1C(=O)CCC(F)C1O\nN[C@@H](CC(=O)N1CCc2c(nc(-c3cccs3)nc2C(F)(F)F)C1)CN1C(=O)CCC(F)C1O\nCS(=O)(=O)Nc1ccc2c3c(ccc2c1)O[C@H](c1cc(F)c(F)cc1F)[C@@H](N)C3\nCOc1cc2c3c(ccc2cc1NS(C)(=O)=O)O[C@H](c1cc(F)c(F)cc1F)[C@@H](N)C3\nCS(=O)(=O)Nc1n[nH]c2c1CN([C@H]1CO[C@H](c3cc(F)ccc3F)[C@@H](N)C1)C2\nN[C@H]1C[C@@H](N2Cc3[nH]nc(S(=O)(=O)c4ccccc4)c3C2)CO[C@@H]1c1cc(F)ccc1F\nCC#CCn1c(N2CCC[C@H](N)C2)nc2c1c(=O)n(Cc1ccc(OC)c3ccccc13)c(=O)n2C\nCC(C)[C@H](N)C(=O)N1CCC[C@H]1B(O)O\nOB(O)[C@@H]1CCCN1C(=S)[C@@H]1CCCN1\nCC#CCn1c(N2CCC[C@@H](N)C2)nc2c1c(=O)n(Cc1nc3cc(F)ccc3s1)c(=O)n2C\nCC#CCn1c(N2CCC[C@@H](N)C2)nc2c1c(=O)n(Cc1ncc3ccccc3n1)c(=O)n2C\nC/C=C/Cn1c(N2CCCC(N)C2)nc2c1c(=O)n(CC(=O)c1ccccc1NC(=O)C(C)C)c(=O)n2C\nCC#CCn1c(N2CCC[C@H](N)C2)nc2c1c(=O)n(Cc1ncc(C)c3ccccc13)c(=O)n2C\nN[C@@H](CC(=O)N1CCn2c(nnc2C(F)(F)F)C1)Cc1cc(F)c(F)cc1F\nN#Cc1ccc(F)cc1Cn1c(N2CCC[C@@H](N)C2)nc2ccn(Cc3cc(F)ccc3C#N)c2c1=O\nN[C@H](C(=O)N1CCC[C@H]1B(O)O)C1CCCCC1\nCc1ccc(S(=O)(=O)NC[C@@H]2C[C@@H]3CCCC[C@@H]3N2C(=O)C[C@H](N)Cc2cc(F)c(F)cc2F)cc1\nCn1c2nccc-2c(N2CCC[C@@H](N)C2)n(Cc2cc(F)ccc2C#N)c1=O\nN[C@@H](CC(=O)N1CC[C@@H]2[C@@H](CCc3nnc(C(F)(F)F)n32)C1)Cc1cc(F)c(F)cc1F\nCOC(=O)c1cn([C@@H]2CN[C@H](C(=O)N3CCC(F)(F)C3)C2)nn1\nCCOc1cccc(-c2nnc3n2[C@@H]2CCN(C(=O)C[C@H](N)Cc4cc(F)c(F)cc4F)C[C@@H]2CC3)n1.Cl\nCC(C)[C@H](N)C(=O)N1CCCC1\nCC#CCn1c(N2CCC[C@@H](N)C2)nc2c1c(=O)n(Cc1nc(C)c3ccccc3n1)c(=O)n2C\nCC#CCn1c(N2CCNCC2)nc2c1c(=O)n(Cc1nn(-c3ccccc3)nc1C)c(=O)n2C\nCn1c(=O)cc(N2CCC[C@@H](N)C2)n(Cc2ccccc2C#N)c1=O\nN#Cc1ccc(F)cc1Cn1c(N2CCC[C@@H](N)C2)nc2c(Br)c(Br)[nH]c2c1=O\nCN1C[C@H](N2Cc3cn(S(C)(=O)=O)nc3C2)C[C@H](N)C1c1cc(F)c(F)cc1F\nCc1cc(C)cc(Cn2c(=O)cc(N3CCC[C@@H](N)C3)n(Cc3cc(F)ccc3C#N)c2=O)c1\nCC(C)Cn1c(CN)c(-c2ccccc2)c2cc(Br)ccc2c1=O\nO=c1c(O)c(-c2ccc(O)c(O)c2)oc2cc(O)cc(O)c12\nN[C@H]1C[C@@H](N2CCn3c(nnc3C(F)(F)F)C2)CO[C@@H]1c1cc(F)ccc1F\nCC#CCn1c(N2CCC[C@@H](N)C2)cc(=O)n(Cc2ccc3cc(Cl)ccc3n2)c1=O\nCOc1ccc(-n2ncc3c(=O)n(-c4nc(-c5ccc(Cl)cc5)cs4)c(C)nc32)cc1\nCc1cc2nc3c(cn2n1)CN([C@H]1CC[C@H](c2cc(F)ccc2F)[C@@H](N)C1)C3\nCC#CCn1c(N2CCC[C@@H](NC(=O)OC(C)(C)C)C2)nc2c1c(=O)n(Cc1cc(C#N)c3ccccc3n1)c(=O)n2C\nN[C@H]1C[C@@H](N2Cc3[nH]nc(NC(=O)C4CC4)c3C2)CO[C@@H]1c1cc(F)ccc1F\nN[C@H]1C[C@@H](N2Cc3[nH]nc(NS(=O)(=O)Cc4ccncc4)c3C2)CO[C@@H]1c1cc(F)ccc1F\nCS(=O)(=O)n1cc2c(n1)CN([C@H]1CSC(c3cc(F)ccc3F)[C@@H](N)C1)C2\nO=C(O)/C=C/c1ccc(O)c(O)c1\nN[C@@H](CCn1cc(-c2ccncc2)nn1)Cc1cc(F)c(F)cc1F\nCC(C)=CCn1c(N2CCCC(N)C2)nc2c1c(=O)n(Cc1ccccc1C#N)c(=O)n2C\nCC(C)(C)[C@H](N)C(=O)N1CCSCC1\nCC(C)C[C@H](N)C(=O)N1CCSCC1\nN[C@@H](CCNCc1ccc(Cl)cc1)C(=O)N1CCCCC1\nCC(C)C(N)C(=O)N1CCCC1\nO=[N+]([O-])c1cccc(/C=N/N2C(c3ccccc3)=Nc3ccc(I)cc3C2Nc2nccs2)c1\nO=C(CN1CCN(c2ccnc3cc(Cl)ccc23)CC1)N1CCCC1\nCC#CCn1c(N2CCC[C@@H](NC(=O)OC(C)(C)C)C2)nc2c1c(=O)n(CC(=O)c1cccc(OC3CC3)c1)c(=O)n2C\nN[C@@H](CCC(=O)O)C(=O)N1CCC[C@H]1B(O)O\nN#C[C@@H]1CCCN1C(=O)CNC12CC3CC(CC(O)(C3)C1)C2\nCc1ccc(C[C@H](N)C(=O)N2CCC[C@H]2C#N)cc1\nN#C[C@@H]1C[C@H](F)CN1C(=O)[C@@H](N)Cc1cc(F)cc(F)c1F\nN#Cc1ccccc1Cn1c(N2CCC[C@@H](N)C2)cc(=O)n2nccc12\nN#Cc1ccc(F)cc1Cn1c(N2CCC[C@@H](N)C2)cc(=O)n(Cc2cc(F)cc(F)c2)c1=O\nCn1c(=O)cc(N2CCC[C@@H](N)C2)n(Cc2cc(F)ccc2C#N)c1=O\nNCc1c(-c2ccc(Cl)cc2Cl)n(C[SH](=O)=O)c2ccccc12\nCC[C@H](C)[C@H](N)C(=O)N1CCC[C@H]1C(=O)N[C@H](C(=O)O)[C@@H](C)CC\nCS(=O)(=O)c1ccc(-c2c[nH]c3c(=O)n(Cc4cc(F)ccc4C#N)c(N4CCC[C@@H](N)C4)nc23)cc1\nCC(C)(C)Cc1nc2ccc(OCC(N)=O)cc2c(-c2ccccc2)c1CN\nCC(C)Cc1nc2ccc(OCC(N)=O)cc2c(-c2ccccc2)c1CN\nCCCCc1nc2ccc(OCC(N)=O)cc2c(-c2ccccc2)c1CN\nCC(C)Cn1c(CN)c(-c2ccccc2)c2cc(C(N)=O)ccc2c1=O\nCc1ccc(-c2c(CCc3nc(C(N)=O)cs3)c(C)nc(CC(C)C)c2CN)cc1.Cl.Cl\nC[C@H](N)C(=O)N[C@@H](C)B(O)O\nCC#CCn1c(N2CCC[C@@H](NC(=O)OC(C)(C)C)C2)nc2c1c(=O)n(Cc1nccc(-c3ccccc3)n1)c(=O)n2C\nCC[C@H](C)[C@H](N)C(=O)N1CCSC1\nCC#CCn1c(N2CCC[C@@H](N)C2)nc2c1C(=O)N(Cc1ccc(OC)cc1)C1=NCCCN12\nCC(C)[C@H](N)C(=S)N1CCC[C@H]1B(O)O\nC[C@H](N)C(=S)N[C@@H](C)B(O)O\nCC(C)=CCn1c(N2CCCC(N)C2)nc2c1c(=O)n(Cc1ccc3ccccc3n1)c(=O)n2C\nCS(=O)(=O)n1cc2c(n1)CN([C@H]1CSC(c3cc(F)cc(F)c3F)[C@@H](N)C1)C2\nCC(C)=CCn1c(N2CCCC(N)C2)nc2c1c(=O)n(Cc1ncnc3ccccc13)c(=O)n2C\nCOc1cccc(C(=O)Cn2c(=O)c3c(nc(N4CCCC(N)C4)n3CC=C(C)C)n(C)c2=O)c1OC\nC/C=C/Cn1c(N2CCC[C@@H](N)C2)nc2c1c(=O)n(CC(=O)c1ccccc1NC(=O)C(C)C)c(=O)n2C\nCS(=O)(=O)n1cc2c(n1)CN([C@@H]1C[C@H](N)C(c3cc(F)ccc3F)N(CC3CC3)C1)C2\nCn1c2nccc-2c(N2CCC[C@@H](N)C2)n(Cc2cc(F)ccc2F)c1=O\nCn1c2ncnc-2c(N2CCC[C@@H](N)C2)n(Cc2ccccc2C#N)c1=O\nNCC(=O)N1CCC[C@H]1B(O)O\nNCC(=S)N1CCC[C@H]1B(O)O\nCC(C)[C@H](N)C(=O)N1CCC[C@H]1B(O)O\nNCC(=S)N1CCC[C@H]1B(O)O\nN[C@H]1C[C@@H](N2Cc3c[nH]nc3C2)CS(=O)(=O)C1c1cc(F)cc(F)c1F\nN[C@H]1C[C@@H](N2Cc3nc(-c4ccccc4)[nH]c3C2)CSC1c1cc(F)ccc1F\nCc1nc2c(o1)CN([C@H]1CSC(c3cc(F)ccc3F)[C@@H](N)C1)C2\nO=C(CNCc1ccccc1)N1CCC[C@H]1B(O)O\nN[C@H](C(=O)N1CCC[C@H]1B(O)O)C1CCCCC1\nCOc1cc(-c2[o+]c3cc(O)cc(O)c3cc2O)cc(OC)c1O.[Cl-]\nCc1ccc2nc(CNc3nc(C)cs3)n(/N=C/c3ccc(O)cc3)c(=O)c2c1\nO=c1c(O)c(-c2ccc(O)cc2)oc2cc(O)cc(O)c12\nCn1cnc2nc(N3CCC[C@@H](N)C3)n(Cc3cc(F)ccc3C#N)c(=O)c21\nN#Cc1ccc(F)cc1Cn1c(N2CCC[C@@H](N)C2)nc2c(Br)c[nH]c2c1=O\nCC#CCn1c(N2CCC[C@@H](N)C2)nc2c1c(=O)n(CC(=O)c1ccccc1-c1ccccc1)c(=O)n2C\nCl.N[C@@H](CC(=O)N1CC[C@@H]2[C@@H](CCc3nnc(Cc4ccccc4)n32)C1)Cc1cc(F)c(F)cc1F\nCC(C)[C@H](N)C(=O)N1CCCC1B(O)O\nCC(C)c1nnc2n1[C@@H]1CCN(C(=O)C[C@H](N)Cc3cc(F)c(F)cc3F)C[C@@H]1CC2.Cl\nCC1(C)[C@H]2CC[C@]1(C)[C@@H](O)[C@H]2NCC(=O)N1CCC[C@H]1C#N\nCc1ccc(-c2c(CN)c(CC(C)C)nc3ccc(OCCCCCC(=O)O)cc23)cc1.Cl.Cl\nCc1ccc(-c2c(CN)c(CC(C)C)nc3ccc(OCCCCC(=O)O)cc23)cc1.Cl.Cl\nCc1ccc(-c2c(CN)c(CC(C)C)nc(C)c2C(=O)OC[C@H]2CC[C@H](C(=O)O)CC2)cc1.Cl.Cl\nN[C@@H](CC(=O)N1CCc2c(nc(-c3cccs3)nc2C(F)(F)F)C1)CN1C(=O)CCC(F)(F)[C@H]1O\nCC1(C)[C@H]2CC[C@]1(C)[C@@H](NCC(=O)N1CCC[C@H]1C#N)C2\nCOc1ccc(/C=N/N2C(c3ccccc3)=Nc3ccc(I)cc3C2Nc2nccs2)cc1\nN#Cc1ccc(F)cc1Cn1c(N2CCC[C@@H](N)C2)nc2scnc2c1=O\nN#Cc1ccc(F)cc1Cn1c(N2CCC[C@@H](N)C2)nc2c(-c3ccsc3)c[nH]c2c1=O\nN#Cc1ccc(F)cc1Cn1c(N2CCC[C@@H](N)C2)nc2c(-c3cccs3)c[nH]c2c1=O\nN#Cc1ccc(F)cc1Cn1c(N2CCC[C@@H](N)C2)nc2c(-c3ccc(F)cc3)c[nH]c2c1=O\nCS(=O)(=O)c1cccc(-c2c[nH]c3c(=O)n(Cc4cc(F)ccc4C#N)c(N4CCC[C@@H](N)C4)nc23)c1\nCS(=O)(=O)c1ccc(-c2c[nH]c3c(=O)n(Cc4cc(F)ccc4C#N)c(N4CCC[C@@H](N)C4)nc23)cc1F\nCOCCn1c(=O)c2c(nc(N3CCCC(N)C3)n2Cc2ccccc2C#N)n(C)c1=O\nCC#CCn1c(N2CCC[C@@H](N)C2)nc2c1c(=O)n(Cc1nc(C(F)F)cc3ccccc13)c(=O)n2C\nN[C@H]1C[C@@H](N2Cc3cn(S(=O)(=O)C4CCCC4)nc3C2)COC1c1cc(F)ccc1F\nCOc1ccc([C@@H]2CC(=O)c3c(O)cc(O)cc3O2)cc1O\nOc1cc(O)c2cc(O)c(-c3ccc(O)c(O)c3)[o+]c2c1.[Cl-]\nN#Cc1ccccc1Cc1c(Cl)nc2ccnn2c1N1CCC[C@@H](N)C1\nCc1ccc(Cn2c(N3CCC[C@@H](N)C3)cc(=O)n3nccc23)cc1\nCC(C)c1nnc2n1[C@@H]1CCN(C(=O)C[C@H](N)Cc3cc(F)c(F)cc3F)C[C@H]1CC2.Cl\nCC(C)c1nnc2n1[C@@H]1CCN(C(=O)C[C@H](N)Cc3cc(F)c(F)cc3F)C[C@@H]1CC2.Cl\nCS(=O)(=O)c1ccccc1-c1c[nH]c2c(=O)n(Cc3cc(F)ccc3C#N)c(N3CCC[C@@H](N)C3)nc12\nCn1c(=O)cc(N2CCC[C@@H](N)C2)n(Cc2ccccc2C#N)c1=O\nCc1csc(NC2c3cc(I)ccc3N=C(c3ccccc3)N2/N=C/c2cccc([N+](=O)[O-])c2)n1\nO=C(CNC(=O)C1CCCN(S(=O)(=O)c2ccccc2)C1)Nc1ccc(Cl)cc1\nO=[N+]([O-])c1cccc(/C=N/N2C(c3ccccc3)=Nc3ccccc3C2Nc2nccs2)c1\nCS(=O)(=O)n1cc2c(n1)CN([C@@H]1C[C@H](N)C(c3cc(F)ccc3F)N(CC(N)=O)C1)C2\nCC#CCn1c(N2CCC[C@@H](N)C2)nc2c1C(=O)N(Cc1nc(C)c3ccccc3n1)C1=NCCCN12\nO=c1cc(N2CCNCC2)n(Cc2ccccc2[N+](=O)[O-])c2ccnn12\nO=C(N/N=C/c1c(O)ccc2ccccc12)c1n[nH]c2c1CCCC2\n\n"
     ]
    }
   ],
   "source": [
    "f = open(\"../Data/smiles.txt\", \"r\")\n",
    "print(f.read())\n",
    "\n",
    "f.close()"
   ]
  },
  {
   "cell_type": "code",
   "execution_count": null,
   "metadata": {},
   "outputs": [],
   "source": []
  }
 ]
}