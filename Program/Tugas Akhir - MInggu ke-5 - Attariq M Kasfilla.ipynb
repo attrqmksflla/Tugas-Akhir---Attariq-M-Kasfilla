{
 "metadata": {
  "language_info": {
   "codemirror_mode": {
    "name": "ipython",
    "version": 3
   },
   "file_extension": ".py",
   "mimetype": "text/x-python",
   "name": "python",
   "nbconvert_exporter": "python",
   "pygments_lexer": "ipython3",
   "version": "3.8.3-final"
  },
  "orig_nbformat": 2,
  "kernelspec": {
   "name": "python3",
   "display_name": "Python 3",
   "language": "python"
  }
 },
 "nbformat": 4,
 "nbformat_minor": 2,
 "cells": [
  {
   "cell_type": "code",
   "execution_count": 1,
   "metadata": {},
   "outputs": [],
   "source": [
    "# Import semua library\n",
    "import pandas as pd\n",
    "import numpy as np\n",
    "from sklearn.feature_selection import VarianceThreshold\n",
    "from scipy import stats\n",
    "from sklearn.model_selection import train_test_split\n",
    "\n",
    "# Memanggil file\n",
    "data_mentah = pd.read_csv('../Data/Final Data Minggu ke-3.csv')\n",
    "padel_1 = pd.read_csv('../Data/Part 1 - Padel final data minggu ke -3/part 1 - smiles final data minggu ke-3 - padel.csv')\n",
    "padel_2 = pd.read_csv('../Data/Part 2 - Padel final data minggu ke -3/part 2 - smiles final data minggu ke-3 - padel.csv')"
   ]
  },
  {
   "cell_type": "code",
   "execution_count": 2,
   "metadata": {},
   "outputs": [
    {
     "output_type": "stream",
     "name": "stdout",
     "text": [
      "                                                 Smiles  Label   ALogP  \\\n0     NC(CC(=O)N1CCC[C@H]1C(=O)NCc1ccc(C(=O)O)cc1)Cc...      1 -2.4427   \n1         O=C(NCc1ccccc1)[C@@H]1CN[C@H](C(=O)N2CCCC2)C1      1 -2.2658   \n2                   N[C@@H](CC(=O)N1CCSC1)Cc1ccc(F)cc1F      1  0.2408   \n3                          N[C@H](C(=O)N1CCCC1)C1CCCCC1      1 -2.7535   \n4     N[C@H](C(=O)N1CCC(F)(F)C1)[C@H]1CC[C@H](NC(=O)...      1 -1.4117   \n...                                                 ...    ...     ...   \n7397  C=C1C(=O)O[C@@H]2C[C@@]1(C)OC[C@H]2C1CCC2C3C[C...      0  0.6494   \n7398   CCCCCCCCCCCCCCCC(=O)OCC(CO)OC(=O)CCCCCCCCCCCCCCC      0 -7.9855   \n7399  CC(=O)O[C@H]1CC[C@@]2(C)[C@@H](CC[C@@H]3[C@@H]...      0  0.5259   \n7400  C=C(C)[C@@]12C[C@@H](C)C34OC(Cc5ccccc5)(OC1[C@...      0 -0.5390   \n7401  CC(=O)OCC(=O)[C@@]1(OC(=O)c2ccc(Br)o2)C(C)CC2C...      0  1.8646   \n\n         ALogp2       AMR        apol  TopoPSA  Cluster  \n0      5.966783   58.5798   64.881618   112.73       16  \n1      5.133850   54.2512   50.160239    61.44       14  \n2      0.057985   47.6729   40.564688    71.63       10  \n3      7.581762   50.6752   38.791446    46.33       14  \n4      1.992897   62.1044   55.908239    75.43       12  \n...         ...       ...         ...      ...      ...  \n7397   0.421720  121.5494   78.096548    85.36        7  \n7398  63.768210  124.5677  110.951924    72.83        7  \n7399   0.276571  130.9164   91.378064    71.06        7  \n7400   0.290521  134.9816  105.833650    91.29        7  \n7401   3.476733  132.5059   84.734583    99.88        7  \n\n[7402 rows x 8 columns]\n"
     ]
    },
    {
     "output_type": "execute_result",
     "data": {
      "text/plain": [
       "1    3701\n",
       "0    3701\n",
       "Name: Label, dtype: int64"
      ]
     },
     "metadata": {},
     "execution_count": 2
    }
   ],
   "source": [
    "# menghapus / drop column Unnamed: 0\n",
    "data_mentah.drop(columns=['Unnamed: 0'], inplace=True)\n",
    "print(data_mentah)\n",
    "data_mentah['Label'].value_counts()"
   ]
  },
  {
   "cell_type": "code",
   "execution_count": 3,
   "metadata": {},
   "outputs": [
    {
     "output_type": "execute_result",
     "data": {
      "text/plain": [
       "      nAcid   ALogP     ALogp2       AMR        apol  naAromAtom  nAromBond  \\\n",
       "0         1 -2.4427   5.966783   58.5798   64.881618          12         12   \n",
       "1         0 -2.2658   5.133850   54.2512   50.160239           6          6   \n",
       "2         0  0.2408   0.057985   47.6729   40.564688           6          6   \n",
       "3         0 -2.7535   7.581762   50.6752   38.791446           0          0   \n",
       "4         0 -1.4117   1.992897   62.1044   55.908239           6          6   \n",
       "...     ...     ...        ...       ...         ...         ...        ...   \n",
       "3696      0  0.6494   0.421720  121.5494   78.096548           0          0   \n",
       "3697      0 -7.9855  63.768210  124.5677  110.951924           0          0   \n",
       "3698      0  0.5259   0.276571  130.9164   91.378064           0          0   \n",
       "3699      0 -0.5390   0.290521  134.9816  105.833650           6          6   \n",
       "3700      0  1.8646   3.476733  132.5059   84.734583           5          5   \n",
       "\n",
       "      nAtom  nHeavyAtom  nH  ...       AMW     WTPT-1    WTPT-2     WTPT-3  \\\n",
       "0        57          31  26  ...  7.494574  62.304634  2.009827  21.475372   \n",
       "1        45          22  23  ...  6.692867  44.796652  2.036211  14.562941   \n",
       "2        35          19  16  ...  8.174147  37.817602  1.990400  16.406860   \n",
       "3        37          15  22  ...  5.680357  30.110833  2.007389   8.401396   \n",
       "4        51          28  23  ...  7.866130  56.088275  2.003153  23.996258   \n",
       "...     ...         ...  ..  ...       ...        ...       ...        ...   \n",
       "3696     70          34  36  ...  6.689303  70.862017  2.084177  16.910734   \n",
       "3697    108          40  68  ...  5.263951  78.308982  1.957725  13.501724   \n",
       "3698     85          37  48  ...  6.074648  76.515190  2.067978  17.064733   \n",
       "3699     95          45  50  ...  6.509007  92.429343  2.053985  20.446902   \n",
       "3700     70          39  31  ...  9.143757  78.918431  2.023550  26.693807   \n",
       "\n",
       "         WTPT-4    WTPT-5   WPATH  WPOL   XLogP  Zagreb  \n",
       "0      9.946865  8.992340  3208.0  45.0   3.039   156.0  \n",
       "1      5.123292  9.439649  1210.0  28.0   2.432   112.0  \n",
       "2      2.532624  5.857317   781.0  24.0   1.897    94.0  \n",
       "3      2.533622  5.867773   371.0  19.0   1.802    74.0  \n",
       "4      5.105960  8.973738  2372.0  43.0   2.902   148.0  \n",
       "...         ...       ...     ...   ...     ...     ...  \n",
       "3696  16.910734  0.000000  3032.0  82.0   2.489   218.0  \n",
       "3697  13.501724  0.000000  9286.0  41.0  14.900   160.0  \n",
       "3698  17.064733  0.000000  3961.0  78.0   6.912   220.0  \n",
       "3699  20.446902  0.000000  7226.0  93.0   8.136   254.0  \n",
       "3700  19.020294  0.000000  4308.0  86.0   5.179   226.0  \n",
       "\n",
       "[7402 rows x 1444 columns]"
      ],
      "text/html": "<div>\n<style scoped>\n    .dataframe tbody tr th:only-of-type {\n        vertical-align: middle;\n    }\n\n    .dataframe tbody tr th {\n        vertical-align: top;\n    }\n\n    .dataframe thead th {\n        text-align: right;\n    }\n</style>\n<table border=\"1\" class=\"dataframe\">\n  <thead>\n    <tr style=\"text-align: right;\">\n      <th></th>\n      <th>nAcid</th>\n      <th>ALogP</th>\n      <th>ALogp2</th>\n      <th>AMR</th>\n      <th>apol</th>\n      <th>naAromAtom</th>\n      <th>nAromBond</th>\n      <th>nAtom</th>\n      <th>nHeavyAtom</th>\n      <th>nH</th>\n      <th>...</th>\n      <th>AMW</th>\n      <th>WTPT-1</th>\n      <th>WTPT-2</th>\n      <th>WTPT-3</th>\n      <th>WTPT-4</th>\n      <th>WTPT-5</th>\n      <th>WPATH</th>\n      <th>WPOL</th>\n      <th>XLogP</th>\n      <th>Zagreb</th>\n    </tr>\n  </thead>\n  <tbody>\n    <tr>\n      <th>0</th>\n      <td>1</td>\n      <td>-2.4427</td>\n      <td>5.966783</td>\n      <td>58.5798</td>\n      <td>64.881618</td>\n      <td>12</td>\n      <td>12</td>\n      <td>57</td>\n      <td>31</td>\n      <td>26</td>\n      <td>...</td>\n      <td>7.494574</td>\n      <td>62.304634</td>\n      <td>2.009827</td>\n      <td>21.475372</td>\n      <td>9.946865</td>\n      <td>8.992340</td>\n      <td>3208.0</td>\n      <td>45.0</td>\n      <td>3.039</td>\n      <td>156.0</td>\n    </tr>\n    <tr>\n      <th>1</th>\n      <td>0</td>\n      <td>-2.2658</td>\n      <td>5.133850</td>\n      <td>54.2512</td>\n      <td>50.160239</td>\n      <td>6</td>\n      <td>6</td>\n      <td>45</td>\n      <td>22</td>\n      <td>23</td>\n      <td>...</td>\n      <td>6.692867</td>\n      <td>44.796652</td>\n      <td>2.036211</td>\n      <td>14.562941</td>\n      <td>5.123292</td>\n      <td>9.439649</td>\n      <td>1210.0</td>\n      <td>28.0</td>\n      <td>2.432</td>\n      <td>112.0</td>\n    </tr>\n    <tr>\n      <th>2</th>\n      <td>0</td>\n      <td>0.2408</td>\n      <td>0.057985</td>\n      <td>47.6729</td>\n      <td>40.564688</td>\n      <td>6</td>\n      <td>6</td>\n      <td>35</td>\n      <td>19</td>\n      <td>16</td>\n      <td>...</td>\n      <td>8.174147</td>\n      <td>37.817602</td>\n      <td>1.990400</td>\n      <td>16.406860</td>\n      <td>2.532624</td>\n      <td>5.857317</td>\n      <td>781.0</td>\n      <td>24.0</td>\n      <td>1.897</td>\n      <td>94.0</td>\n    </tr>\n    <tr>\n      <th>3</th>\n      <td>0</td>\n      <td>-2.7535</td>\n      <td>7.581762</td>\n      <td>50.6752</td>\n      <td>38.791446</td>\n      <td>0</td>\n      <td>0</td>\n      <td>37</td>\n      <td>15</td>\n      <td>22</td>\n      <td>...</td>\n      <td>5.680357</td>\n      <td>30.110833</td>\n      <td>2.007389</td>\n      <td>8.401396</td>\n      <td>2.533622</td>\n      <td>5.867773</td>\n      <td>371.0</td>\n      <td>19.0</td>\n      <td>1.802</td>\n      <td>74.0</td>\n    </tr>\n    <tr>\n      <th>4</th>\n      <td>0</td>\n      <td>-1.4117</td>\n      <td>1.992897</td>\n      <td>62.1044</td>\n      <td>55.908239</td>\n      <td>6</td>\n      <td>6</td>\n      <td>51</td>\n      <td>28</td>\n      <td>23</td>\n      <td>...</td>\n      <td>7.866130</td>\n      <td>56.088275</td>\n      <td>2.003153</td>\n      <td>23.996258</td>\n      <td>5.105960</td>\n      <td>8.973738</td>\n      <td>2372.0</td>\n      <td>43.0</td>\n      <td>2.902</td>\n      <td>148.0</td>\n    </tr>\n    <tr>\n      <th>...</th>\n      <td>...</td>\n      <td>...</td>\n      <td>...</td>\n      <td>...</td>\n      <td>...</td>\n      <td>...</td>\n      <td>...</td>\n      <td>...</td>\n      <td>...</td>\n      <td>...</td>\n      <td>...</td>\n      <td>...</td>\n      <td>...</td>\n      <td>...</td>\n      <td>...</td>\n      <td>...</td>\n      <td>...</td>\n      <td>...</td>\n      <td>...</td>\n      <td>...</td>\n      <td>...</td>\n    </tr>\n    <tr>\n      <th>3696</th>\n      <td>0</td>\n      <td>0.6494</td>\n      <td>0.421720</td>\n      <td>121.5494</td>\n      <td>78.096548</td>\n      <td>0</td>\n      <td>0</td>\n      <td>70</td>\n      <td>34</td>\n      <td>36</td>\n      <td>...</td>\n      <td>6.689303</td>\n      <td>70.862017</td>\n      <td>2.084177</td>\n      <td>16.910734</td>\n      <td>16.910734</td>\n      <td>0.000000</td>\n      <td>3032.0</td>\n      <td>82.0</td>\n      <td>2.489</td>\n      <td>218.0</td>\n    </tr>\n    <tr>\n      <th>3697</th>\n      <td>0</td>\n      <td>-7.9855</td>\n      <td>63.768210</td>\n      <td>124.5677</td>\n      <td>110.951924</td>\n      <td>0</td>\n      <td>0</td>\n      <td>108</td>\n      <td>40</td>\n      <td>68</td>\n      <td>...</td>\n      <td>5.263951</td>\n      <td>78.308982</td>\n      <td>1.957725</td>\n      <td>13.501724</td>\n      <td>13.501724</td>\n      <td>0.000000</td>\n      <td>9286.0</td>\n      <td>41.0</td>\n      <td>14.900</td>\n      <td>160.0</td>\n    </tr>\n    <tr>\n      <th>3698</th>\n      <td>0</td>\n      <td>0.5259</td>\n      <td>0.276571</td>\n      <td>130.9164</td>\n      <td>91.378064</td>\n      <td>0</td>\n      <td>0</td>\n      <td>85</td>\n      <td>37</td>\n      <td>48</td>\n      <td>...</td>\n      <td>6.074648</td>\n      <td>76.515190</td>\n      <td>2.067978</td>\n      <td>17.064733</td>\n      <td>17.064733</td>\n      <td>0.000000</td>\n      <td>3961.0</td>\n      <td>78.0</td>\n      <td>6.912</td>\n      <td>220.0</td>\n    </tr>\n    <tr>\n      <th>3699</th>\n      <td>0</td>\n      <td>-0.5390</td>\n      <td>0.290521</td>\n      <td>134.9816</td>\n      <td>105.833650</td>\n      <td>6</td>\n      <td>6</td>\n      <td>95</td>\n      <td>45</td>\n      <td>50</td>\n      <td>...</td>\n      <td>6.509007</td>\n      <td>92.429343</td>\n      <td>2.053985</td>\n      <td>20.446902</td>\n      <td>20.446902</td>\n      <td>0.000000</td>\n      <td>7226.0</td>\n      <td>93.0</td>\n      <td>8.136</td>\n      <td>254.0</td>\n    </tr>\n    <tr>\n      <th>3700</th>\n      <td>0</td>\n      <td>1.8646</td>\n      <td>3.476733</td>\n      <td>132.5059</td>\n      <td>84.734583</td>\n      <td>5</td>\n      <td>5</td>\n      <td>70</td>\n      <td>39</td>\n      <td>31</td>\n      <td>...</td>\n      <td>9.143757</td>\n      <td>78.918431</td>\n      <td>2.023550</td>\n      <td>26.693807</td>\n      <td>19.020294</td>\n      <td>0.000000</td>\n      <td>4308.0</td>\n      <td>86.0</td>\n      <td>5.179</td>\n      <td>226.0</td>\n    </tr>\n  </tbody>\n</table>\n<p>7402 rows × 1444 columns</p>\n</div>"
     },
     "metadata": {},
     "execution_count": 3
    }
   ],
   "source": [
    "# Menggabungkan 2 csv menjadi 1 dataframes\n",
    "final_padel = pd.concat([padel_1, padel_2])\n",
    "final_padel.drop(columns=['Name'], inplace=True)\n",
    "final_padel"
   ]
  },
  {
   "cell_type": "code",
   "execution_count": 4,
   "metadata": {},
   "outputs": [
    {
     "output_type": "execute_result",
     "data": {
      "text/plain": [
       "0       NC(CC(=O)N1CCC[C@H]1C(=O)NCc1ccc(C(=O)O)cc1)Cc...\n",
       "1           O=C(NCc1ccccc1)[C@@H]1CN[C@H](C(=O)N2CCCC2)C1\n",
       "2                     N[C@@H](CC(=O)N1CCSC1)Cc1ccc(F)cc1F\n",
       "3                            N[C@H](C(=O)N1CCCC1)C1CCCCC1\n",
       "4       N[C@H](C(=O)N1CCC(F)(F)C1)[C@H]1CC[C@H](NC(=O)...\n",
       "                              ...                        \n",
       "7397    C=C1C(=O)O[C@@H]2C[C@@]1(C)OC[C@H]2C1CCC2C3C[C...\n",
       "7398     CCCCCCCCCCCCCCCC(=O)OCC(CO)OC(=O)CCCCCCCCCCCCCCC\n",
       "7399    CC(=O)O[C@H]1CC[C@@]2(C)[C@@H](CC[C@@H]3[C@@H]...\n",
       "7400    C=C(C)[C@@]12C[C@@H](C)C34OC(Cc5ccccc5)(OC1[C@...\n",
       "7401    CC(=O)OCC(=O)[C@@]1(OC(=O)c2ccc(Br)o2)C(C)CC2C...\n",
       "Name: Smiles, Length: 7402, dtype: object"
      ]
     },
     "metadata": {},
     "execution_count": 4
    }
   ],
   "source": [
    "data_mentah_smiles = data_mentah.Smiles\n",
    "data_mentah_smiles"
   ]
  },
  {
   "cell_type": "code",
   "execution_count": 5,
   "metadata": {},
   "outputs": [
    {
     "output_type": "execute_result",
     "data": {
      "text/plain": [
       "      Label\n",
       "0         1\n",
       "1         1\n",
       "2         1\n",
       "3         1\n",
       "4         1\n",
       "...     ...\n",
       "7397      0\n",
       "7398      0\n",
       "7399      0\n",
       "7400      0\n",
       "7401      0\n",
       "\n",
       "[7402 rows x 1 columns]"
      ],
      "text/html": "<div>\n<style scoped>\n    .dataframe tbody tr th:only-of-type {\n        vertical-align: middle;\n    }\n\n    .dataframe tbody tr th {\n        vertical-align: top;\n    }\n\n    .dataframe thead th {\n        text-align: right;\n    }\n</style>\n<table border=\"1\" class=\"dataframe\">\n  <thead>\n    <tr style=\"text-align: right;\">\n      <th></th>\n      <th>Label</th>\n    </tr>\n  </thead>\n  <tbody>\n    <tr>\n      <th>0</th>\n      <td>1</td>\n    </tr>\n    <tr>\n      <th>1</th>\n      <td>1</td>\n    </tr>\n    <tr>\n      <th>2</th>\n      <td>1</td>\n    </tr>\n    <tr>\n      <th>3</th>\n      <td>1</td>\n    </tr>\n    <tr>\n      <th>4</th>\n      <td>1</td>\n    </tr>\n    <tr>\n      <th>...</th>\n      <td>...</td>\n    </tr>\n    <tr>\n      <th>7397</th>\n      <td>0</td>\n    </tr>\n    <tr>\n      <th>7398</th>\n      <td>0</td>\n    </tr>\n    <tr>\n      <th>7399</th>\n      <td>0</td>\n    </tr>\n    <tr>\n      <th>7400</th>\n      <td>0</td>\n    </tr>\n    <tr>\n      <th>7401</th>\n      <td>0</td>\n    </tr>\n  </tbody>\n</table>\n<p>7402 rows × 1 columns</p>\n</div>"
     },
     "metadata": {},
     "execution_count": 5
    }
   ],
   "source": [
    "data_mentah.iloc[:,1]\n",
    "data_mentah_label = pd.DataFrame(data = data_mentah['Label'], columns=['Label'])\n",
    "data_mentah_label"
   ]
  },
  {
   "cell_type": "code",
   "execution_count": 6,
   "metadata": {},
   "outputs": [
    {
     "output_type": "execute_result",
     "data": {
      "text/plain": [
       "      nAcid   ALogP     ALogp2       AMR        apol  naAromAtom  nAromBond  \\\n",
       "0         1 -2.4427   5.966783   58.5798   64.881618          12         12   \n",
       "1         0 -2.2658   5.133850   54.2512   50.160239           6          6   \n",
       "2         0  0.2408   0.057985   47.6729   40.564688           6          6   \n",
       "3         0 -2.7535   7.581762   50.6752   38.791446           0          0   \n",
       "4         0 -1.4117   1.992897   62.1044   55.908239           6          6   \n",
       "...     ...     ...        ...       ...         ...         ...        ...   \n",
       "7397      0  0.6494   0.421720  121.5494   78.096548           0          0   \n",
       "7398      0 -7.9855  63.768210  124.5677  110.951924           0          0   \n",
       "7399      0  0.5259   0.276571  130.9164   91.378064           0          0   \n",
       "7400      0 -0.5390   0.290521  134.9816  105.833650           6          6   \n",
       "7401      0  1.8646   3.476733  132.5059   84.734583           5          5   \n",
       "\n",
       "      nAtom  nHeavyAtom  nH  ...     WTPT-1    WTPT-2     WTPT-3     WTPT-4  \\\n",
       "0        57          31  26  ...  62.304634  2.009827  21.475372   9.946865   \n",
       "1        45          22  23  ...  44.796652  2.036211  14.562941   5.123292   \n",
       "2        35          19  16  ...  37.817602  1.990400  16.406860   2.532624   \n",
       "3        37          15  22  ...  30.110833  2.007389   8.401396   2.533622   \n",
       "4        51          28  23  ...  56.088275  2.003153  23.996258   5.105960   \n",
       "...     ...         ...  ..  ...        ...       ...        ...        ...   \n",
       "7397     70          34  36  ...  70.862017  2.084177  16.910734  16.910734   \n",
       "7398    108          40  68  ...  78.308982  1.957725  13.501724  13.501724   \n",
       "7399     85          37  48  ...  76.515190  2.067978  17.064733  17.064733   \n",
       "7400     95          45  50  ...  92.429343  2.053985  20.446902  20.446902   \n",
       "7401     70          39  31  ...  78.918431  2.023550  26.693807  19.020294   \n",
       "\n",
       "        WTPT-5   WPATH  WPOL   XLogP  Zagreb  Label  \n",
       "0     8.992340  3208.0  45.0   3.039   156.0      1  \n",
       "1     9.439649  1210.0  28.0   2.432   112.0      1  \n",
       "2     5.857317   781.0  24.0   1.897    94.0      1  \n",
       "3     5.867773   371.0  19.0   1.802    74.0      1  \n",
       "4     8.973738  2372.0  43.0   2.902   148.0      1  \n",
       "...        ...     ...   ...     ...     ...    ...  \n",
       "7397  0.000000  3032.0  82.0   2.489   218.0      0  \n",
       "7398  0.000000  9286.0  41.0  14.900   160.0      0  \n",
       "7399  0.000000  3961.0  78.0   6.912   220.0      0  \n",
       "7400  0.000000  7226.0  93.0   8.136   254.0      0  \n",
       "7401  0.000000  4308.0  86.0   5.179   226.0      0  \n",
       "\n",
       "[7402 rows x 1445 columns]"
      ],
      "text/html": "<div>\n<style scoped>\n    .dataframe tbody tr th:only-of-type {\n        vertical-align: middle;\n    }\n\n    .dataframe tbody tr th {\n        vertical-align: top;\n    }\n\n    .dataframe thead th {\n        text-align: right;\n    }\n</style>\n<table border=\"1\" class=\"dataframe\">\n  <thead>\n    <tr style=\"text-align: right;\">\n      <th></th>\n      <th>nAcid</th>\n      <th>ALogP</th>\n      <th>ALogp2</th>\n      <th>AMR</th>\n      <th>apol</th>\n      <th>naAromAtom</th>\n      <th>nAromBond</th>\n      <th>nAtom</th>\n      <th>nHeavyAtom</th>\n      <th>nH</th>\n      <th>...</th>\n      <th>WTPT-1</th>\n      <th>WTPT-2</th>\n      <th>WTPT-3</th>\n      <th>WTPT-4</th>\n      <th>WTPT-5</th>\n      <th>WPATH</th>\n      <th>WPOL</th>\n      <th>XLogP</th>\n      <th>Zagreb</th>\n      <th>Label</th>\n    </tr>\n  </thead>\n  <tbody>\n    <tr>\n      <th>0</th>\n      <td>1</td>\n      <td>-2.4427</td>\n      <td>5.966783</td>\n      <td>58.5798</td>\n      <td>64.881618</td>\n      <td>12</td>\n      <td>12</td>\n      <td>57</td>\n      <td>31</td>\n      <td>26</td>\n      <td>...</td>\n      <td>62.304634</td>\n      <td>2.009827</td>\n      <td>21.475372</td>\n      <td>9.946865</td>\n      <td>8.992340</td>\n      <td>3208.0</td>\n      <td>45.0</td>\n      <td>3.039</td>\n      <td>156.0</td>\n      <td>1</td>\n    </tr>\n    <tr>\n      <th>1</th>\n      <td>0</td>\n      <td>-2.2658</td>\n      <td>5.133850</td>\n      <td>54.2512</td>\n      <td>50.160239</td>\n      <td>6</td>\n      <td>6</td>\n      <td>45</td>\n      <td>22</td>\n      <td>23</td>\n      <td>...</td>\n      <td>44.796652</td>\n      <td>2.036211</td>\n      <td>14.562941</td>\n      <td>5.123292</td>\n      <td>9.439649</td>\n      <td>1210.0</td>\n      <td>28.0</td>\n      <td>2.432</td>\n      <td>112.0</td>\n      <td>1</td>\n    </tr>\n    <tr>\n      <th>2</th>\n      <td>0</td>\n      <td>0.2408</td>\n      <td>0.057985</td>\n      <td>47.6729</td>\n      <td>40.564688</td>\n      <td>6</td>\n      <td>6</td>\n      <td>35</td>\n      <td>19</td>\n      <td>16</td>\n      <td>...</td>\n      <td>37.817602</td>\n      <td>1.990400</td>\n      <td>16.406860</td>\n      <td>2.532624</td>\n      <td>5.857317</td>\n      <td>781.0</td>\n      <td>24.0</td>\n      <td>1.897</td>\n      <td>94.0</td>\n      <td>1</td>\n    </tr>\n    <tr>\n      <th>3</th>\n      <td>0</td>\n      <td>-2.7535</td>\n      <td>7.581762</td>\n      <td>50.6752</td>\n      <td>38.791446</td>\n      <td>0</td>\n      <td>0</td>\n      <td>37</td>\n      <td>15</td>\n      <td>22</td>\n      <td>...</td>\n      <td>30.110833</td>\n      <td>2.007389</td>\n      <td>8.401396</td>\n      <td>2.533622</td>\n      <td>5.867773</td>\n      <td>371.0</td>\n      <td>19.0</td>\n      <td>1.802</td>\n      <td>74.0</td>\n      <td>1</td>\n    </tr>\n    <tr>\n      <th>4</th>\n      <td>0</td>\n      <td>-1.4117</td>\n      <td>1.992897</td>\n      <td>62.1044</td>\n      <td>55.908239</td>\n      <td>6</td>\n      <td>6</td>\n      <td>51</td>\n      <td>28</td>\n      <td>23</td>\n      <td>...</td>\n      <td>56.088275</td>\n      <td>2.003153</td>\n      <td>23.996258</td>\n      <td>5.105960</td>\n      <td>8.973738</td>\n      <td>2372.0</td>\n      <td>43.0</td>\n      <td>2.902</td>\n      <td>148.0</td>\n      <td>1</td>\n    </tr>\n    <tr>\n      <th>...</th>\n      <td>...</td>\n      <td>...</td>\n      <td>...</td>\n      <td>...</td>\n      <td>...</td>\n      <td>...</td>\n      <td>...</td>\n      <td>...</td>\n      <td>...</td>\n      <td>...</td>\n      <td>...</td>\n      <td>...</td>\n      <td>...</td>\n      <td>...</td>\n      <td>...</td>\n      <td>...</td>\n      <td>...</td>\n      <td>...</td>\n      <td>...</td>\n      <td>...</td>\n      <td>...</td>\n    </tr>\n    <tr>\n      <th>7397</th>\n      <td>0</td>\n      <td>0.6494</td>\n      <td>0.421720</td>\n      <td>121.5494</td>\n      <td>78.096548</td>\n      <td>0</td>\n      <td>0</td>\n      <td>70</td>\n      <td>34</td>\n      <td>36</td>\n      <td>...</td>\n      <td>70.862017</td>\n      <td>2.084177</td>\n      <td>16.910734</td>\n      <td>16.910734</td>\n      <td>0.000000</td>\n      <td>3032.0</td>\n      <td>82.0</td>\n      <td>2.489</td>\n      <td>218.0</td>\n      <td>0</td>\n    </tr>\n    <tr>\n      <th>7398</th>\n      <td>0</td>\n      <td>-7.9855</td>\n      <td>63.768210</td>\n      <td>124.5677</td>\n      <td>110.951924</td>\n      <td>0</td>\n      <td>0</td>\n      <td>108</td>\n      <td>40</td>\n      <td>68</td>\n      <td>...</td>\n      <td>78.308982</td>\n      <td>1.957725</td>\n      <td>13.501724</td>\n      <td>13.501724</td>\n      <td>0.000000</td>\n      <td>9286.0</td>\n      <td>41.0</td>\n      <td>14.900</td>\n      <td>160.0</td>\n      <td>0</td>\n    </tr>\n    <tr>\n      <th>7399</th>\n      <td>0</td>\n      <td>0.5259</td>\n      <td>0.276571</td>\n      <td>130.9164</td>\n      <td>91.378064</td>\n      <td>0</td>\n      <td>0</td>\n      <td>85</td>\n      <td>37</td>\n      <td>48</td>\n      <td>...</td>\n      <td>76.515190</td>\n      <td>2.067978</td>\n      <td>17.064733</td>\n      <td>17.064733</td>\n      <td>0.000000</td>\n      <td>3961.0</td>\n      <td>78.0</td>\n      <td>6.912</td>\n      <td>220.0</td>\n      <td>0</td>\n    </tr>\n    <tr>\n      <th>7400</th>\n      <td>0</td>\n      <td>-0.5390</td>\n      <td>0.290521</td>\n      <td>134.9816</td>\n      <td>105.833650</td>\n      <td>6</td>\n      <td>6</td>\n      <td>95</td>\n      <td>45</td>\n      <td>50</td>\n      <td>...</td>\n      <td>92.429343</td>\n      <td>2.053985</td>\n      <td>20.446902</td>\n      <td>20.446902</td>\n      <td>0.000000</td>\n      <td>7226.0</td>\n      <td>93.0</td>\n      <td>8.136</td>\n      <td>254.0</td>\n      <td>0</td>\n    </tr>\n    <tr>\n      <th>7401</th>\n      <td>0</td>\n      <td>1.8646</td>\n      <td>3.476733</td>\n      <td>132.5059</td>\n      <td>84.734583</td>\n      <td>5</td>\n      <td>5</td>\n      <td>70</td>\n      <td>39</td>\n      <td>31</td>\n      <td>...</td>\n      <td>78.918431</td>\n      <td>2.023550</td>\n      <td>26.693807</td>\n      <td>19.020294</td>\n      <td>0.000000</td>\n      <td>4308.0</td>\n      <td>86.0</td>\n      <td>5.179</td>\n      <td>226.0</td>\n      <td>0</td>\n    </tr>\n  </tbody>\n</table>\n<p>7402 rows × 1445 columns</p>\n</div>"
     },
     "metadata": {},
     "execution_count": 6
    }
   ],
   "source": [
    "final_padel.reset_index(drop= True, inplace= True)\n",
    "final_data = pd.concat([final_padel, data_mentah_label], axis= 1)\n",
    "# final_data = final_data.join(data_mentah_label)\n",
    "# final_data.insert(0, \"Label\", data_mentah_label)\n",
    "# final_data.insert(0, \"Label\", data_mentah.iloc[:,1])\n",
    "# final_data.insert(0, \"Smiles\", data_mentah_smiles)\n",
    "final_data"
   ]
  },
  {
   "cell_type": "code",
   "execution_count": 7,
   "metadata": {},
   "outputs": [
    {
     "output_type": "execute_result",
     "data": {
      "text/plain": [
       "      nAcid   ALogP     ALogp2       AMR        apol  naAromAtom  nAromBond  \\\n",
       "0         1 -2.4427   5.966783   58.5798   64.881618          12         12   \n",
       "1         0 -2.2658   5.133850   54.2512   50.160239           6          6   \n",
       "2         0  0.2408   0.057985   47.6729   40.564688           6          6   \n",
       "3         0 -2.7535   7.581762   50.6752   38.791446           0          0   \n",
       "4         0 -1.4117   1.992897   62.1044   55.908239           6          6   \n",
       "...     ...     ...        ...       ...         ...         ...        ...   \n",
       "7397      0  0.6494   0.421720  121.5494   78.096548           0          0   \n",
       "7398      0 -7.9855  63.768210  124.5677  110.951924           0          0   \n",
       "7399      0  0.5259   0.276571  130.9164   91.378064           0          0   \n",
       "7400      0 -0.5390   0.290521  134.9816  105.833650           6          6   \n",
       "7401      0  1.8646   3.476733  132.5059   84.734583           5          5   \n",
       "\n",
       "      nAtom  nHeavyAtom  nH  ...     WTPT-1    WTPT-2     WTPT-3     WTPT-4  \\\n",
       "0        57          31  26  ...  62.304634  2.009827  21.475372   9.946865   \n",
       "1        45          22  23  ...  44.796652  2.036211  14.562941   5.123292   \n",
       "2        35          19  16  ...  37.817602  1.990400  16.406860   2.532624   \n",
       "3        37          15  22  ...  30.110833  2.007389   8.401396   2.533622   \n",
       "4        51          28  23  ...  56.088275  2.003153  23.996258   5.105960   \n",
       "...     ...         ...  ..  ...        ...       ...        ...        ...   \n",
       "7397     70          34  36  ...  70.862017  2.084177  16.910734  16.910734   \n",
       "7398    108          40  68  ...  78.308982  1.957725  13.501724  13.501724   \n",
       "7399     85          37  48  ...  76.515190  2.067978  17.064733  17.064733   \n",
       "7400     95          45  50  ...  92.429343  2.053985  20.446902  20.446902   \n",
       "7401     70          39  31  ...  78.918431  2.023550  26.693807  19.020294   \n",
       "\n",
       "        WTPT-5   WPATH  WPOL   XLogP  Zagreb  Label  \n",
       "0     8.992340  3208.0  45.0   3.039   156.0      1  \n",
       "1     9.439649  1210.0  28.0   2.432   112.0      1  \n",
       "2     5.857317   781.0  24.0   1.897    94.0      1  \n",
       "3     5.867773   371.0  19.0   1.802    74.0      1  \n",
       "4     8.973738  2372.0  43.0   2.902   148.0      1  \n",
       "...        ...     ...   ...     ...     ...    ...  \n",
       "7397  0.000000  3032.0  82.0   2.489   218.0      0  \n",
       "7398  0.000000  9286.0  41.0  14.900   160.0      0  \n",
       "7399  0.000000  3961.0  78.0   6.912   220.0      0  \n",
       "7400  0.000000  7226.0  93.0   8.136   254.0      0  \n",
       "7401  0.000000  4308.0  86.0   5.179   226.0      0  \n",
       "\n",
       "[7402 rows x 627 columns]"
      ],
      "text/html": "<div>\n<style scoped>\n    .dataframe tbody tr th:only-of-type {\n        vertical-align: middle;\n    }\n\n    .dataframe tbody tr th {\n        vertical-align: top;\n    }\n\n    .dataframe thead th {\n        text-align: right;\n    }\n</style>\n<table border=\"1\" class=\"dataframe\">\n  <thead>\n    <tr style=\"text-align: right;\">\n      <th></th>\n      <th>nAcid</th>\n      <th>ALogP</th>\n      <th>ALogp2</th>\n      <th>AMR</th>\n      <th>apol</th>\n      <th>naAromAtom</th>\n      <th>nAromBond</th>\n      <th>nAtom</th>\n      <th>nHeavyAtom</th>\n      <th>nH</th>\n      <th>...</th>\n      <th>WTPT-1</th>\n      <th>WTPT-2</th>\n      <th>WTPT-3</th>\n      <th>WTPT-4</th>\n      <th>WTPT-5</th>\n      <th>WPATH</th>\n      <th>WPOL</th>\n      <th>XLogP</th>\n      <th>Zagreb</th>\n      <th>Label</th>\n    </tr>\n  </thead>\n  <tbody>\n    <tr>\n      <th>0</th>\n      <td>1</td>\n      <td>-2.4427</td>\n      <td>5.966783</td>\n      <td>58.5798</td>\n      <td>64.881618</td>\n      <td>12</td>\n      <td>12</td>\n      <td>57</td>\n      <td>31</td>\n      <td>26</td>\n      <td>...</td>\n      <td>62.304634</td>\n      <td>2.009827</td>\n      <td>21.475372</td>\n      <td>9.946865</td>\n      <td>8.992340</td>\n      <td>3208.0</td>\n      <td>45.0</td>\n      <td>3.039</td>\n      <td>156.0</td>\n      <td>1</td>\n    </tr>\n    <tr>\n      <th>1</th>\n      <td>0</td>\n      <td>-2.2658</td>\n      <td>5.133850</td>\n      <td>54.2512</td>\n      <td>50.160239</td>\n      <td>6</td>\n      <td>6</td>\n      <td>45</td>\n      <td>22</td>\n      <td>23</td>\n      <td>...</td>\n      <td>44.796652</td>\n      <td>2.036211</td>\n      <td>14.562941</td>\n      <td>5.123292</td>\n      <td>9.439649</td>\n      <td>1210.0</td>\n      <td>28.0</td>\n      <td>2.432</td>\n      <td>112.0</td>\n      <td>1</td>\n    </tr>\n    <tr>\n      <th>2</th>\n      <td>0</td>\n      <td>0.2408</td>\n      <td>0.057985</td>\n      <td>47.6729</td>\n      <td>40.564688</td>\n      <td>6</td>\n      <td>6</td>\n      <td>35</td>\n      <td>19</td>\n      <td>16</td>\n      <td>...</td>\n      <td>37.817602</td>\n      <td>1.990400</td>\n      <td>16.406860</td>\n      <td>2.532624</td>\n      <td>5.857317</td>\n      <td>781.0</td>\n      <td>24.0</td>\n      <td>1.897</td>\n      <td>94.0</td>\n      <td>1</td>\n    </tr>\n    <tr>\n      <th>3</th>\n      <td>0</td>\n      <td>-2.7535</td>\n      <td>7.581762</td>\n      <td>50.6752</td>\n      <td>38.791446</td>\n      <td>0</td>\n      <td>0</td>\n      <td>37</td>\n      <td>15</td>\n      <td>22</td>\n      <td>...</td>\n      <td>30.110833</td>\n      <td>2.007389</td>\n      <td>8.401396</td>\n      <td>2.533622</td>\n      <td>5.867773</td>\n      <td>371.0</td>\n      <td>19.0</td>\n      <td>1.802</td>\n      <td>74.0</td>\n      <td>1</td>\n    </tr>\n    <tr>\n      <th>4</th>\n      <td>0</td>\n      <td>-1.4117</td>\n      <td>1.992897</td>\n      <td>62.1044</td>\n      <td>55.908239</td>\n      <td>6</td>\n      <td>6</td>\n      <td>51</td>\n      <td>28</td>\n      <td>23</td>\n      <td>...</td>\n      <td>56.088275</td>\n      <td>2.003153</td>\n      <td>23.996258</td>\n      <td>5.105960</td>\n      <td>8.973738</td>\n      <td>2372.0</td>\n      <td>43.0</td>\n      <td>2.902</td>\n      <td>148.0</td>\n      <td>1</td>\n    </tr>\n    <tr>\n      <th>...</th>\n      <td>...</td>\n      <td>...</td>\n      <td>...</td>\n      <td>...</td>\n      <td>...</td>\n      <td>...</td>\n      <td>...</td>\n      <td>...</td>\n      <td>...</td>\n      <td>...</td>\n      <td>...</td>\n      <td>...</td>\n      <td>...</td>\n      <td>...</td>\n      <td>...</td>\n      <td>...</td>\n      <td>...</td>\n      <td>...</td>\n      <td>...</td>\n      <td>...</td>\n      <td>...</td>\n    </tr>\n    <tr>\n      <th>7397</th>\n      <td>0</td>\n      <td>0.6494</td>\n      <td>0.421720</td>\n      <td>121.5494</td>\n      <td>78.096548</td>\n      <td>0</td>\n      <td>0</td>\n      <td>70</td>\n      <td>34</td>\n      <td>36</td>\n      <td>...</td>\n      <td>70.862017</td>\n      <td>2.084177</td>\n      <td>16.910734</td>\n      <td>16.910734</td>\n      <td>0.000000</td>\n      <td>3032.0</td>\n      <td>82.0</td>\n      <td>2.489</td>\n      <td>218.0</td>\n      <td>0</td>\n    </tr>\n    <tr>\n      <th>7398</th>\n      <td>0</td>\n      <td>-7.9855</td>\n      <td>63.768210</td>\n      <td>124.5677</td>\n      <td>110.951924</td>\n      <td>0</td>\n      <td>0</td>\n      <td>108</td>\n      <td>40</td>\n      <td>68</td>\n      <td>...</td>\n      <td>78.308982</td>\n      <td>1.957725</td>\n      <td>13.501724</td>\n      <td>13.501724</td>\n      <td>0.000000</td>\n      <td>9286.0</td>\n      <td>41.0</td>\n      <td>14.900</td>\n      <td>160.0</td>\n      <td>0</td>\n    </tr>\n    <tr>\n      <th>7399</th>\n      <td>0</td>\n      <td>0.5259</td>\n      <td>0.276571</td>\n      <td>130.9164</td>\n      <td>91.378064</td>\n      <td>0</td>\n      <td>0</td>\n      <td>85</td>\n      <td>37</td>\n      <td>48</td>\n      <td>...</td>\n      <td>76.515190</td>\n      <td>2.067978</td>\n      <td>17.064733</td>\n      <td>17.064733</td>\n      <td>0.000000</td>\n      <td>3961.0</td>\n      <td>78.0</td>\n      <td>6.912</td>\n      <td>220.0</td>\n      <td>0</td>\n    </tr>\n    <tr>\n      <th>7400</th>\n      <td>0</td>\n      <td>-0.5390</td>\n      <td>0.290521</td>\n      <td>134.9816</td>\n      <td>105.833650</td>\n      <td>6</td>\n      <td>6</td>\n      <td>95</td>\n      <td>45</td>\n      <td>50</td>\n      <td>...</td>\n      <td>92.429343</td>\n      <td>2.053985</td>\n      <td>20.446902</td>\n      <td>20.446902</td>\n      <td>0.000000</td>\n      <td>7226.0</td>\n      <td>93.0</td>\n      <td>8.136</td>\n      <td>254.0</td>\n      <td>0</td>\n    </tr>\n    <tr>\n      <th>7401</th>\n      <td>0</td>\n      <td>1.8646</td>\n      <td>3.476733</td>\n      <td>132.5059</td>\n      <td>84.734583</td>\n      <td>5</td>\n      <td>5</td>\n      <td>70</td>\n      <td>39</td>\n      <td>31</td>\n      <td>...</td>\n      <td>78.918431</td>\n      <td>2.023550</td>\n      <td>26.693807</td>\n      <td>19.020294</td>\n      <td>0.000000</td>\n      <td>4308.0</td>\n      <td>86.0</td>\n      <td>5.179</td>\n      <td>226.0</td>\n      <td>0</td>\n    </tr>\n  </tbody>\n</table>\n<p>7402 rows × 627 columns</p>\n</div>"
     },
     "metadata": {},
     "execution_count": 7
    }
   ],
   "source": [
    "final_data.dropna(axis=1, inplace=True)\n",
    "final_data"
   ]
  },
  {
   "cell_type": "code",
   "execution_count": 8,
   "metadata": {},
   "outputs": [],
   "source": [
    "# Split data train & data test (REVISIAN)\n",
    "train_revisi = []\n",
    "test_revisi = []\n",
    "for i in range(5):\n",
    "    train, test = train_test_split(final_data, test_size = 0.3, shuffle=True) \n",
    "    train_revisi.append(train)\n",
    "    test_revisi.append(test)"
   ]
  },
  {
   "cell_type": "code",
   "execution_count": 11,
   "metadata": {},
   "outputs": [],
   "source": [
    "# Split data train & data test\n",
    "train, test = train_test_split(final_data, test_size = 0.3, random_state = 42, shuffle=True) \n"
   ]
  },
  {
   "cell_type": "code",
   "execution_count": 12,
   "metadata": {},
   "outputs": [],
   "source": [
    "# set train & test to csv\n",
    "train.to_csv('../Data/Data Set/Data Train/Data Train.csv', index=None)\n",
    "test.to_csv('../Data/Data Set/Data Test/Data Test.csv', index=None)"
   ]
  },
  {
   "cell_type": "code",
   "execution_count": 13,
   "metadata": {},
   "outputs": [
    {
     "output_type": "execute_result",
     "data": {
      "text/plain": [
       "      nAcid   ALogP     ALogp2       AMR        apol  naAromAtom  nAromBond  \\\n",
       "4782      0  0.5935   0.352242  152.0223  103.325994           0          0   \n",
       "3469      1 -1.2858   1.653282   63.3585   62.803653          12         12   \n",
       "2579      0 -2.7312   7.459453   39.8206   29.957895           0          0   \n",
       "1086      0 -4.3848  19.226471   51.5910   41.005446           0          0   \n",
       "3082      0 -2.9560   8.737936   62.3639   55.880239           6          6   \n",
       "...     ...     ...        ...       ...         ...         ...        ...   \n",
       "5191      0 -4.7078  22.163381  111.5027  100.470029           6          6   \n",
       "5226      0  1.2991   1.687661  132.9472  104.621650          12         12   \n",
       "5390      0  3.7350  13.950225  137.8655  104.866408           6          6   \n",
       "860       0 -0.0380   0.001444   54.6634   62.897411          12         12   \n",
       "7270      1  2.5350   6.426225  132.2402   87.212064           0          0   \n",
       "\n",
       "      nAtom  nHeavyAtom  nH  ...     WTPT-1    WTPT-2     WTPT-3     WTPT-4  \\\n",
       "4782     98          40  58  ...  80.511498  2.012787  16.556456  16.556456   \n",
       "3469     55          34  21  ...  68.015603  2.000459  32.600193  12.938132   \n",
       "2579     28          13  15  ...  24.986486  1.922037  16.088657   7.319499   \n",
       "1086     39          17  22  ...  32.973525  1.939619  18.704994   7.366242   \n",
       "3082     49          26  23  ...  52.681024  2.026193  20.494359   5.139238   \n",
       "...     ...         ...  ..  ...        ...       ...        ...        ...   \n",
       "5191     90          37  53  ...  72.749585  1.966205  22.908041  13.782600   \n",
       "5226     92          42  50  ...  84.761904  2.018141  27.303940   2.520755   \n",
       "5390     96          40  56  ...  80.277150  2.006929   8.124330   8.124330   \n",
       "860      55          28  27  ...  56.587408  2.020979  13.395188   0.000000   \n",
       "7270     81          33  48  ...  67.252148  2.037944   7.374416   7.374416   \n",
       "\n",
       "         WTPT-5   WPATH  WPOL   XLogP  Zagreb  Label  \n",
       "4782   0.000000  4748.0  95.0   9.518   238.0      0  \n",
       "3469  12.104504  3934.0  51.0   2.553   172.0      1  \n",
       "2579   5.742949   238.0  17.0  -1.222    62.0      1  \n",
       "1086   8.309429   562.0  22.0  -1.347    78.0      1  \n",
       "3082  15.355121  1557.0  44.0   1.933   134.0      1  \n",
       "...         ...     ...   ...     ...     ...    ...  \n",
       "5191   3.203316  7670.0  39.0   9.285   164.0      0  \n",
       "5226  19.681744  7224.0  61.0   8.702   214.0      0  \n",
       "5390   0.000000  5409.0  73.0  13.138   218.0      0  \n",
       "860    8.332395  2404.0  42.0   5.200   142.0      1  \n",
       "7270   0.000000  2720.0  79.0   9.359   202.0      0  \n",
       "\n",
       "[5181 rows x 627 columns]"
      ],
      "text/html": "<div>\n<style scoped>\n    .dataframe tbody tr th:only-of-type {\n        vertical-align: middle;\n    }\n\n    .dataframe tbody tr th {\n        vertical-align: top;\n    }\n\n    .dataframe thead th {\n        text-align: right;\n    }\n</style>\n<table border=\"1\" class=\"dataframe\">\n  <thead>\n    <tr style=\"text-align: right;\">\n      <th></th>\n      <th>nAcid</th>\n      <th>ALogP</th>\n      <th>ALogp2</th>\n      <th>AMR</th>\n      <th>apol</th>\n      <th>naAromAtom</th>\n      <th>nAromBond</th>\n      <th>nAtom</th>\n      <th>nHeavyAtom</th>\n      <th>nH</th>\n      <th>...</th>\n      <th>WTPT-1</th>\n      <th>WTPT-2</th>\n      <th>WTPT-3</th>\n      <th>WTPT-4</th>\n      <th>WTPT-5</th>\n      <th>WPATH</th>\n      <th>WPOL</th>\n      <th>XLogP</th>\n      <th>Zagreb</th>\n      <th>Label</th>\n    </tr>\n  </thead>\n  <tbody>\n    <tr>\n      <th>4782</th>\n      <td>0</td>\n      <td>0.5935</td>\n      <td>0.352242</td>\n      <td>152.0223</td>\n      <td>103.325994</td>\n      <td>0</td>\n      <td>0</td>\n      <td>98</td>\n      <td>40</td>\n      <td>58</td>\n      <td>...</td>\n      <td>80.511498</td>\n      <td>2.012787</td>\n      <td>16.556456</td>\n      <td>16.556456</td>\n      <td>0.000000</td>\n      <td>4748.0</td>\n      <td>95.0</td>\n      <td>9.518</td>\n      <td>238.0</td>\n      <td>0</td>\n    </tr>\n    <tr>\n      <th>3469</th>\n      <td>1</td>\n      <td>-1.2858</td>\n      <td>1.653282</td>\n      <td>63.3585</td>\n      <td>62.803653</td>\n      <td>12</td>\n      <td>12</td>\n      <td>55</td>\n      <td>34</td>\n      <td>21</td>\n      <td>...</td>\n      <td>68.015603</td>\n      <td>2.000459</td>\n      <td>32.600193</td>\n      <td>12.938132</td>\n      <td>12.104504</td>\n      <td>3934.0</td>\n      <td>51.0</td>\n      <td>2.553</td>\n      <td>172.0</td>\n      <td>1</td>\n    </tr>\n    <tr>\n      <th>2579</th>\n      <td>0</td>\n      <td>-2.7312</td>\n      <td>7.459453</td>\n      <td>39.8206</td>\n      <td>29.957895</td>\n      <td>0</td>\n      <td>0</td>\n      <td>28</td>\n      <td>13</td>\n      <td>15</td>\n      <td>...</td>\n      <td>24.986486</td>\n      <td>1.922037</td>\n      <td>16.088657</td>\n      <td>7.319499</td>\n      <td>5.742949</td>\n      <td>238.0</td>\n      <td>17.0</td>\n      <td>-1.222</td>\n      <td>62.0</td>\n      <td>1</td>\n    </tr>\n    <tr>\n      <th>1086</th>\n      <td>0</td>\n      <td>-4.3848</td>\n      <td>19.226471</td>\n      <td>51.5910</td>\n      <td>41.005446</td>\n      <td>0</td>\n      <td>0</td>\n      <td>39</td>\n      <td>17</td>\n      <td>22</td>\n      <td>...</td>\n      <td>32.973525</td>\n      <td>1.939619</td>\n      <td>18.704994</td>\n      <td>7.366242</td>\n      <td>8.309429</td>\n      <td>562.0</td>\n      <td>22.0</td>\n      <td>-1.347</td>\n      <td>78.0</td>\n      <td>1</td>\n    </tr>\n    <tr>\n      <th>3082</th>\n      <td>0</td>\n      <td>-2.9560</td>\n      <td>8.737936</td>\n      <td>62.3639</td>\n      <td>55.880239</td>\n      <td>6</td>\n      <td>6</td>\n      <td>49</td>\n      <td>26</td>\n      <td>23</td>\n      <td>...</td>\n      <td>52.681024</td>\n      <td>2.026193</td>\n      <td>20.494359</td>\n      <td>5.139238</td>\n      <td>15.355121</td>\n      <td>1557.0</td>\n      <td>44.0</td>\n      <td>1.933</td>\n      <td>134.0</td>\n      <td>1</td>\n    </tr>\n    <tr>\n      <th>...</th>\n      <td>...</td>\n      <td>...</td>\n      <td>...</td>\n      <td>...</td>\n      <td>...</td>\n      <td>...</td>\n      <td>...</td>\n      <td>...</td>\n      <td>...</td>\n      <td>...</td>\n      <td>...</td>\n      <td>...</td>\n      <td>...</td>\n      <td>...</td>\n      <td>...</td>\n      <td>...</td>\n      <td>...</td>\n      <td>...</td>\n      <td>...</td>\n      <td>...</td>\n      <td>...</td>\n    </tr>\n    <tr>\n      <th>5191</th>\n      <td>0</td>\n      <td>-4.7078</td>\n      <td>22.163381</td>\n      <td>111.5027</td>\n      <td>100.470029</td>\n      <td>6</td>\n      <td>6</td>\n      <td>90</td>\n      <td>37</td>\n      <td>53</td>\n      <td>...</td>\n      <td>72.749585</td>\n      <td>1.966205</td>\n      <td>22.908041</td>\n      <td>13.782600</td>\n      <td>3.203316</td>\n      <td>7670.0</td>\n      <td>39.0</td>\n      <td>9.285</td>\n      <td>164.0</td>\n      <td>0</td>\n    </tr>\n    <tr>\n      <th>5226</th>\n      <td>0</td>\n      <td>1.2991</td>\n      <td>1.687661</td>\n      <td>132.9472</td>\n      <td>104.621650</td>\n      <td>12</td>\n      <td>12</td>\n      <td>92</td>\n      <td>42</td>\n      <td>50</td>\n      <td>...</td>\n      <td>84.761904</td>\n      <td>2.018141</td>\n      <td>27.303940</td>\n      <td>2.520755</td>\n      <td>19.681744</td>\n      <td>7224.0</td>\n      <td>61.0</td>\n      <td>8.702</td>\n      <td>214.0</td>\n      <td>0</td>\n    </tr>\n    <tr>\n      <th>5390</th>\n      <td>0</td>\n      <td>3.7350</td>\n      <td>13.950225</td>\n      <td>137.8655</td>\n      <td>104.866408</td>\n      <td>6</td>\n      <td>6</td>\n      <td>96</td>\n      <td>40</td>\n      <td>56</td>\n      <td>...</td>\n      <td>80.277150</td>\n      <td>2.006929</td>\n      <td>8.124330</td>\n      <td>8.124330</td>\n      <td>0.000000</td>\n      <td>5409.0</td>\n      <td>73.0</td>\n      <td>13.138</td>\n      <td>218.0</td>\n      <td>0</td>\n    </tr>\n    <tr>\n      <th>860</th>\n      <td>0</td>\n      <td>-0.0380</td>\n      <td>0.001444</td>\n      <td>54.6634</td>\n      <td>62.897411</td>\n      <td>12</td>\n      <td>12</td>\n      <td>55</td>\n      <td>28</td>\n      <td>27</td>\n      <td>...</td>\n      <td>56.587408</td>\n      <td>2.020979</td>\n      <td>13.395188</td>\n      <td>0.000000</td>\n      <td>8.332395</td>\n      <td>2404.0</td>\n      <td>42.0</td>\n      <td>5.200</td>\n      <td>142.0</td>\n      <td>1</td>\n    </tr>\n    <tr>\n      <th>7270</th>\n      <td>1</td>\n      <td>2.5350</td>\n      <td>6.426225</td>\n      <td>132.2402</td>\n      <td>87.212064</td>\n      <td>0</td>\n      <td>0</td>\n      <td>81</td>\n      <td>33</td>\n      <td>48</td>\n      <td>...</td>\n      <td>67.252148</td>\n      <td>2.037944</td>\n      <td>7.374416</td>\n      <td>7.374416</td>\n      <td>0.000000</td>\n      <td>2720.0</td>\n      <td>79.0</td>\n      <td>9.359</td>\n      <td>202.0</td>\n      <td>0</td>\n    </tr>\n  </tbody>\n</table>\n<p>5181 rows × 627 columns</p>\n</div>"
     },
     "metadata": {},
     "execution_count": 13
    }
   ],
   "source": [
    "final_data['Label'].value_counts()\n",
    "train"
   ]
  },
  {
   "cell_type": "code",
   "execution_count": 14,
   "metadata": {},
   "outputs": [],
   "source": [
    "# # Seleksi menggunakan - Variance Threshold\n",
    "# X = final_data.iloc[:1,1:].values\n",
    "# selector = VarianceThreshold(threshold=0.05)\n",
    "# selector.fit_transform(X)"
   ]
  },
  {
   "cell_type": "code",
   "execution_count": 15,
   "metadata": {},
   "outputs": [
    {
     "output_type": "execute_result",
     "data": {
      "text/plain": [
       "           nAcid     ALogP    ALogp2       AMR      apol  naAromAtom  \\\n",
       "nAcid   1.000000  0.195254  0.030766  0.215844  0.164962    0.138887   \n",
       "ALogP   0.195254  1.000000  0.493930  0.250411  0.066587    0.031891   \n",
       "ALogp2  0.030766  0.493930  1.000000  0.255087  0.359786    0.237095   \n",
       "AMR     0.215844  0.250411  0.255087  1.000000  0.891450    0.573894   \n",
       "apol    0.164962  0.066587  0.359786  0.891450  1.000000    0.217307   \n",
       "...          ...       ...       ...       ...       ...         ...   \n",
       "WPATH   0.053047  0.171070  0.449263  0.657572  0.873966    0.003736   \n",
       "WPOL    0.269042  0.424816  0.082512  0.752540  0.760552    0.121825   \n",
       "XLogP   0.202908  0.183979  0.378337  0.683627  0.796557    0.183930   \n",
       "Zagreb  0.202994  0.290582  0.038234  0.769122  0.868425    0.011375   \n",
       "Label   0.185118  0.205687  0.263644  0.884415  0.815124    0.505311   \n",
       "\n",
       "        nAromBond     nAtom  nHeavyAtom        nH  ...    WTPT-1    WTPT-2  \\\n",
       "nAcid    0.136036  0.168103    0.144601  0.169291  ...  0.142203  0.007960   \n",
       "ALogP    0.030499  0.033064    0.104240  0.006995  ...  0.109952  0.090716   \n",
       "ALogp2   0.236688  0.396964    0.237664  0.454948  ...  0.208471  0.304439   \n",
       "AMR      0.574664  0.905879    0.777795  0.913047  ...  0.764458  0.028937   \n",
       "apol     0.219830  0.993212    0.944824  0.952142  ...  0.935725  0.084414   \n",
       "...           ...       ...         ...       ...  ...       ...       ...   \n",
       "WPATH    0.005345  0.862965    0.886179  0.792593  ...  0.872043  0.005652   \n",
       "WPOL     0.120997  0.728196    0.802636  0.639657  ...  0.820130  0.380366   \n",
       "XLogP    0.183388  0.798415    0.685761  0.804606  ...  0.672524  0.003173   \n",
       "Zagreb   0.014155  0.830851    0.936968  0.718569  ...  0.950565  0.375546   \n",
       "Label    0.505408  0.831410    0.678790  0.856627  ...  0.665249  0.070447   \n",
       "\n",
       "          WTPT-3    WTPT-4    WTPT-5     WPATH      WPOL     XLogP    Zagreb  \\\n",
       "nAcid   0.149315  0.190870  0.238638  0.053047  0.269042  0.202908  0.202994   \n",
       "ALogP   0.220407  0.024642  0.316762  0.171070  0.424816  0.183979  0.290582   \n",
       "ALogp2  0.076108  0.158638  0.120457  0.449263  0.082512  0.378337  0.038234   \n",
       "AMR     0.233852  0.618488  0.508583  0.657572  0.752540  0.683627  0.769122   \n",
       "apol    0.052160  0.578883  0.328885  0.873966  0.760552  0.796557  0.868425   \n",
       "...          ...       ...       ...       ...       ...       ...       ...   \n",
       "WPATH   0.191637  0.497710  0.113332  1.000000  0.515297  0.663290  0.711556   \n",
       "WPOL    0.003637  0.522264  0.305642  0.515297  1.000000  0.560713  0.944303   \n",
       "XLogP   0.364153  0.308602  0.510525  0.663290  0.560713  1.000000  0.618737   \n",
       "Zagreb  0.151152  0.549868  0.195962  0.711556  0.944303  0.618737  1.000000   \n",
       "Label   0.327201  0.562021  0.571445  0.607326  0.643379  0.697774  0.653463   \n",
       "\n",
       "           Label  \n",
       "nAcid   0.185118  \n",
       "ALogP   0.205687  \n",
       "ALogp2  0.263644  \n",
       "AMR     0.884415  \n",
       "apol    0.815124  \n",
       "...          ...  \n",
       "WPATH   0.607326  \n",
       "WPOL    0.643379  \n",
       "XLogP   0.697774  \n",
       "Zagreb  0.653463  \n",
       "Label   1.000000  \n",
       "\n",
       "[627 rows x 627 columns]"
      ],
      "text/html": "<div>\n<style scoped>\n    .dataframe tbody tr th:only-of-type {\n        vertical-align: middle;\n    }\n\n    .dataframe tbody tr th {\n        vertical-align: top;\n    }\n\n    .dataframe thead th {\n        text-align: right;\n    }\n</style>\n<table border=\"1\" class=\"dataframe\">\n  <thead>\n    <tr style=\"text-align: right;\">\n      <th></th>\n      <th>nAcid</th>\n      <th>ALogP</th>\n      <th>ALogp2</th>\n      <th>AMR</th>\n      <th>apol</th>\n      <th>naAromAtom</th>\n      <th>nAromBond</th>\n      <th>nAtom</th>\n      <th>nHeavyAtom</th>\n      <th>nH</th>\n      <th>...</th>\n      <th>WTPT-1</th>\n      <th>WTPT-2</th>\n      <th>WTPT-3</th>\n      <th>WTPT-4</th>\n      <th>WTPT-5</th>\n      <th>WPATH</th>\n      <th>WPOL</th>\n      <th>XLogP</th>\n      <th>Zagreb</th>\n      <th>Label</th>\n    </tr>\n  </thead>\n  <tbody>\n    <tr>\n      <th>nAcid</th>\n      <td>1.000000</td>\n      <td>0.195254</td>\n      <td>0.030766</td>\n      <td>0.215844</td>\n      <td>0.164962</td>\n      <td>0.138887</td>\n      <td>0.136036</td>\n      <td>0.168103</td>\n      <td>0.144601</td>\n      <td>0.169291</td>\n      <td>...</td>\n      <td>0.142203</td>\n      <td>0.007960</td>\n      <td>0.149315</td>\n      <td>0.190870</td>\n      <td>0.238638</td>\n      <td>0.053047</td>\n      <td>0.269042</td>\n      <td>0.202908</td>\n      <td>0.202994</td>\n      <td>0.185118</td>\n    </tr>\n    <tr>\n      <th>ALogP</th>\n      <td>0.195254</td>\n      <td>1.000000</td>\n      <td>0.493930</td>\n      <td>0.250411</td>\n      <td>0.066587</td>\n      <td>0.031891</td>\n      <td>0.030499</td>\n      <td>0.033064</td>\n      <td>0.104240</td>\n      <td>0.006995</td>\n      <td>...</td>\n      <td>0.109952</td>\n      <td>0.090716</td>\n      <td>0.220407</td>\n      <td>0.024642</td>\n      <td>0.316762</td>\n      <td>0.171070</td>\n      <td>0.424816</td>\n      <td>0.183979</td>\n      <td>0.290582</td>\n      <td>0.205687</td>\n    </tr>\n    <tr>\n      <th>ALogp2</th>\n      <td>0.030766</td>\n      <td>0.493930</td>\n      <td>1.000000</td>\n      <td>0.255087</td>\n      <td>0.359786</td>\n      <td>0.237095</td>\n      <td>0.236688</td>\n      <td>0.396964</td>\n      <td>0.237664</td>\n      <td>0.454948</td>\n      <td>...</td>\n      <td>0.208471</td>\n      <td>0.304439</td>\n      <td>0.076108</td>\n      <td>0.158638</td>\n      <td>0.120457</td>\n      <td>0.449263</td>\n      <td>0.082512</td>\n      <td>0.378337</td>\n      <td>0.038234</td>\n      <td>0.263644</td>\n    </tr>\n    <tr>\n      <th>AMR</th>\n      <td>0.215844</td>\n      <td>0.250411</td>\n      <td>0.255087</td>\n      <td>1.000000</td>\n      <td>0.891450</td>\n      <td>0.573894</td>\n      <td>0.574664</td>\n      <td>0.905879</td>\n      <td>0.777795</td>\n      <td>0.913047</td>\n      <td>...</td>\n      <td>0.764458</td>\n      <td>0.028937</td>\n      <td>0.233852</td>\n      <td>0.618488</td>\n      <td>0.508583</td>\n      <td>0.657572</td>\n      <td>0.752540</td>\n      <td>0.683627</td>\n      <td>0.769122</td>\n      <td>0.884415</td>\n    </tr>\n    <tr>\n      <th>apol</th>\n      <td>0.164962</td>\n      <td>0.066587</td>\n      <td>0.359786</td>\n      <td>0.891450</td>\n      <td>1.000000</td>\n      <td>0.217307</td>\n      <td>0.219830</td>\n      <td>0.993212</td>\n      <td>0.944824</td>\n      <td>0.952142</td>\n      <td>...</td>\n      <td>0.935725</td>\n      <td>0.084414</td>\n      <td>0.052160</td>\n      <td>0.578883</td>\n      <td>0.328885</td>\n      <td>0.873966</td>\n      <td>0.760552</td>\n      <td>0.796557</td>\n      <td>0.868425</td>\n      <td>0.815124</td>\n    </tr>\n    <tr>\n      <th>...</th>\n      <td>...</td>\n      <td>...</td>\n      <td>...</td>\n      <td>...</td>\n      <td>...</td>\n      <td>...</td>\n      <td>...</td>\n      <td>...</td>\n      <td>...</td>\n      <td>...</td>\n      <td>...</td>\n      <td>...</td>\n      <td>...</td>\n      <td>...</td>\n      <td>...</td>\n      <td>...</td>\n      <td>...</td>\n      <td>...</td>\n      <td>...</td>\n      <td>...</td>\n      <td>...</td>\n    </tr>\n    <tr>\n      <th>WPATH</th>\n      <td>0.053047</td>\n      <td>0.171070</td>\n      <td>0.449263</td>\n      <td>0.657572</td>\n      <td>0.873966</td>\n      <td>0.003736</td>\n      <td>0.005345</td>\n      <td>0.862965</td>\n      <td>0.886179</td>\n      <td>0.792593</td>\n      <td>...</td>\n      <td>0.872043</td>\n      <td>0.005652</td>\n      <td>0.191637</td>\n      <td>0.497710</td>\n      <td>0.113332</td>\n      <td>1.000000</td>\n      <td>0.515297</td>\n      <td>0.663290</td>\n      <td>0.711556</td>\n      <td>0.607326</td>\n    </tr>\n    <tr>\n      <th>WPOL</th>\n      <td>0.269042</td>\n      <td>0.424816</td>\n      <td>0.082512</td>\n      <td>0.752540</td>\n      <td>0.760552</td>\n      <td>0.121825</td>\n      <td>0.120997</td>\n      <td>0.728196</td>\n      <td>0.802636</td>\n      <td>0.639657</td>\n      <td>...</td>\n      <td>0.820130</td>\n      <td>0.380366</td>\n      <td>0.003637</td>\n      <td>0.522264</td>\n      <td>0.305642</td>\n      <td>0.515297</td>\n      <td>1.000000</td>\n      <td>0.560713</td>\n      <td>0.944303</td>\n      <td>0.643379</td>\n    </tr>\n    <tr>\n      <th>XLogP</th>\n      <td>0.202908</td>\n      <td>0.183979</td>\n      <td>0.378337</td>\n      <td>0.683627</td>\n      <td>0.796557</td>\n      <td>0.183930</td>\n      <td>0.183388</td>\n      <td>0.798415</td>\n      <td>0.685761</td>\n      <td>0.804606</td>\n      <td>...</td>\n      <td>0.672524</td>\n      <td>0.003173</td>\n      <td>0.364153</td>\n      <td>0.308602</td>\n      <td>0.510525</td>\n      <td>0.663290</td>\n      <td>0.560713</td>\n      <td>1.000000</td>\n      <td>0.618737</td>\n      <td>0.697774</td>\n    </tr>\n    <tr>\n      <th>Zagreb</th>\n      <td>0.202994</td>\n      <td>0.290582</td>\n      <td>0.038234</td>\n      <td>0.769122</td>\n      <td>0.868425</td>\n      <td>0.011375</td>\n      <td>0.014155</td>\n      <td>0.830851</td>\n      <td>0.936968</td>\n      <td>0.718569</td>\n      <td>...</td>\n      <td>0.950565</td>\n      <td>0.375546</td>\n      <td>0.151152</td>\n      <td>0.549868</td>\n      <td>0.195962</td>\n      <td>0.711556</td>\n      <td>0.944303</td>\n      <td>0.618737</td>\n      <td>1.000000</td>\n      <td>0.653463</td>\n    </tr>\n    <tr>\n      <th>Label</th>\n      <td>0.185118</td>\n      <td>0.205687</td>\n      <td>0.263644</td>\n      <td>0.884415</td>\n      <td>0.815124</td>\n      <td>0.505311</td>\n      <td>0.505408</td>\n      <td>0.831410</td>\n      <td>0.678790</td>\n      <td>0.856627</td>\n      <td>...</td>\n      <td>0.665249</td>\n      <td>0.070447</td>\n      <td>0.327201</td>\n      <td>0.562021</td>\n      <td>0.571445</td>\n      <td>0.607326</td>\n      <td>0.643379</td>\n      <td>0.697774</td>\n      <td>0.653463</td>\n      <td>1.000000</td>\n    </tr>\n  </tbody>\n</table>\n<p>627 rows × 627 columns</p>\n</div>"
     },
     "metadata": {},
     "execution_count": 15
    }
   ],
   "source": [
    "# Seleksi menggunakan - pandas pearson correlation \n",
    "Y = train\n",
    "pxs = Y.corr(method='pearson', min_periods=0.2)\n",
    "pxs = pxs.abs()\n",
    "pxs"
   ]
  },
  {
   "cell_type": "code",
   "execution_count": 16,
   "metadata": {},
   "outputs": [
    {
     "output_type": "display_data",
     "data": {
      "text/plain": "<Figure size 432x288 with 1 Axes>",
      "image/svg+xml": "<?xml version=\"1.0\" encoding=\"utf-8\" standalone=\"no\"?>\r\n<!DOCTYPE svg PUBLIC \"-//W3C//DTD SVG 1.1//EN\"\r\n  \"http://www.w3.org/Graphics/SVG/1.1/DTD/svg11.dtd\">\r\n<!-- Created with matplotlib (https://matplotlib.org/) -->\r\n<svg height=\"262.19625pt\" version=\"1.1\" viewBox=\"0 0 419.801562 262.19625\" width=\"419.801562pt\" xmlns=\"http://www.w3.org/2000/svg\" xmlns:xlink=\"http://www.w3.org/1999/xlink\">\r\n <defs>\r\n  <style type=\"text/css\">\r\n*{stroke-linecap:butt;stroke-linejoin:round;}\r\n  </style>\r\n </defs>\r\n <g id=\"figure_1\">\r\n  <g id=\"patch_1\">\r\n   <path d=\"M 0 262.19625 \r\nL 419.801562 262.19625 \r\nL 419.801562 0 \r\nL 0 0 \r\nz\r\n\" style=\"fill:none;\"/>\r\n  </g>\r\n  <g id=\"axes_1\">\r\n   <g id=\"patch_2\">\r\n    <path d=\"M 77.801563 224.64 \r\nL 412.601562 224.64 \r\nL 412.601562 7.2 \r\nL 77.801563 7.2 \r\nz\r\n\" style=\"fill:#ffffff;\"/>\r\n   </g>\r\n   <g id=\"patch_3\">\r\n    <path clip-path=\"url(#pd9cfc11873)\" d=\"M 77.801563 10.824 \r\nL 396.658705 10.824 \r\nL 396.658705 18.072 \r\nL 77.801563 18.072 \r\nz\r\n\" style=\"fill:#1f77b4;\"/>\r\n   </g>\r\n   <g id=\"patch_4\">\r\n    <path clip-path=\"url(#pd9cfc11873)\" d=\"M 77.801563 25.32 \r\nL 390.198535 25.32 \r\nL 390.198535 32.568 \r\nL 77.801563 32.568 \r\nz\r\n\" style=\"fill:#1f77b4;\"/>\r\n   </g>\r\n   <g id=\"patch_5\">\r\n    <path clip-path=\"url(#pd9cfc11873)\" d=\"M 77.801563 39.816 \r\nL 387.75397 39.816 \r\nL 387.75397 47.064 \r\nL 77.801563 47.064 \r\nz\r\n\" style=\"fill:#1f77b4;\"/>\r\n   </g>\r\n   <g id=\"patch_6\">\r\n    <path clip-path=\"url(#pd9cfc11873)\" d=\"M 77.801563 54.312 \r\nL 386.640407 54.312 \r\nL 386.640407 61.56 \r\nL 77.801563 61.56 \r\nz\r\n\" style=\"fill:#1f77b4;\"/>\r\n   </g>\r\n   <g id=\"patch_7\">\r\n    <path clip-path=\"url(#pd9cfc11873)\" d=\"M 77.801563 68.808 \r\nL 381.415562 68.808 \r\nL 381.415562 76.056 \r\nL 77.801563 76.056 \r\nz\r\n\" style=\"fill:#1f77b4;\"/>\r\n   </g>\r\n   <g id=\"patch_8\">\r\n    <path clip-path=\"url(#pd9cfc11873)\" d=\"M 77.801563 83.304 \r\nL 380.908816 83.304 \r\nL 380.908816 90.552 \r\nL 77.801563 90.552 \r\nz\r\n\" style=\"fill:#1f77b4;\"/>\r\n   </g>\r\n   <g id=\"patch_9\">\r\n    <path clip-path=\"url(#pd9cfc11873)\" d=\"M 77.801563 97.8 \r\nL 380.67192 97.8 \r\nL 380.67192 105.048 \r\nL 77.801563 105.048 \r\nz\r\n\" style=\"fill:#1f77b4;\"/>\r\n   </g>\r\n   <g id=\"patch_10\">\r\n    <path clip-path=\"url(#pd9cfc11873)\" d=\"M 77.801563 112.296 \r\nL 380.396974 112.296 \r\nL 380.396974 119.544 \r\nL 77.801563 119.544 \r\nz\r\n\" style=\"fill:#1f77b4;\"/>\r\n   </g>\r\n   <g id=\"patch_11\">\r\n    <path clip-path=\"url(#pd9cfc11873)\" d=\"M 77.801563 126.792 \r\nL 378.918087 126.792 \r\nL 378.918087 134.04 \r\nL 77.801563 134.04 \r\nz\r\n\" style=\"fill:#1f77b4;\"/>\r\n   </g>\r\n   <g id=\"patch_12\">\r\n    <path clip-path=\"url(#pd9cfc11873)\" d=\"M 77.801563 141.288 \r\nL 377.548786 141.288 \r\nL 377.548786 148.536 \r\nL 77.801563 148.536 \r\nz\r\n\" style=\"fill:#1f77b4;\"/>\r\n   </g>\r\n   <g id=\"patch_13\">\r\n    <path clip-path=\"url(#pd9cfc11873)\" d=\"M 77.801563 155.784 \r\nL 376.981723 155.784 \r\nL 376.981723 163.032 \r\nL 77.801563 163.032 \r\nz\r\n\" style=\"fill:#1f77b4;\"/>\r\n   </g>\r\n   <g id=\"patch_14\">\r\n    <path clip-path=\"url(#pd9cfc11873)\" d=\"M 77.801563 170.28 \r\nL 376.956134 170.28 \r\nL 376.956134 177.528 \r\nL 77.801563 177.528 \r\nz\r\n\" style=\"fill:#1f77b4;\"/>\r\n   </g>\r\n   <g id=\"patch_15\">\r\n    <path clip-path=\"url(#pd9cfc11873)\" d=\"M 77.801563 184.776 \r\nL 376.693841 184.776 \r\nL 376.693841 192.024 \r\nL 77.801563 192.024 \r\nz\r\n\" style=\"fill:#1f77b4;\"/>\r\n   </g>\r\n   <g id=\"patch_16\">\r\n    <path clip-path=\"url(#pd9cfc11873)\" d=\"M 77.801563 199.272 \r\nL 376.626048 199.272 \r\nL 376.626048 206.52 \r\nL 77.801563 206.52 \r\nz\r\n\" style=\"fill:#1f77b4;\"/>\r\n   </g>\r\n   <g id=\"patch_17\">\r\n    <path clip-path=\"url(#pd9cfc11873)\" d=\"M 77.801563 213.768 \r\nL 376.485358 213.768 \r\nL 376.485358 221.016 \r\nL 77.801563 221.016 \r\nz\r\n\" style=\"fill:#1f77b4;\"/>\r\n   </g>\r\n   <g id=\"matplotlib.axis_1\">\r\n    <g id=\"xtick_1\">\r\n     <g id=\"line2d_1\">\r\n      <defs>\r\n       <path d=\"M 0 0 \r\nL 0 3.5 \r\n\" id=\"me5900293d7\" style=\"stroke:#000000;stroke-width:0.8;\"/>\r\n      </defs>\r\n      <g>\r\n       <use style=\"stroke:#000000;stroke-width:0.8;\" x=\"77.801563\" xlink:href=\"#me5900293d7\" y=\"224.64\"/>\r\n      </g>\r\n     </g>\r\n     <g id=\"text_1\">\r\n      <!-- 0.0 -->\r\n      <defs>\r\n       <path d=\"M 31.78125 66.40625 \r\nQ 24.171875 66.40625 20.328125 58.90625 \r\nQ 16.5 51.421875 16.5 36.375 \r\nQ 16.5 21.390625 20.328125 13.890625 \r\nQ 24.171875 6.390625 31.78125 6.390625 \r\nQ 39.453125 6.390625 43.28125 13.890625 \r\nQ 47.125 21.390625 47.125 36.375 \r\nQ 47.125 51.421875 43.28125 58.90625 \r\nQ 39.453125 66.40625 31.78125 66.40625 \r\nz\r\nM 31.78125 74.21875 \r\nQ 44.046875 74.21875 50.515625 64.515625 \r\nQ 56.984375 54.828125 56.984375 36.375 \r\nQ 56.984375 17.96875 50.515625 8.265625 \r\nQ 44.046875 -1.421875 31.78125 -1.421875 \r\nQ 19.53125 -1.421875 13.0625 8.265625 \r\nQ 6.59375 17.96875 6.59375 36.375 \r\nQ 6.59375 54.828125 13.0625 64.515625 \r\nQ 19.53125 74.21875 31.78125 74.21875 \r\nz\r\n\" id=\"DejaVuSans-48\"/>\r\n       <path d=\"M 10.6875 12.40625 \r\nL 21 12.40625 \r\nL 21 0 \r\nL 10.6875 0 \r\nz\r\n\" id=\"DejaVuSans-46\"/>\r\n      </defs>\r\n      <g transform=\"translate(69.85 239.238437)scale(0.1 -0.1)\">\r\n       <use xlink:href=\"#DejaVuSans-48\"/>\r\n       <use x=\"63.623047\" xlink:href=\"#DejaVuSans-46\"/>\r\n       <use x=\"95.410156\" xlink:href=\"#DejaVuSans-48\"/>\r\n      </g>\r\n     </g>\r\n    </g>\r\n    <g id=\"xtick_2\">\r\n     <g id=\"line2d_2\">\r\n      <g>\r\n       <use style=\"stroke:#000000;stroke-width:0.8;\" x=\"149.907329\" xlink:href=\"#me5900293d7\" y=\"224.64\"/>\r\n      </g>\r\n     </g>\r\n     <g id=\"text_2\">\r\n      <!-- 0.2 -->\r\n      <defs>\r\n       <path d=\"M 19.1875 8.296875 \r\nL 53.609375 8.296875 \r\nL 53.609375 0 \r\nL 7.328125 0 \r\nL 7.328125 8.296875 \r\nQ 12.9375 14.109375 22.625 23.890625 \r\nQ 32.328125 33.6875 34.8125 36.53125 \r\nQ 39.546875 41.84375 41.421875 45.53125 \r\nQ 43.3125 49.21875 43.3125 52.78125 \r\nQ 43.3125 58.59375 39.234375 62.25 \r\nQ 35.15625 65.921875 28.609375 65.921875 \r\nQ 23.96875 65.921875 18.8125 64.3125 \r\nQ 13.671875 62.703125 7.8125 59.421875 \r\nL 7.8125 69.390625 \r\nQ 13.765625 71.78125 18.9375 73 \r\nQ 24.125 74.21875 28.421875 74.21875 \r\nQ 39.75 74.21875 46.484375 68.546875 \r\nQ 53.21875 62.890625 53.21875 53.421875 \r\nQ 53.21875 48.921875 51.53125 44.890625 \r\nQ 49.859375 40.875 45.40625 35.40625 \r\nQ 44.1875 33.984375 37.640625 27.21875 \r\nQ 31.109375 20.453125 19.1875 8.296875 \r\nz\r\n\" id=\"DejaVuSans-50\"/>\r\n      </defs>\r\n      <g transform=\"translate(141.955766 239.238437)scale(0.1 -0.1)\">\r\n       <use xlink:href=\"#DejaVuSans-48\"/>\r\n       <use x=\"63.623047\" xlink:href=\"#DejaVuSans-46\"/>\r\n       <use x=\"95.410156\" xlink:href=\"#DejaVuSans-50\"/>\r\n      </g>\r\n     </g>\r\n    </g>\r\n    <g id=\"xtick_3\">\r\n     <g id=\"line2d_3\">\r\n      <g>\r\n       <use style=\"stroke:#000000;stroke-width:0.8;\" x=\"222.013095\" xlink:href=\"#me5900293d7\" y=\"224.64\"/>\r\n      </g>\r\n     </g>\r\n     <g id=\"text_3\">\r\n      <!-- 0.4 -->\r\n      <defs>\r\n       <path d=\"M 37.796875 64.3125 \r\nL 12.890625 25.390625 \r\nL 37.796875 25.390625 \r\nz\r\nM 35.203125 72.90625 \r\nL 47.609375 72.90625 \r\nL 47.609375 25.390625 \r\nL 58.015625 25.390625 \r\nL 58.015625 17.1875 \r\nL 47.609375 17.1875 \r\nL 47.609375 0 \r\nL 37.796875 0 \r\nL 37.796875 17.1875 \r\nL 4.890625 17.1875 \r\nL 4.890625 26.703125 \r\nz\r\n\" id=\"DejaVuSans-52\"/>\r\n      </defs>\r\n      <g transform=\"translate(214.061532 239.238437)scale(0.1 -0.1)\">\r\n       <use xlink:href=\"#DejaVuSans-48\"/>\r\n       <use x=\"63.623047\" xlink:href=\"#DejaVuSans-46\"/>\r\n       <use x=\"95.410156\" xlink:href=\"#DejaVuSans-52\"/>\r\n      </g>\r\n     </g>\r\n    </g>\r\n    <g id=\"xtick_4\">\r\n     <g id=\"line2d_4\">\r\n      <g>\r\n       <use style=\"stroke:#000000;stroke-width:0.8;\" x=\"294.118861\" xlink:href=\"#me5900293d7\" y=\"224.64\"/>\r\n      </g>\r\n     </g>\r\n     <g id=\"text_4\">\r\n      <!-- 0.6 -->\r\n      <defs>\r\n       <path d=\"M 33.015625 40.375 \r\nQ 26.375 40.375 22.484375 35.828125 \r\nQ 18.609375 31.296875 18.609375 23.390625 \r\nQ 18.609375 15.53125 22.484375 10.953125 \r\nQ 26.375 6.390625 33.015625 6.390625 \r\nQ 39.65625 6.390625 43.53125 10.953125 \r\nQ 47.40625 15.53125 47.40625 23.390625 \r\nQ 47.40625 31.296875 43.53125 35.828125 \r\nQ 39.65625 40.375 33.015625 40.375 \r\nz\r\nM 52.59375 71.296875 \r\nL 52.59375 62.3125 \r\nQ 48.875 64.0625 45.09375 64.984375 \r\nQ 41.3125 65.921875 37.59375 65.921875 \r\nQ 27.828125 65.921875 22.671875 59.328125 \r\nQ 17.53125 52.734375 16.796875 39.40625 \r\nQ 19.671875 43.65625 24.015625 45.921875 \r\nQ 28.375 48.1875 33.59375 48.1875 \r\nQ 44.578125 48.1875 50.953125 41.515625 \r\nQ 57.328125 34.859375 57.328125 23.390625 \r\nQ 57.328125 12.15625 50.6875 5.359375 \r\nQ 44.046875 -1.421875 33.015625 -1.421875 \r\nQ 20.359375 -1.421875 13.671875 8.265625 \r\nQ 6.984375 17.96875 6.984375 36.375 \r\nQ 6.984375 53.65625 15.1875 63.9375 \r\nQ 23.390625 74.21875 37.203125 74.21875 \r\nQ 40.921875 74.21875 44.703125 73.484375 \r\nQ 48.484375 72.75 52.59375 71.296875 \r\nz\r\n\" id=\"DejaVuSans-54\"/>\r\n      </defs>\r\n      <g transform=\"translate(286.167298 239.238437)scale(0.1 -0.1)\">\r\n       <use xlink:href=\"#DejaVuSans-48\"/>\r\n       <use x=\"63.623047\" xlink:href=\"#DejaVuSans-46\"/>\r\n       <use x=\"95.410156\" xlink:href=\"#DejaVuSans-54\"/>\r\n      </g>\r\n     </g>\r\n    </g>\r\n    <g id=\"xtick_5\">\r\n     <g id=\"line2d_5\">\r\n      <g>\r\n       <use style=\"stroke:#000000;stroke-width:0.8;\" x=\"366.224627\" xlink:href=\"#me5900293d7\" y=\"224.64\"/>\r\n      </g>\r\n     </g>\r\n     <g id=\"text_5\">\r\n      <!-- 0.8 -->\r\n      <defs>\r\n       <path d=\"M 31.78125 34.625 \r\nQ 24.75 34.625 20.71875 30.859375 \r\nQ 16.703125 27.09375 16.703125 20.515625 \r\nQ 16.703125 13.921875 20.71875 10.15625 \r\nQ 24.75 6.390625 31.78125 6.390625 \r\nQ 38.8125 6.390625 42.859375 10.171875 \r\nQ 46.921875 13.96875 46.921875 20.515625 \r\nQ 46.921875 27.09375 42.890625 30.859375 \r\nQ 38.875 34.625 31.78125 34.625 \r\nz\r\nM 21.921875 38.8125 \r\nQ 15.578125 40.375 12.03125 44.71875 \r\nQ 8.5 49.078125 8.5 55.328125 \r\nQ 8.5 64.0625 14.71875 69.140625 \r\nQ 20.953125 74.21875 31.78125 74.21875 \r\nQ 42.671875 74.21875 48.875 69.140625 \r\nQ 55.078125 64.0625 55.078125 55.328125 \r\nQ 55.078125 49.078125 51.53125 44.71875 \r\nQ 48 40.375 41.703125 38.8125 \r\nQ 48.828125 37.15625 52.796875 32.3125 \r\nQ 56.78125 27.484375 56.78125 20.515625 \r\nQ 56.78125 9.90625 50.3125 4.234375 \r\nQ 43.84375 -1.421875 31.78125 -1.421875 \r\nQ 19.734375 -1.421875 13.25 4.234375 \r\nQ 6.78125 9.90625 6.78125 20.515625 \r\nQ 6.78125 27.484375 10.78125 32.3125 \r\nQ 14.796875 37.15625 21.921875 38.8125 \r\nz\r\nM 18.3125 54.390625 \r\nQ 18.3125 48.734375 21.84375 45.5625 \r\nQ 25.390625 42.390625 31.78125 42.390625 \r\nQ 38.140625 42.390625 41.71875 45.5625 \r\nQ 45.3125 48.734375 45.3125 54.390625 \r\nQ 45.3125 60.0625 41.71875 63.234375 \r\nQ 38.140625 66.40625 31.78125 66.40625 \r\nQ 25.390625 66.40625 21.84375 63.234375 \r\nQ 18.3125 60.0625 18.3125 54.390625 \r\nz\r\n\" id=\"DejaVuSans-56\"/>\r\n      </defs>\r\n      <g transform=\"translate(358.273064 239.238437)scale(0.1 -0.1)\">\r\n       <use xlink:href=\"#DejaVuSans-48\"/>\r\n       <use x=\"63.623047\" xlink:href=\"#DejaVuSans-46\"/>\r\n       <use x=\"95.410156\" xlink:href=\"#DejaVuSans-56\"/>\r\n      </g>\r\n     </g>\r\n    </g>\r\n    <g id=\"text_6\">\r\n     <!-- Correlation Value -->\r\n     <defs>\r\n      <path d=\"M 64.40625 67.28125 \r\nL 64.40625 56.890625 \r\nQ 59.421875 61.53125 53.78125 63.8125 \r\nQ 48.140625 66.109375 41.796875 66.109375 \r\nQ 29.296875 66.109375 22.65625 58.46875 \r\nQ 16.015625 50.828125 16.015625 36.375 \r\nQ 16.015625 21.96875 22.65625 14.328125 \r\nQ 29.296875 6.6875 41.796875 6.6875 \r\nQ 48.140625 6.6875 53.78125 8.984375 \r\nQ 59.421875 11.28125 64.40625 15.921875 \r\nL 64.40625 5.609375 \r\nQ 59.234375 2.09375 53.4375 0.328125 \r\nQ 47.65625 -1.421875 41.21875 -1.421875 \r\nQ 24.65625 -1.421875 15.125 8.703125 \r\nQ 5.609375 18.84375 5.609375 36.375 \r\nQ 5.609375 53.953125 15.125 64.078125 \r\nQ 24.65625 74.21875 41.21875 74.21875 \r\nQ 47.75 74.21875 53.53125 72.484375 \r\nQ 59.328125 70.75 64.40625 67.28125 \r\nz\r\n\" id=\"DejaVuSans-67\"/>\r\n      <path d=\"M 30.609375 48.390625 \r\nQ 23.390625 48.390625 19.1875 42.75 \r\nQ 14.984375 37.109375 14.984375 27.296875 \r\nQ 14.984375 17.484375 19.15625 11.84375 \r\nQ 23.34375 6.203125 30.609375 6.203125 \r\nQ 37.796875 6.203125 41.984375 11.859375 \r\nQ 46.1875 17.53125 46.1875 27.296875 \r\nQ 46.1875 37.015625 41.984375 42.703125 \r\nQ 37.796875 48.390625 30.609375 48.390625 \r\nz\r\nM 30.609375 56 \r\nQ 42.328125 56 49.015625 48.375 \r\nQ 55.71875 40.765625 55.71875 27.296875 \r\nQ 55.71875 13.875 49.015625 6.21875 \r\nQ 42.328125 -1.421875 30.609375 -1.421875 \r\nQ 18.84375 -1.421875 12.171875 6.21875 \r\nQ 5.515625 13.875 5.515625 27.296875 \r\nQ 5.515625 40.765625 12.171875 48.375 \r\nQ 18.84375 56 30.609375 56 \r\nz\r\n\" id=\"DejaVuSans-111\"/>\r\n      <path d=\"M 41.109375 46.296875 \r\nQ 39.59375 47.171875 37.8125 47.578125 \r\nQ 36.03125 48 33.890625 48 \r\nQ 26.265625 48 22.1875 43.046875 \r\nQ 18.109375 38.09375 18.109375 28.8125 \r\nL 18.109375 0 \r\nL 9.078125 0 \r\nL 9.078125 54.6875 \r\nL 18.109375 54.6875 \r\nL 18.109375 46.1875 \r\nQ 20.953125 51.171875 25.484375 53.578125 \r\nQ 30.03125 56 36.53125 56 \r\nQ 37.453125 56 38.578125 55.875 \r\nQ 39.703125 55.765625 41.0625 55.515625 \r\nz\r\n\" id=\"DejaVuSans-114\"/>\r\n      <path d=\"M 56.203125 29.59375 \r\nL 56.203125 25.203125 \r\nL 14.890625 25.203125 \r\nQ 15.484375 15.921875 20.484375 11.0625 \r\nQ 25.484375 6.203125 34.421875 6.203125 \r\nQ 39.59375 6.203125 44.453125 7.46875 \r\nQ 49.3125 8.734375 54.109375 11.28125 \r\nL 54.109375 2.78125 \r\nQ 49.265625 0.734375 44.1875 -0.34375 \r\nQ 39.109375 -1.421875 33.890625 -1.421875 \r\nQ 20.796875 -1.421875 13.15625 6.1875 \r\nQ 5.515625 13.8125 5.515625 26.8125 \r\nQ 5.515625 40.234375 12.765625 48.109375 \r\nQ 20.015625 56 32.328125 56 \r\nQ 43.359375 56 49.78125 48.890625 \r\nQ 56.203125 41.796875 56.203125 29.59375 \r\nz\r\nM 47.21875 32.234375 \r\nQ 47.125 39.59375 43.09375 43.984375 \r\nQ 39.0625 48.390625 32.421875 48.390625 \r\nQ 24.90625 48.390625 20.390625 44.140625 \r\nQ 15.875 39.890625 15.1875 32.171875 \r\nz\r\n\" id=\"DejaVuSans-101\"/>\r\n      <path d=\"M 9.421875 75.984375 \r\nL 18.40625 75.984375 \r\nL 18.40625 0 \r\nL 9.421875 0 \r\nz\r\n\" id=\"DejaVuSans-108\"/>\r\n      <path d=\"M 34.28125 27.484375 \r\nQ 23.390625 27.484375 19.1875 25 \r\nQ 14.984375 22.515625 14.984375 16.5 \r\nQ 14.984375 11.71875 18.140625 8.90625 \r\nQ 21.296875 6.109375 26.703125 6.109375 \r\nQ 34.1875 6.109375 38.703125 11.40625 \r\nQ 43.21875 16.703125 43.21875 25.484375 \r\nL 43.21875 27.484375 \r\nz\r\nM 52.203125 31.203125 \r\nL 52.203125 0 \r\nL 43.21875 0 \r\nL 43.21875 8.296875 \r\nQ 40.140625 3.328125 35.546875 0.953125 \r\nQ 30.953125 -1.421875 24.3125 -1.421875 \r\nQ 15.921875 -1.421875 10.953125 3.296875 \r\nQ 6 8.015625 6 15.921875 \r\nQ 6 25.140625 12.171875 29.828125 \r\nQ 18.359375 34.515625 30.609375 34.515625 \r\nL 43.21875 34.515625 \r\nL 43.21875 35.40625 \r\nQ 43.21875 41.609375 39.140625 45 \r\nQ 35.0625 48.390625 27.6875 48.390625 \r\nQ 23 48.390625 18.546875 47.265625 \r\nQ 14.109375 46.140625 10.015625 43.890625 \r\nL 10.015625 52.203125 \r\nQ 14.9375 54.109375 19.578125 55.046875 \r\nQ 24.21875 56 28.609375 56 \r\nQ 40.484375 56 46.34375 49.84375 \r\nQ 52.203125 43.703125 52.203125 31.203125 \r\nz\r\n\" id=\"DejaVuSans-97\"/>\r\n      <path d=\"M 18.3125 70.21875 \r\nL 18.3125 54.6875 \r\nL 36.8125 54.6875 \r\nL 36.8125 47.703125 \r\nL 18.3125 47.703125 \r\nL 18.3125 18.015625 \r\nQ 18.3125 11.328125 20.140625 9.421875 \r\nQ 21.96875 7.515625 27.59375 7.515625 \r\nL 36.8125 7.515625 \r\nL 36.8125 0 \r\nL 27.59375 0 \r\nQ 17.1875 0 13.234375 3.875 \r\nQ 9.28125 7.765625 9.28125 18.015625 \r\nL 9.28125 47.703125 \r\nL 2.6875 47.703125 \r\nL 2.6875 54.6875 \r\nL 9.28125 54.6875 \r\nL 9.28125 70.21875 \r\nz\r\n\" id=\"DejaVuSans-116\"/>\r\n      <path d=\"M 9.421875 54.6875 \r\nL 18.40625 54.6875 \r\nL 18.40625 0 \r\nL 9.421875 0 \r\nz\r\nM 9.421875 75.984375 \r\nL 18.40625 75.984375 \r\nL 18.40625 64.59375 \r\nL 9.421875 64.59375 \r\nz\r\n\" id=\"DejaVuSans-105\"/>\r\n      <path d=\"M 54.890625 33.015625 \r\nL 54.890625 0 \r\nL 45.90625 0 \r\nL 45.90625 32.71875 \r\nQ 45.90625 40.484375 42.875 44.328125 \r\nQ 39.84375 48.1875 33.796875 48.1875 \r\nQ 26.515625 48.1875 22.3125 43.546875 \r\nQ 18.109375 38.921875 18.109375 30.90625 \r\nL 18.109375 0 \r\nL 9.078125 0 \r\nL 9.078125 54.6875 \r\nL 18.109375 54.6875 \r\nL 18.109375 46.1875 \r\nQ 21.34375 51.125 25.703125 53.5625 \r\nQ 30.078125 56 35.796875 56 \r\nQ 45.21875 56 50.046875 50.171875 \r\nQ 54.890625 44.34375 54.890625 33.015625 \r\nz\r\n\" id=\"DejaVuSans-110\"/>\r\n      <path id=\"DejaVuSans-32\"/>\r\n      <path d=\"M 28.609375 0 \r\nL 0.78125 72.90625 \r\nL 11.078125 72.90625 \r\nL 34.1875 11.53125 \r\nL 57.328125 72.90625 \r\nL 67.578125 72.90625 \r\nL 39.796875 0 \r\nz\r\n\" id=\"DejaVuSans-86\"/>\r\n      <path d=\"M 8.5 21.578125 \r\nL 8.5 54.6875 \r\nL 17.484375 54.6875 \r\nL 17.484375 21.921875 \r\nQ 17.484375 14.15625 20.5 10.265625 \r\nQ 23.53125 6.390625 29.59375 6.390625 \r\nQ 36.859375 6.390625 41.078125 11.03125 \r\nQ 45.3125 15.671875 45.3125 23.6875 \r\nL 45.3125 54.6875 \r\nL 54.296875 54.6875 \r\nL 54.296875 0 \r\nL 45.3125 0 \r\nL 45.3125 8.40625 \r\nQ 42.046875 3.421875 37.71875 1 \r\nQ 33.40625 -1.421875 27.6875 -1.421875 \r\nQ 18.265625 -1.421875 13.375 4.4375 \r\nQ 8.5 10.296875 8.5 21.578125 \r\nz\r\nM 31.109375 56 \r\nz\r\n\" id=\"DejaVuSans-117\"/>\r\n     </defs>\r\n     <g transform=\"translate(202.3125 252.916562)scale(0.1 -0.1)\">\r\n      <use xlink:href=\"#DejaVuSans-67\"/>\r\n      <use x=\"69.824219\" xlink:href=\"#DejaVuSans-111\"/>\r\n      <use x=\"131.005859\" xlink:href=\"#DejaVuSans-114\"/>\r\n      <use x=\"170.369141\" xlink:href=\"#DejaVuSans-114\"/>\r\n      <use x=\"209.232422\" xlink:href=\"#DejaVuSans-101\"/>\r\n      <use x=\"270.755859\" xlink:href=\"#DejaVuSans-108\"/>\r\n      <use x=\"298.539062\" xlink:href=\"#DejaVuSans-97\"/>\r\n      <use x=\"359.818359\" xlink:href=\"#DejaVuSans-116\"/>\r\n      <use x=\"399.027344\" xlink:href=\"#DejaVuSans-105\"/>\r\n      <use x=\"426.810547\" xlink:href=\"#DejaVuSans-111\"/>\r\n      <use x=\"487.992188\" xlink:href=\"#DejaVuSans-110\"/>\r\n      <use x=\"551.371094\" xlink:href=\"#DejaVuSans-32\"/>\r\n      <use x=\"583.158203\" xlink:href=\"#DejaVuSans-86\"/>\r\n      <use x=\"643.816406\" xlink:href=\"#DejaVuSans-97\"/>\r\n      <use x=\"705.095703\" xlink:href=\"#DejaVuSans-108\"/>\r\n      <use x=\"732.878906\" xlink:href=\"#DejaVuSans-117\"/>\r\n      <use x=\"796.257812\" xlink:href=\"#DejaVuSans-101\"/>\r\n     </g>\r\n    </g>\r\n   </g>\r\n   <g id=\"matplotlib.axis_2\">\r\n    <g id=\"ytick_1\">\r\n     <g id=\"line2d_6\">\r\n      <defs>\r\n       <path d=\"M 0 0 \r\nL -3.5 0 \r\n\" id=\"m7a3e4d4ac3\" style=\"stroke:#000000;stroke-width:0.8;\"/>\r\n      </defs>\r\n      <g>\r\n       <use style=\"stroke:#000000;stroke-width:0.8;\" x=\"77.801563\" xlink:href=\"#m7a3e4d4ac3\" y=\"14.448\"/>\r\n      </g>\r\n     </g>\r\n     <g id=\"text_7\">\r\n      <!-- AMR -->\r\n      <defs>\r\n       <path d=\"M 34.1875 63.1875 \r\nL 20.796875 26.90625 \r\nL 47.609375 26.90625 \r\nz\r\nM 28.609375 72.90625 \r\nL 39.796875 72.90625 \r\nL 67.578125 0 \r\nL 57.328125 0 \r\nL 50.6875 18.703125 \r\nL 17.828125 18.703125 \r\nL 11.1875 0 \r\nL 0.78125 0 \r\nz\r\n\" id=\"DejaVuSans-65\"/>\r\n       <path d=\"M 9.8125 72.90625 \r\nL 24.515625 72.90625 \r\nL 43.109375 23.296875 \r\nL 61.8125 72.90625 \r\nL 76.515625 72.90625 \r\nL 76.515625 0 \r\nL 66.890625 0 \r\nL 66.890625 64.015625 \r\nL 48.09375 14.015625 \r\nL 38.1875 14.015625 \r\nL 19.390625 64.015625 \r\nL 19.390625 0 \r\nL 9.8125 0 \r\nz\r\n\" id=\"DejaVuSans-77\"/>\r\n       <path d=\"M 44.390625 34.1875 \r\nQ 47.5625 33.109375 50.5625 29.59375 \r\nQ 53.5625 26.078125 56.59375 19.921875 \r\nL 66.609375 0 \r\nL 56 0 \r\nL 46.6875 18.703125 \r\nQ 43.0625 26.03125 39.671875 28.421875 \r\nQ 36.28125 30.8125 30.421875 30.8125 \r\nL 19.671875 30.8125 \r\nL 19.671875 0 \r\nL 9.8125 0 \r\nL 9.8125 72.90625 \r\nL 32.078125 72.90625 \r\nQ 44.578125 72.90625 50.734375 67.671875 \r\nQ 56.890625 62.453125 56.890625 51.90625 \r\nQ 56.890625 45.015625 53.6875 40.46875 \r\nQ 50.484375 35.9375 44.390625 34.1875 \r\nz\r\nM 19.671875 64.796875 \r\nL 19.671875 38.921875 \r\nL 32.078125 38.921875 \r\nQ 39.203125 38.921875 42.84375 42.21875 \r\nQ 46.484375 45.515625 46.484375 51.90625 \r\nQ 46.484375 58.296875 42.84375 61.546875 \r\nQ 39.203125 64.796875 32.078125 64.796875 \r\nz\r\n\" id=\"DejaVuSans-82\"/>\r\n      </defs>\r\n      <g transform=\"translate(48.384375 18.247219)scale(0.1 -0.1)\">\r\n       <use xlink:href=\"#DejaVuSans-65\"/>\r\n       <use x=\"68.408203\" xlink:href=\"#DejaVuSans-77\"/>\r\n       <use x=\"154.6875\" xlink:href=\"#DejaVuSans-82\"/>\r\n      </g>\r\n     </g>\r\n    </g>\r\n    <g id=\"ytick_2\">\r\n     <g id=\"line2d_7\">\r\n      <g>\r\n       <use style=\"stroke:#000000;stroke-width:0.8;\" x=\"77.801563\" xlink:href=\"#m7a3e4d4ac3\" y=\"28.944\"/>\r\n      </g>\r\n     </g>\r\n     <g id=\"text_8\">\r\n      <!-- nBondsS2 -->\r\n      <defs>\r\n       <path d=\"M 19.671875 34.8125 \r\nL 19.671875 8.109375 \r\nL 35.5 8.109375 \r\nQ 43.453125 8.109375 47.28125 11.40625 \r\nQ 51.125 14.703125 51.125 21.484375 \r\nQ 51.125 28.328125 47.28125 31.5625 \r\nQ 43.453125 34.8125 35.5 34.8125 \r\nz\r\nM 19.671875 64.796875 \r\nL 19.671875 42.828125 \r\nL 34.28125 42.828125 \r\nQ 41.5 42.828125 45.03125 45.53125 \r\nQ 48.578125 48.25 48.578125 53.8125 \r\nQ 48.578125 59.328125 45.03125 62.0625 \r\nQ 41.5 64.796875 34.28125 64.796875 \r\nz\r\nM 9.8125 72.90625 \r\nL 35.015625 72.90625 \r\nQ 46.296875 72.90625 52.390625 68.21875 \r\nQ 58.5 63.53125 58.5 54.890625 \r\nQ 58.5 48.1875 55.375 44.234375 \r\nQ 52.25 40.28125 46.1875 39.3125 \r\nQ 53.46875 37.75 57.5 32.78125 \r\nQ 61.53125 27.828125 61.53125 20.40625 \r\nQ 61.53125 10.640625 54.890625 5.3125 \r\nQ 48.25 0 35.984375 0 \r\nL 9.8125 0 \r\nz\r\n\" id=\"DejaVuSans-66\"/>\r\n       <path d=\"M 45.40625 46.390625 \r\nL 45.40625 75.984375 \r\nL 54.390625 75.984375 \r\nL 54.390625 0 \r\nL 45.40625 0 \r\nL 45.40625 8.203125 \r\nQ 42.578125 3.328125 38.25 0.953125 \r\nQ 33.9375 -1.421875 27.875 -1.421875 \r\nQ 17.96875 -1.421875 11.734375 6.484375 \r\nQ 5.515625 14.40625 5.515625 27.296875 \r\nQ 5.515625 40.1875 11.734375 48.09375 \r\nQ 17.96875 56 27.875 56 \r\nQ 33.9375 56 38.25 53.625 \r\nQ 42.578125 51.265625 45.40625 46.390625 \r\nz\r\nM 14.796875 27.296875 \r\nQ 14.796875 17.390625 18.875 11.75 \r\nQ 22.953125 6.109375 30.078125 6.109375 \r\nQ 37.203125 6.109375 41.296875 11.75 \r\nQ 45.40625 17.390625 45.40625 27.296875 \r\nQ 45.40625 37.203125 41.296875 42.84375 \r\nQ 37.203125 48.484375 30.078125 48.484375 \r\nQ 22.953125 48.484375 18.875 42.84375 \r\nQ 14.796875 37.203125 14.796875 27.296875 \r\nz\r\n\" id=\"DejaVuSans-100\"/>\r\n       <path d=\"M 44.28125 53.078125 \r\nL 44.28125 44.578125 \r\nQ 40.484375 46.53125 36.375 47.5 \r\nQ 32.28125 48.484375 27.875 48.484375 \r\nQ 21.1875 48.484375 17.84375 46.4375 \r\nQ 14.5 44.390625 14.5 40.28125 \r\nQ 14.5 37.15625 16.890625 35.375 \r\nQ 19.28125 33.59375 26.515625 31.984375 \r\nL 29.59375 31.296875 \r\nQ 39.15625 29.25 43.1875 25.515625 \r\nQ 47.21875 21.78125 47.21875 15.09375 \r\nQ 47.21875 7.46875 41.1875 3.015625 \r\nQ 35.15625 -1.421875 24.609375 -1.421875 \r\nQ 20.21875 -1.421875 15.453125 -0.5625 \r\nQ 10.6875 0.296875 5.421875 2 \r\nL 5.421875 11.28125 \r\nQ 10.40625 8.6875 15.234375 7.390625 \r\nQ 20.0625 6.109375 24.8125 6.109375 \r\nQ 31.15625 6.109375 34.5625 8.28125 \r\nQ 37.984375 10.453125 37.984375 14.40625 \r\nQ 37.984375 18.0625 35.515625 20.015625 \r\nQ 33.0625 21.96875 24.703125 23.78125 \r\nL 21.578125 24.515625 \r\nQ 13.234375 26.265625 9.515625 29.90625 \r\nQ 5.8125 33.546875 5.8125 39.890625 \r\nQ 5.8125 47.609375 11.28125 51.796875 \r\nQ 16.75 56 26.8125 56 \r\nQ 31.78125 56 36.171875 55.265625 \r\nQ 40.578125 54.546875 44.28125 53.078125 \r\nz\r\n\" id=\"DejaVuSans-115\"/>\r\n       <path d=\"M 53.515625 70.515625 \r\nL 53.515625 60.890625 \r\nQ 47.90625 63.578125 42.921875 64.890625 \r\nQ 37.9375 66.21875 33.296875 66.21875 \r\nQ 25.25 66.21875 20.875 63.09375 \r\nQ 16.5 59.96875 16.5 54.203125 \r\nQ 16.5 49.359375 19.40625 46.890625 \r\nQ 22.3125 44.4375 30.421875 42.921875 \r\nL 36.375 41.703125 \r\nQ 47.40625 39.59375 52.65625 34.296875 \r\nQ 57.90625 29 57.90625 20.125 \r\nQ 57.90625 9.515625 50.796875 4.046875 \r\nQ 43.703125 -1.421875 29.984375 -1.421875 \r\nQ 24.8125 -1.421875 18.96875 -0.25 \r\nQ 13.140625 0.921875 6.890625 3.21875 \r\nL 6.890625 13.375 \r\nQ 12.890625 10.015625 18.65625 8.296875 \r\nQ 24.421875 6.59375 29.984375 6.59375 \r\nQ 38.421875 6.59375 43.015625 9.90625 \r\nQ 47.609375 13.234375 47.609375 19.390625 \r\nQ 47.609375 24.75 44.3125 27.78125 \r\nQ 41.015625 30.8125 33.5 32.328125 \r\nL 27.484375 33.5 \r\nQ 16.453125 35.6875 11.515625 40.375 \r\nQ 6.59375 45.0625 6.59375 53.421875 \r\nQ 6.59375 63.09375 13.40625 68.65625 \r\nQ 20.21875 74.21875 32.171875 74.21875 \r\nQ 37.3125 74.21875 42.625 73.28125 \r\nQ 47.953125 72.359375 53.515625 70.515625 \r\nz\r\n\" id=\"DejaVuSans-83\"/>\r\n      </defs>\r\n      <g transform=\"translate(20.878125 32.743219)scale(0.1 -0.1)\">\r\n       <use xlink:href=\"#DejaVuSans-110\"/>\r\n       <use x=\"63.378906\" xlink:href=\"#DejaVuSans-66\"/>\r\n       <use x=\"131.982422\" xlink:href=\"#DejaVuSans-111\"/>\r\n       <use x=\"193.164062\" xlink:href=\"#DejaVuSans-110\"/>\r\n       <use x=\"256.542969\" xlink:href=\"#DejaVuSans-100\"/>\r\n       <use x=\"320.019531\" xlink:href=\"#DejaVuSans-115\"/>\r\n       <use x=\"372.119141\" xlink:href=\"#DejaVuSans-83\"/>\r\n       <use x=\"435.595703\" xlink:href=\"#DejaVuSans-50\"/>\r\n      </g>\r\n     </g>\r\n    </g>\r\n    <g id=\"ytick_3\">\r\n     <g id=\"line2d_8\">\r\n      <g>\r\n       <use style=\"stroke:#000000;stroke-width:0.8;\" x=\"77.801563\" xlink:href=\"#m7a3e4d4ac3\" y=\"43.44\"/>\r\n      </g>\r\n     </g>\r\n     <g id=\"text_9\">\r\n      <!-- CIC0 -->\r\n      <defs>\r\n       <path d=\"M 9.8125 72.90625 \r\nL 19.671875 72.90625 \r\nL 19.671875 0 \r\nL 9.8125 0 \r\nz\r\n\" id=\"DejaVuSans-73\"/>\r\n      </defs>\r\n      <g transform=\"translate(47.523438 47.239219)scale(0.1 -0.1)\">\r\n       <use xlink:href=\"#DejaVuSans-67\"/>\r\n       <use x=\"69.824219\" xlink:href=\"#DejaVuSans-73\"/>\r\n       <use x=\"99.316406\" xlink:href=\"#DejaVuSans-67\"/>\r\n       <use x=\"169.140625\" xlink:href=\"#DejaVuSans-48\"/>\r\n      </g>\r\n     </g>\r\n    </g>\r\n    <g id=\"ytick_4\">\r\n     <g id=\"line2d_9\">\r\n      <g>\r\n       <use style=\"stroke:#000000;stroke-width:0.8;\" x=\"77.801563\" xlink:href=\"#m7a3e4d4ac3\" y=\"57.936\"/>\r\n      </g>\r\n     </g>\r\n     <g id=\"text_10\">\r\n      <!-- nH -->\r\n      <defs>\r\n       <path d=\"M 9.8125 72.90625 \r\nL 19.671875 72.90625 \r\nL 19.671875 43.015625 \r\nL 55.515625 43.015625 \r\nL 55.515625 72.90625 \r\nL 65.375 72.90625 \r\nL 65.375 0 \r\nL 55.515625 0 \r\nL 55.515625 34.71875 \r\nL 19.671875 34.71875 \r\nL 19.671875 0 \r\nL 9.8125 0 \r\nz\r\n\" id=\"DejaVuSans-72\"/>\r\n      </defs>\r\n      <g transform=\"translate(56.94375 61.735219)scale(0.1 -0.1)\">\r\n       <use xlink:href=\"#DejaVuSans-110\"/>\r\n       <use x=\"63.378906\" xlink:href=\"#DejaVuSans-72\"/>\r\n      </g>\r\n     </g>\r\n    </g>\r\n    <g id=\"ytick_5\">\r\n     <g id=\"line2d_10\">\r\n      <g>\r\n       <use style=\"stroke:#000000;stroke-width:0.8;\" x=\"77.801563\" xlink:href=\"#m7a3e4d4ac3\" y=\"72.432\"/>\r\n      </g>\r\n     </g>\r\n     <g id=\"text_11\">\r\n      <!-- nBondsS3 -->\r\n      <defs>\r\n       <path d=\"M 40.578125 39.3125 \r\nQ 47.65625 37.796875 51.625 33 \r\nQ 55.609375 28.21875 55.609375 21.1875 \r\nQ 55.609375 10.40625 48.1875 4.484375 \r\nQ 40.765625 -1.421875 27.09375 -1.421875 \r\nQ 22.515625 -1.421875 17.65625 -0.515625 \r\nQ 12.796875 0.390625 7.625 2.203125 \r\nL 7.625 11.71875 \r\nQ 11.71875 9.328125 16.59375 8.109375 \r\nQ 21.484375 6.890625 26.8125 6.890625 \r\nQ 36.078125 6.890625 40.9375 10.546875 \r\nQ 45.796875 14.203125 45.796875 21.1875 \r\nQ 45.796875 27.640625 41.28125 31.265625 \r\nQ 36.765625 34.90625 28.71875 34.90625 \r\nL 20.21875 34.90625 \r\nL 20.21875 43.015625 \r\nL 29.109375 43.015625 \r\nQ 36.375 43.015625 40.234375 45.921875 \r\nQ 44.09375 48.828125 44.09375 54.296875 \r\nQ 44.09375 59.90625 40.109375 62.90625 \r\nQ 36.140625 65.921875 28.71875 65.921875 \r\nQ 24.65625 65.921875 20.015625 65.03125 \r\nQ 15.375 64.15625 9.8125 62.3125 \r\nL 9.8125 71.09375 \r\nQ 15.4375 72.65625 20.34375 73.4375 \r\nQ 25.25 74.21875 29.59375 74.21875 \r\nQ 40.828125 74.21875 47.359375 69.109375 \r\nQ 53.90625 64.015625 53.90625 55.328125 \r\nQ 53.90625 49.265625 50.4375 45.09375 \r\nQ 46.96875 40.921875 40.578125 39.3125 \r\nz\r\n\" id=\"DejaVuSans-51\"/>\r\n      </defs>\r\n      <g transform=\"translate(20.878125 76.231219)scale(0.1 -0.1)\">\r\n       <use xlink:href=\"#DejaVuSans-110\"/>\r\n       <use x=\"63.378906\" xlink:href=\"#DejaVuSans-66\"/>\r\n       <use x=\"131.982422\" xlink:href=\"#DejaVuSans-111\"/>\r\n       <use x=\"193.164062\" xlink:href=\"#DejaVuSans-110\"/>\r\n       <use x=\"256.542969\" xlink:href=\"#DejaVuSans-100\"/>\r\n       <use x=\"320.019531\" xlink:href=\"#DejaVuSans-115\"/>\r\n       <use x=\"372.119141\" xlink:href=\"#DejaVuSans-83\"/>\r\n       <use x=\"435.595703\" xlink:href=\"#DejaVuSans-51\"/>\r\n      </g>\r\n     </g>\r\n    </g>\r\n    <g id=\"ytick_6\">\r\n     <g id=\"line2d_11\">\r\n      <g>\r\n       <use style=\"stroke:#000000;stroke-width:0.8;\" x=\"77.801563\" xlink:href=\"#m7a3e4d4ac3\" y=\"86.928\"/>\r\n      </g>\r\n     </g>\r\n     <g id=\"text_12\">\r\n      <!-- GATS3s -->\r\n      <defs>\r\n       <path d=\"M 59.515625 10.40625 \r\nL 59.515625 29.984375 \r\nL 43.40625 29.984375 \r\nL 43.40625 38.09375 \r\nL 69.28125 38.09375 \r\nL 69.28125 6.78125 \r\nQ 63.578125 2.734375 56.6875 0.65625 \r\nQ 49.8125 -1.421875 42 -1.421875 \r\nQ 24.90625 -1.421875 15.25 8.5625 \r\nQ 5.609375 18.5625 5.609375 36.375 \r\nQ 5.609375 54.25 15.25 64.234375 \r\nQ 24.90625 74.21875 42 74.21875 \r\nQ 49.125 74.21875 55.546875 72.453125 \r\nQ 61.96875 70.703125 67.390625 67.28125 \r\nL 67.390625 56.78125 \r\nQ 61.921875 61.421875 55.765625 63.765625 \r\nQ 49.609375 66.109375 42.828125 66.109375 \r\nQ 29.4375 66.109375 22.71875 58.640625 \r\nQ 16.015625 51.171875 16.015625 36.375 \r\nQ 16.015625 21.625 22.71875 14.15625 \r\nQ 29.4375 6.6875 42.828125 6.6875 \r\nQ 48.046875 6.6875 52.140625 7.59375 \r\nQ 56.25 8.5 59.515625 10.40625 \r\nz\r\n\" id=\"DejaVuSans-71\"/>\r\n       <path d=\"M -0.296875 72.90625 \r\nL 61.375 72.90625 \r\nL 61.375 64.59375 \r\nL 35.5 64.59375 \r\nL 35.5 0 \r\nL 25.59375 0 \r\nL 25.59375 64.59375 \r\nL -0.296875 64.59375 \r\nz\r\n\" id=\"DejaVuSans-84\"/>\r\n      </defs>\r\n      <g transform=\"translate(32.959375 90.727219)scale(0.1 -0.1)\">\r\n       <use xlink:href=\"#DejaVuSans-71\"/>\r\n       <use x=\"77.490234\" xlink:href=\"#DejaVuSans-65\"/>\r\n       <use x=\"138.148438\" xlink:href=\"#DejaVuSans-84\"/>\r\n       <use x=\"199.232422\" xlink:href=\"#DejaVuSans-83\"/>\r\n       <use x=\"262.708984\" xlink:href=\"#DejaVuSans-51\"/>\r\n       <use x=\"326.332031\" xlink:href=\"#DejaVuSans-115\"/>\r\n      </g>\r\n     </g>\r\n    </g>\r\n    <g id=\"ytick_7\">\r\n     <g id=\"line2d_12\">\r\n      <g>\r\n       <use style=\"stroke:#000000;stroke-width:0.8;\" x=\"77.801563\" xlink:href=\"#m7a3e4d4ac3\" y=\"101.424\"/>\r\n      </g>\r\n     </g>\r\n     <g id=\"text_13\">\r\n      <!-- SIC0 -->\r\n      <g transform=\"translate(48.157813 105.223219)scale(0.1 -0.1)\">\r\n       <use xlink:href=\"#DejaVuSans-83\"/>\r\n       <use x=\"63.476562\" xlink:href=\"#DejaVuSans-73\"/>\r\n       <use x=\"92.96875\" xlink:href=\"#DejaVuSans-67\"/>\r\n       <use x=\"162.792969\" xlink:href=\"#DejaVuSans-48\"/>\r\n      </g>\r\n     </g>\r\n    </g>\r\n    <g id=\"ytick_8\">\r\n     <g id=\"line2d_13\">\r\n      <g>\r\n       <use style=\"stroke:#000000;stroke-width:0.8;\" x=\"77.801563\" xlink:href=\"#m7a3e4d4ac3\" y=\"115.92\"/>\r\n      </g>\r\n     </g>\r\n     <g id=\"text_14\">\r\n      <!-- ATSC0v -->\r\n      <defs>\r\n       <path d=\"M 2.984375 54.6875 \r\nL 12.5 54.6875 \r\nL 29.59375 8.796875 \r\nL 46.6875 54.6875 \r\nL 56.203125 54.6875 \r\nL 35.6875 0 \r\nL 23.484375 0 \r\nz\r\n\" id=\"DejaVuSans-118\"/>\r\n      </defs>\r\n      <g transform=\"translate(33.015625 119.719219)scale(0.1 -0.1)\">\r\n       <use xlink:href=\"#DejaVuSans-65\"/>\r\n       <use x=\"60.658203\" xlink:href=\"#DejaVuSans-84\"/>\r\n       <use x=\"121.742188\" xlink:href=\"#DejaVuSans-83\"/>\r\n       <use x=\"185.21875\" xlink:href=\"#DejaVuSans-67\"/>\r\n       <use x=\"255.042969\" xlink:href=\"#DejaVuSans-48\"/>\r\n       <use x=\"318.666016\" xlink:href=\"#DejaVuSans-118\"/>\r\n      </g>\r\n     </g>\r\n    </g>\r\n    <g id=\"ytick_9\">\r\n     <g id=\"line2d_14\">\r\n      <g>\r\n       <use style=\"stroke:#000000;stroke-width:0.8;\" x=\"77.801563\" xlink:href=\"#m7a3e4d4ac3\" y=\"130.416\"/>\r\n      </g>\r\n     </g>\r\n     <g id=\"text_15\">\r\n      <!-- ATS3e -->\r\n      <g transform=\"translate(39.764063 134.215219)scale(0.1 -0.1)\">\r\n       <use xlink:href=\"#DejaVuSans-65\"/>\r\n       <use x=\"60.658203\" xlink:href=\"#DejaVuSans-84\"/>\r\n       <use x=\"121.742188\" xlink:href=\"#DejaVuSans-83\"/>\r\n       <use x=\"185.21875\" xlink:href=\"#DejaVuSans-51\"/>\r\n       <use x=\"248.841797\" xlink:href=\"#DejaVuSans-101\"/>\r\n      </g>\r\n     </g>\r\n    </g>\r\n    <g id=\"ytick_10\">\r\n     <g id=\"line2d_15\">\r\n      <g>\r\n       <use style=\"stroke:#000000;stroke-width:0.8;\" x=\"77.801563\" xlink:href=\"#m7a3e4d4ac3\" y=\"144.912\"/>\r\n      </g>\r\n     </g>\r\n     <g id=\"text_16\">\r\n      <!-- nAtom -->\r\n      <defs>\r\n       <path d=\"M 52 44.1875 \r\nQ 55.375 50.25 60.0625 53.125 \r\nQ 64.75 56 71.09375 56 \r\nQ 79.640625 56 84.28125 50.015625 \r\nQ 88.921875 44.046875 88.921875 33.015625 \r\nL 88.921875 0 \r\nL 79.890625 0 \r\nL 79.890625 32.71875 \r\nQ 79.890625 40.578125 77.09375 44.375 \r\nQ 74.3125 48.1875 68.609375 48.1875 \r\nQ 61.625 48.1875 57.5625 43.546875 \r\nQ 53.515625 38.921875 53.515625 30.90625 \r\nL 53.515625 0 \r\nL 44.484375 0 \r\nL 44.484375 32.71875 \r\nQ 44.484375 40.625 41.703125 44.40625 \r\nQ 38.921875 48.1875 33.109375 48.1875 \r\nQ 26.21875 48.1875 22.15625 43.53125 \r\nQ 18.109375 38.875 18.109375 30.90625 \r\nL 18.109375 0 \r\nL 9.078125 0 \r\nL 9.078125 54.6875 \r\nL 18.109375 54.6875 \r\nL 18.109375 46.1875 \r\nQ 21.1875 51.21875 25.484375 53.609375 \r\nQ 29.78125 56 35.6875 56 \r\nQ 41.65625 56 45.828125 52.96875 \r\nQ 50 49.953125 52 44.1875 \r\nz\r\n\" id=\"DejaVuSans-109\"/>\r\n      </defs>\r\n      <g transform=\"translate(38.01875 148.711219)scale(0.1 -0.1)\">\r\n       <use xlink:href=\"#DejaVuSans-110\"/>\r\n       <use x=\"63.378906\" xlink:href=\"#DejaVuSans-65\"/>\r\n       <use x=\"130.037109\" xlink:href=\"#DejaVuSans-116\"/>\r\n       <use x=\"169.246094\" xlink:href=\"#DejaVuSans-111\"/>\r\n       <use x=\"230.427734\" xlink:href=\"#DejaVuSans-109\"/>\r\n      </g>\r\n     </g>\r\n    </g>\r\n    <g id=\"ytick_11\">\r\n     <g id=\"line2d_16\">\r\n      <g>\r\n       <use style=\"stroke:#000000;stroke-width:0.8;\" x=\"77.801563\" xlink:href=\"#m7a3e4d4ac3\" y=\"159.408\"/>\r\n      </g>\r\n     </g>\r\n     <g id=\"text_17\">\r\n      <!-- ATS3i -->\r\n      <g transform=\"translate(43.139063 163.207219)scale(0.1 -0.1)\">\r\n       <use xlink:href=\"#DejaVuSans-65\"/>\r\n       <use x=\"60.658203\" xlink:href=\"#DejaVuSans-84\"/>\r\n       <use x=\"121.742188\" xlink:href=\"#DejaVuSans-83\"/>\r\n       <use x=\"185.21875\" xlink:href=\"#DejaVuSans-51\"/>\r\n       <use x=\"248.841797\" xlink:href=\"#DejaVuSans-105\"/>\r\n      </g>\r\n     </g>\r\n    </g>\r\n    <g id=\"ytick_12\">\r\n     <g id=\"line2d_17\">\r\n      <g>\r\n       <use style=\"stroke:#000000;stroke-width:0.8;\" x=\"77.801563\" xlink:href=\"#m7a3e4d4ac3\" y=\"173.904\"/>\r\n      </g>\r\n     </g>\r\n     <g id=\"text_18\">\r\n      <!-- CIC1 -->\r\n      <defs>\r\n       <path d=\"M 12.40625 8.296875 \r\nL 28.515625 8.296875 \r\nL 28.515625 63.921875 \r\nL 10.984375 60.40625 \r\nL 10.984375 69.390625 \r\nL 28.421875 72.90625 \r\nL 38.28125 72.90625 \r\nL 38.28125 8.296875 \r\nL 54.390625 8.296875 \r\nL 54.390625 0 \r\nL 12.40625 0 \r\nz\r\n\" id=\"DejaVuSans-49\"/>\r\n      </defs>\r\n      <g transform=\"translate(47.523438 177.703219)scale(0.1 -0.1)\">\r\n       <use xlink:href=\"#DejaVuSans-67\"/>\r\n       <use x=\"69.824219\" xlink:href=\"#DejaVuSans-73\"/>\r\n       <use x=\"99.316406\" xlink:href=\"#DejaVuSans-67\"/>\r\n       <use x=\"169.140625\" xlink:href=\"#DejaVuSans-49\"/>\r\n      </g>\r\n     </g>\r\n    </g>\r\n    <g id=\"ytick_13\">\r\n     <g id=\"line2d_18\">\r\n      <g>\r\n       <use style=\"stroke:#000000;stroke-width:0.8;\" x=\"77.801563\" xlink:href=\"#m7a3e4d4ac3\" y=\"188.4\"/>\r\n      </g>\r\n     </g>\r\n     <g id=\"text_19\">\r\n      <!-- ATS2i -->\r\n      <g transform=\"translate(43.139063 192.199219)scale(0.1 -0.1)\">\r\n       <use xlink:href=\"#DejaVuSans-65\"/>\r\n       <use x=\"60.658203\" xlink:href=\"#DejaVuSans-84\"/>\r\n       <use x=\"121.742188\" xlink:href=\"#DejaVuSans-83\"/>\r\n       <use x=\"185.21875\" xlink:href=\"#DejaVuSans-50\"/>\r\n       <use x=\"248.841797\" xlink:href=\"#DejaVuSans-105\"/>\r\n      </g>\r\n     </g>\r\n    </g>\r\n    <g id=\"ytick_14\">\r\n     <g id=\"line2d_19\">\r\n      <g>\r\n       <use style=\"stroke:#000000;stroke-width:0.8;\" x=\"77.801563\" xlink:href=\"#m7a3e4d4ac3\" y=\"202.896\"/>\r\n      </g>\r\n     </g>\r\n     <g id=\"text_20\">\r\n      <!-- ATS2e -->\r\n      <g transform=\"translate(39.764063 206.695219)scale(0.1 -0.1)\">\r\n       <use xlink:href=\"#DejaVuSans-65\"/>\r\n       <use x=\"60.658203\" xlink:href=\"#DejaVuSans-84\"/>\r\n       <use x=\"121.742188\" xlink:href=\"#DejaVuSans-83\"/>\r\n       <use x=\"185.21875\" xlink:href=\"#DejaVuSans-50\"/>\r\n       <use x=\"248.841797\" xlink:href=\"#DejaVuSans-101\"/>\r\n      </g>\r\n     </g>\r\n    </g>\r\n    <g id=\"ytick_15\">\r\n     <g id=\"line2d_20\">\r\n      <g>\r\n       <use style=\"stroke:#000000;stroke-width:0.8;\" x=\"77.801563\" xlink:href=\"#m7a3e4d4ac3\" y=\"217.392\"/>\r\n      </g>\r\n     </g>\r\n     <g id=\"text_21\">\r\n      <!-- GATS2s -->\r\n      <g transform=\"translate(32.959375 221.191219)scale(0.1 -0.1)\">\r\n       <use xlink:href=\"#DejaVuSans-71\"/>\r\n       <use x=\"77.490234\" xlink:href=\"#DejaVuSans-65\"/>\r\n       <use x=\"138.148438\" xlink:href=\"#DejaVuSans-84\"/>\r\n       <use x=\"199.232422\" xlink:href=\"#DejaVuSans-83\"/>\r\n       <use x=\"262.708984\" xlink:href=\"#DejaVuSans-50\"/>\r\n       <use x=\"326.332031\" xlink:href=\"#DejaVuSans-115\"/>\r\n      </g>\r\n     </g>\r\n    </g>\r\n    <g id=\"text_22\">\r\n     <!-- Name of Features -->\r\n     <defs>\r\n      <path d=\"M 9.8125 72.90625 \r\nL 23.09375 72.90625 \r\nL 55.421875 11.921875 \r\nL 55.421875 72.90625 \r\nL 64.984375 72.90625 \r\nL 64.984375 0 \r\nL 51.703125 0 \r\nL 19.390625 60.984375 \r\nL 19.390625 0 \r\nL 9.8125 0 \r\nz\r\n\" id=\"DejaVuSans-78\"/>\r\n      <path d=\"M 37.109375 75.984375 \r\nL 37.109375 68.5 \r\nL 28.515625 68.5 \r\nQ 23.6875 68.5 21.796875 66.546875 \r\nQ 19.921875 64.59375 19.921875 59.515625 \r\nL 19.921875 54.6875 \r\nL 34.71875 54.6875 \r\nL 34.71875 47.703125 \r\nL 19.921875 47.703125 \r\nL 19.921875 0 \r\nL 10.890625 0 \r\nL 10.890625 47.703125 \r\nL 2.296875 47.703125 \r\nL 2.296875 54.6875 \r\nL 10.890625 54.6875 \r\nL 10.890625 58.5 \r\nQ 10.890625 67.625 15.140625 71.796875 \r\nQ 19.390625 75.984375 28.609375 75.984375 \r\nz\r\n\" id=\"DejaVuSans-102\"/>\r\n      <path d=\"M 9.8125 72.90625 \r\nL 51.703125 72.90625 \r\nL 51.703125 64.59375 \r\nL 19.671875 64.59375 \r\nL 19.671875 43.109375 \r\nL 48.578125 43.109375 \r\nL 48.578125 34.8125 \r\nL 19.671875 34.8125 \r\nL 19.671875 0 \r\nL 9.8125 0 \r\nz\r\n\" id=\"DejaVuSans-70\"/>\r\n     </defs>\r\n     <g transform=\"translate(14.798438 160.16375)rotate(-90)scale(0.1 -0.1)\">\r\n      <use xlink:href=\"#DejaVuSans-78\"/>\r\n      <use x=\"74.804688\" xlink:href=\"#DejaVuSans-97\"/>\r\n      <use x=\"136.083984\" xlink:href=\"#DejaVuSans-109\"/>\r\n      <use x=\"233.496094\" xlink:href=\"#DejaVuSans-101\"/>\r\n      <use x=\"295.019531\" xlink:href=\"#DejaVuSans-32\"/>\r\n      <use x=\"326.806641\" xlink:href=\"#DejaVuSans-111\"/>\r\n      <use x=\"387.988281\" xlink:href=\"#DejaVuSans-102\"/>\r\n      <use x=\"423.193359\" xlink:href=\"#DejaVuSans-32\"/>\r\n      <use x=\"454.980469\" xlink:href=\"#DejaVuSans-70\"/>\r\n      <use x=\"507\" xlink:href=\"#DejaVuSans-101\"/>\r\n      <use x=\"568.523438\" xlink:href=\"#DejaVuSans-97\"/>\r\n      <use x=\"629.802734\" xlink:href=\"#DejaVuSans-116\"/>\r\n      <use x=\"669.011719\" xlink:href=\"#DejaVuSans-117\"/>\r\n      <use x=\"732.390625\" xlink:href=\"#DejaVuSans-114\"/>\r\n      <use x=\"771.253906\" xlink:href=\"#DejaVuSans-101\"/>\r\n      <use x=\"832.777344\" xlink:href=\"#DejaVuSans-115\"/>\r\n     </g>\r\n    </g>\r\n   </g>\r\n   <g id=\"patch_18\">\r\n    <path d=\"M 77.801563 224.64 \r\nL 77.801563 7.2 \r\n\" style=\"fill:none;stroke:#000000;stroke-linecap:square;stroke-linejoin:miter;stroke-width:0.8;\"/>\r\n   </g>\r\n   <g id=\"patch_19\">\r\n    <path d=\"M 412.601562 224.64 \r\nL 412.601562 7.2 \r\n\" style=\"fill:none;stroke:#000000;stroke-linecap:square;stroke-linejoin:miter;stroke-width:0.8;\"/>\r\n   </g>\r\n   <g id=\"patch_20\">\r\n    <path d=\"M 77.801563 224.64 \r\nL 412.601562 224.64 \r\n\" style=\"fill:none;stroke:#000000;stroke-linecap:square;stroke-linejoin:miter;stroke-width:0.8;\"/>\r\n   </g>\r\n   <g id=\"patch_21\">\r\n    <path d=\"M 77.801563 7.2 \r\nL 412.601562 7.2 \r\n\" style=\"fill:none;stroke:#000000;stroke-linecap:square;stroke-linejoin:miter;stroke-width:0.8;\"/>\r\n   </g>\r\n  </g>\r\n </g>\r\n <defs>\r\n  <clipPath id=\"pd9cfc11873\">\r\n   <rect height=\"217.44\" width=\"334.8\" x=\"77.801563\" y=\"7.2\"/>\r\n  </clipPath>\r\n </defs>\r\n</svg>\r\n",
      "image/png": "[encoded data removed]"
     },
     "metadata": {
      "needs_background": "light"
     }
    }
   ],
   "source": [
    "import matplotlib.pyplot as plt\n",
    "pxs.sort_values(by='Label', inplace=True, ascending=False)\n",
    "pxs_scor_accuracy = pxs.iloc[1:16,-1]\n",
    "pxs_scor_accuracy\n",
    "ax = pxs_scor_accuracy.plot.barh()\n",
    "plt.xlabel('Correlation Value')\n",
    "plt.ylabel('Name of Features')\n",
    "plt.gca().invert_yaxis()\n",
    "plt.show()"
   ]
  },
  {
   "cell_type": "code",
   "execution_count": 17,
   "metadata": {},
   "outputs": [],
   "source": [
    "# pxs.sort_values(by='Label', inplace=True, ascending=False)\n",
    "# pxs_scor_accuracy = pxs.iloc[:,0:]\n",
    "pxs.drop(columns=['Label'], inplace=True)\n",
    "# pxs[:100]"
   ]
  },
  {
   "cell_type": "code",
   "execution_count": 18,
   "metadata": {},
   "outputs": [
    {
     "output_type": "stream",
     "name": "stdout",
     "text": [
      "['Label', 'AMR', 'nBondsS2', 'CIC0', 'nH', 'nBondsS3', 'GATS3s', 'SIC0', 'ATSC0v', 'ATS3e', 'nAtom', 'ATS3i', 'CIC1', 'ATS2i', 'ATS2e', 'GATS2s', 'MLogP', 'BIC0', 'ATS2p', 'ATS4i', 'nBonds2', 'Si', 'ATS4e', 'ATS3p', 'Sse', 'nBondsS', 'ATS1p', 'ATS0i', 'TIC5', 'apol', 'Spe', 'GATS1s', 'Sp', 'Sare', 'ATS1e', 'TIC4', 'ATS1i', 'ATS0e', 'ATS5i', 'ATS5e', 'ATS6i', 'ATS6e', 'ATS4p', 'bpol', 'ATS8i', 'ATS2v', 'ATS7i', 'TIC3', 'GATS6s', 'nC', 'ATS7e', 'ATS1v', 'ATS5p', 'ATS8e', 'Sv', 'SIC1', 'ATS3v', 'ATS6p', 'ATS0p', 'BIC1', 'GATS7s', 'McGowan_Volume', 'GATS4s', 'ATS7p', 'ATS4v', 'IC0', 'ATS8p', 'GATS5s', 'ATS5v', 'MDEC-12', 'ATS0v', 'GATS8s', 'ATS6v', 'ZMIC0', 'TIC2', 'ATS7v', 'ATS8v', 'EE_Dt', 'CrippenLogP', 'CrippenMR', 'CIC2', 'ATSC0p', 'ZMIC1', 'AATS5e', 'XLogP', 'AATS1e', 'LipinskiFailures', 'SpDiam_Dt', 'SpMax_Dt', 'SIC2', 'AATS4e', 'SpAD_Dt', 'Kier1', 'nHeavyAtom', 'AMW', 'AATS1i', 'Mpe', 'Mare', 'MW', 'WTPT-1']\n"
     ]
    }
   ],
   "source": [
    "name_label_pandasCorr = pxs[:100].index.tolist()\n",
    "print(name_label_pandasCorr)"
   ]
  },
  {
   "cell_type": "code",
   "execution_count": 19,
   "metadata": {},
   "outputs": [
    {
     "output_type": "execute_result",
     "data": {
      "text/plain": [
       "      Label       AMR  nBondsS2      CIC0  nH  nBondsS3    GATS3s      SIC0  \\\n",
       "4782      0  152.0223     101.0  5.390269  58      43.0  0.000000  0.185109   \n",
       "3469      1   63.3585      41.0  3.903831  21      20.0  0.932455  0.324756   \n",
       "2579      1   39.8206      27.0  3.036062  15      12.0  0.879281  0.368455   \n",
       "1086      1   51.5910      38.0  3.611194  22      16.0  0.805772  0.316761   \n",
       "3082      1   62.3639      39.0  4.048208  23      16.0  0.732657  0.279000   \n",
       "...     ...       ...       ...       ...  ..       ...       ...       ...   \n",
       "5191      0  111.5027      83.0  5.067454  53      30.0  0.000000  0.219413   \n",
       "5226      0  132.9472      81.0  5.067039  50      31.0  0.000000  0.223271   \n",
       "5390      0  137.8655      90.0  5.444964  56      34.0  0.000000  0.173121   \n",
       "860       1   54.6634      44.0  4.348705  27      17.0  0.697435  0.247806   \n",
       "7270      0  132.2402      83.0  5.185677  48      35.0  0.000000  0.182051   \n",
       "\n",
       "           ATSC0v        ATS3e  ...    AATS4e      SpAD_Dt      Kier1  \\\n",
       "4782  4898.147300  2380.555660  ...  7.396171  1212.463772  31.425620   \n",
       "3469  2446.324593  1068.136260  ...  8.166362   751.787623  28.569444   \n",
       "2579  1493.394534   535.803010  ...  7.913964   114.813967  11.076923   \n",
       "1086  2007.274461   770.433398  ...  7.701788   184.330070  15.058824   \n",
       "3082  2396.871717   962.264824  ...  7.768986   465.373095  20.727041   \n",
       "...           ...          ...  ...       ...          ...        ...   \n",
       "5191  4928.107842  1698.475968  ...  7.277163   908.378997  35.027027   \n",
       "5226  4885.600963  1773.760902  ...  7.285866   956.403067  34.865185   \n",
       "5390  5044.863992  2104.717868  ...  7.228250   966.003256  32.904273   \n",
       "860   2824.474576  1114.877172  ...  7.405682   517.464021  22.680000   \n",
       "7270  4188.892118  2039.365916  ...  7.218306  1236.254260  24.683711   \n",
       "\n",
       "      nHeavyAtom       AMW      AATS1i       Mpe      Mare          MW  \\\n",
       "4782          40  5.739014  144.736506  0.940136  0.953469  562.423340   \n",
       "3469          34  8.693571  151.208526  1.023886  1.042036  478.146404   \n",
       "2579          13  6.647056  150.406827  0.970448  0.987857  186.117573   \n",
       "1086          17  6.235267  151.700706  0.959075  0.975590  243.175422   \n",
       "3082          26  7.207861  149.405870  0.969428  0.983265  353.185175   \n",
       "...          ...       ...         ...       ...       ...         ...   \n",
       "5191          37  7.258562  145.727595  0.939608  0.950844  653.270608   \n",
       "5226          42  6.634226  148.120159  0.941986  0.953478  610.348752   \n",
       "5390          40  5.712739  143.083612  0.930842  0.942500  548.422946   \n",
       "860           28  6.967587  146.496135  0.963494  0.976800  383.217304   \n",
       "7270          33  5.634078  143.353457  0.931590  0.943704  456.360345   \n",
       "\n",
       "         WTPT-1  \n",
       "4782  80.511498  \n",
       "3469  68.015603  \n",
       "2579  24.986486  \n",
       "1086  32.973525  \n",
       "3082  52.681024  \n",
       "...         ...  \n",
       "5191  72.749585  \n",
       "5226  84.761904  \n",
       "5390  80.277150  \n",
       "860   56.587408  \n",
       "7270  67.252148  \n",
       "\n",
       "[5181 rows x 100 columns]"
      ],
      "text/html": "<div>\n<style scoped>\n    .dataframe tbody tr th:only-of-type {\n        vertical-align: middle;\n    }\n\n    .dataframe tbody tr th {\n        vertical-align: top;\n    }\n\n    .dataframe thead th {\n        text-align: right;\n    }\n</style>\n<table border=\"1\" class=\"dataframe\">\n  <thead>\n    <tr style=\"text-align: right;\">\n      <th></th>\n      <th>Label</th>\n      <th>AMR</th>\n      <th>nBondsS2</th>\n      <th>CIC0</th>\n      <th>nH</th>\n      <th>nBondsS3</th>\n      <th>GATS3s</th>\n      <th>SIC0</th>\n      <th>ATSC0v</th>\n      <th>ATS3e</th>\n      <th>...</th>\n      <th>AATS4e</th>\n      <th>SpAD_Dt</th>\n      <th>Kier1</th>\n      <th>nHeavyAtom</th>\n      <th>AMW</th>\n      <th>AATS1i</th>\n      <th>Mpe</th>\n      <th>Mare</th>\n      <th>MW</th>\n      <th>WTPT-1</th>\n    </tr>\n  </thead>\n  <tbody>\n    <tr>\n      <th>4782</th>\n      <td>0</td>\n      <td>152.0223</td>\n      <td>101.0</td>\n      <td>5.390269</td>\n      <td>58</td>\n      <td>43.0</td>\n      <td>0.000000</td>\n      <td>0.185109</td>\n      <td>4898.147300</td>\n      <td>2380.555660</td>\n      <td>...</td>\n      <td>7.396171</td>\n      <td>1212.463772</td>\n      <td>31.425620</td>\n      <td>40</td>\n      <td>5.739014</td>\n      <td>144.736506</td>\n      <td>0.940136</td>\n      <td>0.953469</td>\n      <td>562.423340</td>\n      <td>80.511498</td>\n    </tr>\n    <tr>\n      <th>3469</th>\n      <td>1</td>\n      <td>63.3585</td>\n      <td>41.0</td>\n      <td>3.903831</td>\n      <td>21</td>\n      <td>20.0</td>\n      <td>0.932455</td>\n      <td>0.324756</td>\n      <td>2446.324593</td>\n      <td>1068.136260</td>\n      <td>...</td>\n      <td>8.166362</td>\n      <td>751.787623</td>\n      <td>28.569444</td>\n      <td>34</td>\n      <td>8.693571</td>\n      <td>151.208526</td>\n      <td>1.023886</td>\n      <td>1.042036</td>\n      <td>478.146404</td>\n      <td>68.015603</td>\n    </tr>\n    <tr>\n      <th>2579</th>\n      <td>1</td>\n      <td>39.8206</td>\n      <td>27.0</td>\n      <td>3.036062</td>\n      <td>15</td>\n      <td>12.0</td>\n      <td>0.879281</td>\n      <td>0.368455</td>\n      <td>1493.394534</td>\n      <td>535.803010</td>\n      <td>...</td>\n      <td>7.913964</td>\n      <td>114.813967</td>\n      <td>11.076923</td>\n      <td>13</td>\n      <td>6.647056</td>\n      <td>150.406827</td>\n      <td>0.970448</td>\n      <td>0.987857</td>\n      <td>186.117573</td>\n      <td>24.986486</td>\n    </tr>\n    <tr>\n      <th>1086</th>\n      <td>1</td>\n      <td>51.5910</td>\n      <td>38.0</td>\n      <td>3.611194</td>\n      <td>22</td>\n      <td>16.0</td>\n      <td>0.805772</td>\n      <td>0.316761</td>\n      <td>2007.274461</td>\n      <td>770.433398</td>\n      <td>...</td>\n      <td>7.701788</td>\n      <td>184.330070</td>\n      <td>15.058824</td>\n      <td>17</td>\n      <td>6.235267</td>\n      <td>151.700706</td>\n      <td>0.959075</td>\n      <td>0.975590</td>\n      <td>243.175422</td>\n      <td>32.973525</td>\n    </tr>\n    <tr>\n      <th>3082</th>\n      <td>1</td>\n      <td>62.3639</td>\n      <td>39.0</td>\n      <td>4.048208</td>\n      <td>23</td>\n      <td>16.0</td>\n      <td>0.732657</td>\n      <td>0.279000</td>\n      <td>2396.871717</td>\n      <td>962.264824</td>\n      <td>...</td>\n      <td>7.768986</td>\n      <td>465.373095</td>\n      <td>20.727041</td>\n      <td>26</td>\n      <td>7.207861</td>\n      <td>149.405870</td>\n      <td>0.969428</td>\n      <td>0.983265</td>\n      <td>353.185175</td>\n      <td>52.681024</td>\n    </tr>\n    <tr>\n      <th>...</th>\n      <td>...</td>\n      <td>...</td>\n      <td>...</td>\n      <td>...</td>\n      <td>...</td>\n      <td>...</td>\n      <td>...</td>\n      <td>...</td>\n      <td>...</td>\n      <td>...</td>\n      <td>...</td>\n      <td>...</td>\n      <td>...</td>\n      <td>...</td>\n      <td>...</td>\n      <td>...</td>\n      <td>...</td>\n      <td>...</td>\n      <td>...</td>\n      <td>...</td>\n      <td>...</td>\n    </tr>\n    <tr>\n      <th>5191</th>\n      <td>0</td>\n      <td>111.5027</td>\n      <td>83.0</td>\n      <td>5.067454</td>\n      <td>53</td>\n      <td>30.0</td>\n      <td>0.000000</td>\n      <td>0.219413</td>\n      <td>4928.107842</td>\n      <td>1698.475968</td>\n      <td>...</td>\n      <td>7.277163</td>\n      <td>908.378997</td>\n      <td>35.027027</td>\n      <td>37</td>\n      <td>7.258562</td>\n      <td>145.727595</td>\n      <td>0.939608</td>\n      <td>0.950844</td>\n      <td>653.270608</td>\n      <td>72.749585</td>\n    </tr>\n    <tr>\n      <th>5226</th>\n      <td>0</td>\n      <td>132.9472</td>\n      <td>81.0</td>\n      <td>5.067039</td>\n      <td>50</td>\n      <td>31.0</td>\n      <td>0.000000</td>\n      <td>0.223271</td>\n      <td>4885.600963</td>\n      <td>1773.760902</td>\n      <td>...</td>\n      <td>7.285866</td>\n      <td>956.403067</td>\n      <td>34.865185</td>\n      <td>42</td>\n      <td>6.634226</td>\n      <td>148.120159</td>\n      <td>0.941986</td>\n      <td>0.953478</td>\n      <td>610.348752</td>\n      <td>84.761904</td>\n    </tr>\n    <tr>\n      <th>5390</th>\n      <td>0</td>\n      <td>137.8655</td>\n      <td>90.0</td>\n      <td>5.444964</td>\n      <td>56</td>\n      <td>34.0</td>\n      <td>0.000000</td>\n      <td>0.173121</td>\n      <td>5044.863992</td>\n      <td>2104.717868</td>\n      <td>...</td>\n      <td>7.228250</td>\n      <td>966.003256</td>\n      <td>32.904273</td>\n      <td>40</td>\n      <td>5.712739</td>\n      <td>143.083612</td>\n      <td>0.930842</td>\n      <td>0.942500</td>\n      <td>548.422946</td>\n      <td>80.277150</td>\n    </tr>\n    <tr>\n      <th>860</th>\n      <td>1</td>\n      <td>54.6634</td>\n      <td>44.0</td>\n      <td>4.348705</td>\n      <td>27</td>\n      <td>17.0</td>\n      <td>0.697435</td>\n      <td>0.247806</td>\n      <td>2824.474576</td>\n      <td>1114.877172</td>\n      <td>...</td>\n      <td>7.405682</td>\n      <td>517.464021</td>\n      <td>22.680000</td>\n      <td>28</td>\n      <td>6.967587</td>\n      <td>146.496135</td>\n      <td>0.963494</td>\n      <td>0.976800</td>\n      <td>383.217304</td>\n      <td>56.587408</td>\n    </tr>\n    <tr>\n      <th>7270</th>\n      <td>0</td>\n      <td>132.2402</td>\n      <td>83.0</td>\n      <td>5.185677</td>\n      <td>48</td>\n      <td>35.0</td>\n      <td>0.000000</td>\n      <td>0.182051</td>\n      <td>4188.892118</td>\n      <td>2039.365916</td>\n      <td>...</td>\n      <td>7.218306</td>\n      <td>1236.254260</td>\n      <td>24.683711</td>\n      <td>33</td>\n      <td>5.634078</td>\n      <td>143.353457</td>\n      <td>0.931590</td>\n      <td>0.943704</td>\n      <td>456.360345</td>\n      <td>67.252148</td>\n    </tr>\n  </tbody>\n</table>\n<p>5181 rows × 100 columns</p>\n</div>"
     },
     "metadata": {},
     "execution_count": 19
    }
   ],
   "source": [
    "data_pandas_Corr = train.loc[:,name_label_pandasCorr]\n",
    "data_pandas_Corr"
   ]
  },
  {
   "cell_type": "code",
   "execution_count": 20,
   "metadata": {},
   "outputs": [],
   "source": [
    "data_pandas_Corr.to_csv('../Data/Data Set/Data Train/Data Train Pandas Correlation.csv', index=None)"
   ]
  },
  {
   "cell_type": "code",
   "execution_count": 21,
   "metadata": {},
   "outputs": [
    {
     "output_type": "execute_result",
     "data": {
      "text/plain": [
       "array([[-2.44270000e+00,  5.96678329e+00,  5.85798000e+01, ...,\n",
       "         3.03900000e+00,  1.56000000e+02,  1.00000000e+00],\n",
       "       [-2.26580000e+00,  5.13384964e+00,  5.42512000e+01, ...,\n",
       "         2.43200000e+00,  1.12000000e+02,  1.00000000e+00],\n",
       "       [ 2.40800000e-01,  5.79846400e-02,  4.76729000e+01, ...,\n",
       "         1.89700000e+00,  9.40000000e+01,  1.00000000e+00],\n",
       "       ...,\n",
       "       [ 5.25900000e-01,  2.76570810e-01,  1.30916400e+02, ...,\n",
       "         6.91200000e+00,  2.20000000e+02,  0.00000000e+00],\n",
       "       [-5.39000000e-01,  2.90521000e-01,  1.34981600e+02, ...,\n",
       "         8.13600000e+00,  2.54000000e+02,  0.00000000e+00],\n",
       "       [ 1.86460000e+00,  3.47673316e+00,  1.32505900e+02, ...,\n",
       "         5.17900000e+00,  2.26000000e+02,  0.00000000e+00]])"
      ]
     },
     "metadata": {},
     "execution_count": 21
    }
   ],
   "source": [
    "final_data.iloc[:,1:].values"
   ]
  },
  {
   "cell_type": "code",
   "execution_count": 22,
   "metadata": {},
   "outputs": [
    {
     "output_type": "error",
     "ename": "NameError",
     "evalue": "name 'data' is not defined",
     "traceback": [
      "\u001b[1;31m---------------------------------------------------------------------------\u001b[0m",
      "\u001b[1;31mNameError\u001b[0m                                 Traceback (most recent call last)",
      "\u001b[1;32m<ipython-input-22-c5d84736ba45>\u001b[0m in \u001b[0;36m<module>\u001b[1;34m\u001b[0m\n\u001b[1;32m----> 1\u001b[1;33m \u001b[0mdata\u001b[0m\u001b[1;33m\u001b[0m\u001b[1;33m\u001b[0m\u001b[0m\n\u001b[0m",
      "\u001b[1;31mNameError\u001b[0m: name 'data' is not defined"
     ]
    }
   ],
   "source": [
    "data"
   ]
  },
  {
   "cell_type": "code",
   "execution_count": null,
   "metadata": {},
   "outputs": [],
   "source": []
  }
 ]
}