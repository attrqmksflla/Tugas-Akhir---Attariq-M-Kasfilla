{
 "metadata": {
  "language_info": {
   "codemirror_mode": {
    "name": "ipython",
    "version": 3
   },
   "file_extension": ".py",
   "mimetype": "text/x-python",
   "name": "python",
   "nbconvert_exporter": "python",
   "pygments_lexer": "ipython3",
   "version": "3.8.3-final"
  },
  "orig_nbformat": 2,
  "kernelspec": {
   "name": "python3",
   "display_name": "Python 3.8.3 64-bit (conda)",
   "metadata": {
    "interpreter": {
     "hash": "1e8706de921fadecaa93ae4a05847bdddc580f8bb7810bd0d94867135f05b223"
    }
   }
  }
 },
 "nbformat": 4,
 "nbformat_minor": 2,
 "cells": [
  {
   "cell_type": "code",
   "execution_count": 1,
   "metadata": {},
   "outputs": [
    {
     "output_type": "execute_result",
     "data": {
      "text/plain": [
       "        Unnamed: 0                                             Smiles  Label  \\\n",
       "0                0  NC(CC(=O)N1CCC[C@H]1C(=O)NCc1ccc(C(=O)O)cc1)Cc...      1   \n",
       "1                1      O=C(NCc1ccccc1)[C@@H]1CN[C@H](C(=O)N2CCCC2)C1      1   \n",
       "2                2                N[C@@H](CC(=O)N1CCSC1)Cc1ccc(F)cc1F      1   \n",
       "3                3                       N[C@H](C(=O)N1CCCC1)C1CCCCC1      1   \n",
       "4                4  N[C@H](C(=O)N1CCC(F)(F)C1)[C@H]1CC[C@H](NC(=O)...      1   \n",
       "...            ...                                                ...    ...   \n",
       "340609      336798  C=C1C(=O)O[C@@H]2C[C@@]1(C)OC[C@H]2C1CCC2C3C[C...      0   \n",
       "340612      336801   CCCCCCCCCCCCCCCC(=O)OCC(CO)OC(=O)CCCCCCCCCCCCCCC      0   \n",
       "340618      336807  CC(=O)O[C@H]1CC[C@@]2(C)[C@@H](CC[C@@H]3[C@@H]...      0   \n",
       "340680      336869  C=C(C)[C@@]12C[C@@H](C)C34OC(Cc5ccccc5)(OC1[C@...      0   \n",
       "340739      336928  CC(=O)OCC(=O)[C@@]1(OC(=O)c2ccc(Br)o2)C(C)CC2C...      0   \n",
       "\n",
       "         ALogP     ALogp2       AMR        apol  TopoPSA  Cluster  \n",
       "0      -2.4427   5.966783   58.5798   64.881618   112.73       16  \n",
       "1      -2.2658   5.133850   54.2512   50.160239    61.44       14  \n",
       "2       0.2408   0.057985   47.6729   40.564688    71.63       10  \n",
       "3      -2.7535   7.581762   50.6752   38.791446    46.33       14  \n",
       "4      -1.4117   1.992897   62.1044   55.908239    75.43       12  \n",
       "...        ...        ...       ...         ...      ...      ...  \n",
       "340609  0.6494   0.421720  121.5494   78.096548    85.36        7  \n",
       "340612 -7.9855  63.768210  124.5677  110.951924    72.83        7  \n",
       "340618  0.5259   0.276571  130.9164   91.378064    71.06        7  \n",
       "340680 -0.5390   0.290521  134.9816  105.833650    91.29        7  \n",
       "340739  1.8646   3.476733  132.5059   84.734583    99.88        7  \n",
       "\n",
       "[7402 rows x 9 columns]"
      ],
      "text/html": "<div>\n<style scoped>\n    .dataframe tbody tr th:only-of-type {\n        vertical-align: middle;\n    }\n\n    .dataframe tbody tr th {\n        vertical-align: top;\n    }\n\n    .dataframe thead th {\n        text-align: right;\n    }\n</style>\n<table border=\"1\" class=\"dataframe\">\n  <thead>\n    <tr style=\"text-align: right;\">\n      <th></th>\n      <th>Unnamed: 0</th>\n      <th>Smiles</th>\n      <th>Label</th>\n      <th>ALogP</th>\n      <th>ALogp2</th>\n      <th>AMR</th>\n      <th>apol</th>\n      <th>TopoPSA</th>\n      <th>Cluster</th>\n    </tr>\n  </thead>\n  <tbody>\n    <tr>\n      <th>0</th>\n      <td>0</td>\n      <td>NC(CC(=O)N1CCC[C@H]1C(=O)NCc1ccc(C(=O)O)cc1)Cc...</td>\n      <td>1</td>\n      <td>-2.4427</td>\n      <td>5.966783</td>\n      <td>58.5798</td>\n      <td>64.881618</td>\n      <td>112.73</td>\n      <td>16</td>\n    </tr>\n    <tr>\n      <th>1</th>\n      <td>1</td>\n      <td>O=C(NCc1ccccc1)[C@@H]1CN[C@H](C(=O)N2CCCC2)C1</td>\n      <td>1</td>\n      <td>-2.2658</td>\n      <td>5.133850</td>\n      <td>54.2512</td>\n      <td>50.160239</td>\n      <td>61.44</td>\n      <td>14</td>\n    </tr>\n    <tr>\n      <th>2</th>\n      <td>2</td>\n      <td>N[C@@H](CC(=O)N1CCSC1)Cc1ccc(F)cc1F</td>\n      <td>1</td>\n      <td>0.2408</td>\n      <td>0.057985</td>\n      <td>47.6729</td>\n      <td>40.564688</td>\n      <td>71.63</td>\n      <td>10</td>\n    </tr>\n    <tr>\n      <th>3</th>\n      <td>3</td>\n      <td>N[C@H](C(=O)N1CCCC1)C1CCCCC1</td>\n      <td>1</td>\n      <td>-2.7535</td>\n      <td>7.581762</td>\n      <td>50.6752</td>\n      <td>38.791446</td>\n      <td>46.33</td>\n      <td>14</td>\n    </tr>\n    <tr>\n      <th>4</th>\n      <td>4</td>\n      <td>N[C@H](C(=O)N1CCC(F)(F)C1)[C@H]1CC[C@H](NC(=O)...</td>\n      <td>1</td>\n      <td>-1.4117</td>\n      <td>1.992897</td>\n      <td>62.1044</td>\n      <td>55.908239</td>\n      <td>75.43</td>\n      <td>12</td>\n    </tr>\n    <tr>\n      <th>...</th>\n      <td>...</td>\n      <td>...</td>\n      <td>...</td>\n      <td>...</td>\n      <td>...</td>\n      <td>...</td>\n      <td>...</td>\n      <td>...</td>\n      <td>...</td>\n    </tr>\n    <tr>\n      <th>340609</th>\n      <td>336798</td>\n      <td>C=C1C(=O)O[C@@H]2C[C@@]1(C)OC[C@H]2C1CCC2C3C[C...</td>\n      <td>0</td>\n      <td>0.6494</td>\n      <td>0.421720</td>\n      <td>121.5494</td>\n      <td>78.096548</td>\n      <td>85.36</td>\n      <td>7</td>\n    </tr>\n    <tr>\n      <th>340612</th>\n      <td>336801</td>\n      <td>CCCCCCCCCCCCCCCC(=O)OCC(CO)OC(=O)CCCCCCCCCCCCCCC</td>\n      <td>0</td>\n      <td>-7.9855</td>\n      <td>63.768210</td>\n      <td>124.5677</td>\n      <td>110.951924</td>\n      <td>72.83</td>\n      <td>7</td>\n    </tr>\n    <tr>\n      <th>340618</th>\n      <td>336807</td>\n      <td>CC(=O)O[C@H]1CC[C@@]2(C)[C@@H](CC[C@@H]3[C@@H]...</td>\n      <td>0</td>\n      <td>0.5259</td>\n      <td>0.276571</td>\n      <td>130.9164</td>\n      <td>91.378064</td>\n      <td>71.06</td>\n      <td>7</td>\n    </tr>\n    <tr>\n      <th>340680</th>\n      <td>336869</td>\n      <td>C=C(C)[C@@]12C[C@@H](C)C34OC(Cc5ccccc5)(OC1[C@...</td>\n      <td>0</td>\n      <td>-0.5390</td>\n      <td>0.290521</td>\n      <td>134.9816</td>\n      <td>105.833650</td>\n      <td>91.29</td>\n      <td>7</td>\n    </tr>\n    <tr>\n      <th>340739</th>\n      <td>336928</td>\n      <td>CC(=O)OCC(=O)[C@@]1(OC(=O)c2ccc(Br)o2)C(C)CC2C...</td>\n      <td>0</td>\n      <td>1.8646</td>\n      <td>3.476733</td>\n      <td>132.5059</td>\n      <td>84.734583</td>\n      <td>99.88</td>\n      <td>7</td>\n    </tr>\n  </tbody>\n</table>\n<p>7402 rows × 9 columns</p>\n</div>"
     },
     "metadata": {},
     "execution_count": 1
    }
   ],
   "source": [
    "# Import semua library\n",
    "import pandas as pd\n",
    "import numpy as np\n",
    "\n",
    "data = pd.read_csv('../Data/Data Minggu ke-3.csv') # CSV DPP-IV\n",
    "condition = (data['Label'] != -1)\n",
    "data = data[condition]\n",
    "data"
   ]
  },
  {
   "cell_type": "code",
   "execution_count": 2,
   "metadata": {},
   "outputs": [
    {
     "output_type": "execute_result",
     "data": {
      "text/plain": [
       "                                                 Smiles  Label   ALogP  \\\n",
       "0     NC(CC(=O)N1CCC[C@H]1C(=O)NCc1ccc(C(=O)O)cc1)Cc...      1 -2.4427   \n",
       "1         O=C(NCc1ccccc1)[C@@H]1CN[C@H](C(=O)N2CCCC2)C1      1 -2.2658   \n",
       "2                   N[C@@H](CC(=O)N1CCSC1)Cc1ccc(F)cc1F      1  0.2408   \n",
       "3                          N[C@H](C(=O)N1CCCC1)C1CCCCC1      1 -2.7535   \n",
       "4     N[C@H](C(=O)N1CCC(F)(F)C1)[C@H]1CC[C@H](NC(=O)...      1 -1.4117   \n",
       "...                                                 ...    ...     ...   \n",
       "7397  C=C1C(=O)O[C@@H]2C[C@@]1(C)OC[C@H]2C1CCC2C3C[C...      0  0.6494   \n",
       "7398   CCCCCCCCCCCCCCCC(=O)OCC(CO)OC(=O)CCCCCCCCCCCCCCC      0 -7.9855   \n",
       "7399  CC(=O)O[C@H]1CC[C@@]2(C)[C@@H](CC[C@@H]3[C@@H]...      0  0.5259   \n",
       "7400  C=C(C)[C@@]12C[C@@H](C)C34OC(Cc5ccccc5)(OC1[C@...      0 -0.5390   \n",
       "7401  CC(=O)OCC(=O)[C@@]1(OC(=O)c2ccc(Br)o2)C(C)CC2C...      0  1.8646   \n",
       "\n",
       "         ALogp2       AMR        apol  TopoPSA  Cluster  \n",
       "0      5.966783   58.5798   64.881618   112.73       16  \n",
       "1      5.133850   54.2512   50.160239    61.44       14  \n",
       "2      0.057985   47.6729   40.564688    71.63       10  \n",
       "3      7.581762   50.6752   38.791446    46.33       14  \n",
       "4      1.992897   62.1044   55.908239    75.43       12  \n",
       "...         ...       ...         ...      ...      ...  \n",
       "7397   0.421720  121.5494   78.096548    85.36        7  \n",
       "7398  63.768210  124.5677  110.951924    72.83        7  \n",
       "7399   0.276571  130.9164   91.378064    71.06        7  \n",
       "7400   0.290521  134.9816  105.833650    91.29        7  \n",
       "7401   3.476733  132.5059   84.734583    99.88        7  \n",
       "\n",
       "[7402 rows x 8 columns]"
      ],
      "text/html": "<div>\n<style scoped>\n    .dataframe tbody tr th:only-of-type {\n        vertical-align: middle;\n    }\n\n    .dataframe tbody tr th {\n        vertical-align: top;\n    }\n\n    .dataframe thead th {\n        text-align: right;\n    }\n</style>\n<table border=\"1\" class=\"dataframe\">\n  <thead>\n    <tr style=\"text-align: right;\">\n      <th></th>\n      <th>Smiles</th>\n      <th>Label</th>\n      <th>ALogP</th>\n      <th>ALogp2</th>\n      <th>AMR</th>\n      <th>apol</th>\n      <th>TopoPSA</th>\n      <th>Cluster</th>\n    </tr>\n  </thead>\n  <tbody>\n    <tr>\n      <th>0</th>\n      <td>NC(CC(=O)N1CCC[C@H]1C(=O)NCc1ccc(C(=O)O)cc1)Cc...</td>\n      <td>1</td>\n      <td>-2.4427</td>\n      <td>5.966783</td>\n      <td>58.5798</td>\n      <td>64.881618</td>\n      <td>112.73</td>\n      <td>16</td>\n    </tr>\n    <tr>\n      <th>1</th>\n      <td>O=C(NCc1ccccc1)[C@@H]1CN[C@H](C(=O)N2CCCC2)C1</td>\n      <td>1</td>\n      <td>-2.2658</td>\n      <td>5.133850</td>\n      <td>54.2512</td>\n      <td>50.160239</td>\n      <td>61.44</td>\n      <td>14</td>\n    </tr>\n    <tr>\n      <th>2</th>\n      <td>N[C@@H](CC(=O)N1CCSC1)Cc1ccc(F)cc1F</td>\n      <td>1</td>\n      <td>0.2408</td>\n      <td>0.057985</td>\n      <td>47.6729</td>\n      <td>40.564688</td>\n      <td>71.63</td>\n      <td>10</td>\n    </tr>\n    <tr>\n      <th>3</th>\n      <td>N[C@H](C(=O)N1CCCC1)C1CCCCC1</td>\n      <td>1</td>\n      <td>-2.7535</td>\n      <td>7.581762</td>\n      <td>50.6752</td>\n      <td>38.791446</td>\n      <td>46.33</td>\n      <td>14</td>\n    </tr>\n    <tr>\n      <th>4</th>\n      <td>N[C@H](C(=O)N1CCC(F)(F)C1)[C@H]1CC[C@H](NC(=O)...</td>\n      <td>1</td>\n      <td>-1.4117</td>\n      <td>1.992897</td>\n      <td>62.1044</td>\n      <td>55.908239</td>\n      <td>75.43</td>\n      <td>12</td>\n    </tr>\n    <tr>\n      <th>...</th>\n      <td>...</td>\n      <td>...</td>\n      <td>...</td>\n      <td>...</td>\n      <td>...</td>\n      <td>...</td>\n      <td>...</td>\n      <td>...</td>\n    </tr>\n    <tr>\n      <th>7397</th>\n      <td>C=C1C(=O)O[C@@H]2C[C@@]1(C)OC[C@H]2C1CCC2C3C[C...</td>\n      <td>0</td>\n      <td>0.6494</td>\n      <td>0.421720</td>\n      <td>121.5494</td>\n      <td>78.096548</td>\n      <td>85.36</td>\n      <td>7</td>\n    </tr>\n    <tr>\n      <th>7398</th>\n      <td>CCCCCCCCCCCCCCCC(=O)OCC(CO)OC(=O)CCCCCCCCCCCCCCC</td>\n      <td>0</td>\n      <td>-7.9855</td>\n      <td>63.768210</td>\n      <td>124.5677</td>\n      <td>110.951924</td>\n      <td>72.83</td>\n      <td>7</td>\n    </tr>\n    <tr>\n      <th>7399</th>\n      <td>CC(=O)O[C@H]1CC[C@@]2(C)[C@@H](CC[C@@H]3[C@@H]...</td>\n      <td>0</td>\n      <td>0.5259</td>\n      <td>0.276571</td>\n      <td>130.9164</td>\n      <td>91.378064</td>\n      <td>71.06</td>\n      <td>7</td>\n    </tr>\n    <tr>\n      <th>7400</th>\n      <td>C=C(C)[C@@]12C[C@@H](C)C34OC(Cc5ccccc5)(OC1[C@...</td>\n      <td>0</td>\n      <td>-0.5390</td>\n      <td>0.290521</td>\n      <td>134.9816</td>\n      <td>105.833650</td>\n      <td>91.29</td>\n      <td>7</td>\n    </tr>\n    <tr>\n      <th>7401</th>\n      <td>CC(=O)OCC(=O)[C@@]1(OC(=O)c2ccc(Br)o2)C(C)CC2C...</td>\n      <td>0</td>\n      <td>1.8646</td>\n      <td>3.476733</td>\n      <td>132.5059</td>\n      <td>84.734583</td>\n      <td>99.88</td>\n      <td>7</td>\n    </tr>\n  </tbody>\n</table>\n<p>7402 rows × 8 columns</p>\n</div>"
     },
     "metadata": {},
     "execution_count": 2
    }
   ],
   "source": [
    "# reset index & menghapus / drop column Unnamed: 0\n",
    "data.drop(columns=['Unnamed: 0'], inplace=True)\n",
    "readyToExport = data.reset_index(drop=True)\n",
    "readyToExport.dropna(inplace=True)\n",
    "readyToExport"
   ]
  },
  {
   "cell_type": "code",
   "execution_count": 3,
   "metadata": {},
   "outputs": [
    {
     "output_type": "execute_result",
     "data": {
      "text/plain": [
       "                                                 Smiles  Label   ALogP  \\\n",
       "0     NC(CC(=O)N1CCC[C@H]1C(=O)NCc1ccc(C(=O)O)cc1)Cc...      1 -2.4427   \n",
       "1         O=C(NCc1ccccc1)[C@@H]1CN[C@H](C(=O)N2CCCC2)C1      1 -2.2658   \n",
       "2                   N[C@@H](CC(=O)N1CCSC1)Cc1ccc(F)cc1F      1  0.2408   \n",
       "3                          N[C@H](C(=O)N1CCCC1)C1CCCCC1      1 -2.7535   \n",
       "4     N[C@H](C(=O)N1CCC(F)(F)C1)[C@H]1CC[C@H](NC(=O)...      1 -1.4117   \n",
       "...                                                 ...    ...     ...   \n",
       "7397  C=C1C(=O)O[C@@H]2C[C@@]1(C)OC[C@H]2C1CCC2C3C[C...      0  0.6494   \n",
       "7398   CCCCCCCCCCCCCCCC(=O)OCC(CO)OC(=O)CCCCCCCCCCCCCCC      0 -7.9855   \n",
       "7399  CC(=O)O[C@H]1CC[C@@]2(C)[C@@H](CC[C@@H]3[C@@H]...      0  0.5259   \n",
       "7400  C=C(C)[C@@]12C[C@@H](C)C34OC(Cc5ccccc5)(OC1[C@...      0 -0.5390   \n",
       "7401  CC(=O)OCC(=O)[C@@]1(OC(=O)c2ccc(Br)o2)C(C)CC2C...      0  1.8646   \n",
       "\n",
       "         ALogp2       AMR        apol  TopoPSA  Cluster  \n",
       "0      5.966783   58.5798   64.881618   112.73       16  \n",
       "1      5.133850   54.2512   50.160239    61.44       14  \n",
       "2      0.057985   47.6729   40.564688    71.63       10  \n",
       "3      7.581762   50.6752   38.791446    46.33       14  \n",
       "4      1.992897   62.1044   55.908239    75.43       12  \n",
       "...         ...       ...         ...      ...      ...  \n",
       "7397   0.421720  121.5494   78.096548    85.36        7  \n",
       "7398  63.768210  124.5677  110.951924    72.83        7  \n",
       "7399   0.276571  130.9164   91.378064    71.06        7  \n",
       "7400   0.290521  134.9816  105.833650    91.29        7  \n",
       "7401   3.476733  132.5059   84.734583    99.88        7  \n",
       "\n",
       "[7402 rows x 8 columns]"
      ],
      "text/html": "<div>\n<style scoped>\n    .dataframe tbody tr th:only-of-type {\n        vertical-align: middle;\n    }\n\n    .dataframe tbody tr th {\n        vertical-align: top;\n    }\n\n    .dataframe thead th {\n        text-align: right;\n    }\n</style>\n<table border=\"1\" class=\"dataframe\">\n  <thead>\n    <tr style=\"text-align: right;\">\n      <th></th>\n      <th>Smiles</th>\n      <th>Label</th>\n      <th>ALogP</th>\n      <th>ALogp2</th>\n      <th>AMR</th>\n      <th>apol</th>\n      <th>TopoPSA</th>\n      <th>Cluster</th>\n    </tr>\n  </thead>\n  <tbody>\n    <tr>\n      <th>0</th>\n      <td>NC(CC(=O)N1CCC[C@H]1C(=O)NCc1ccc(C(=O)O)cc1)Cc...</td>\n      <td>1</td>\n      <td>-2.4427</td>\n      <td>5.966783</td>\n      <td>58.5798</td>\n      <td>64.881618</td>\n      <td>112.73</td>\n      <td>16</td>\n    </tr>\n    <tr>\n      <th>1</th>\n      <td>O=C(NCc1ccccc1)[C@@H]1CN[C@H](C(=O)N2CCCC2)C1</td>\n      <td>1</td>\n      <td>-2.2658</td>\n      <td>5.133850</td>\n      <td>54.2512</td>\n      <td>50.160239</td>\n      <td>61.44</td>\n      <td>14</td>\n    </tr>\n    <tr>\n      <th>2</th>\n      <td>N[C@@H](CC(=O)N1CCSC1)Cc1ccc(F)cc1F</td>\n      <td>1</td>\n      <td>0.2408</td>\n      <td>0.057985</td>\n      <td>47.6729</td>\n      <td>40.564688</td>\n      <td>71.63</td>\n      <td>10</td>\n    </tr>\n    <tr>\n      <th>3</th>\n      <td>N[C@H](C(=O)N1CCCC1)C1CCCCC1</td>\n      <td>1</td>\n      <td>-2.7535</td>\n      <td>7.581762</td>\n      <td>50.6752</td>\n      <td>38.791446</td>\n      <td>46.33</td>\n      <td>14</td>\n    </tr>\n    <tr>\n      <th>4</th>\n      <td>N[C@H](C(=O)N1CCC(F)(F)C1)[C@H]1CC[C@H](NC(=O)...</td>\n      <td>1</td>\n      <td>-1.4117</td>\n      <td>1.992897</td>\n      <td>62.1044</td>\n      <td>55.908239</td>\n      <td>75.43</td>\n      <td>12</td>\n    </tr>\n    <tr>\n      <th>...</th>\n      <td>...</td>\n      <td>...</td>\n      <td>...</td>\n      <td>...</td>\n      <td>...</td>\n      <td>...</td>\n      <td>...</td>\n      <td>...</td>\n    </tr>\n    <tr>\n      <th>7397</th>\n      <td>C=C1C(=O)O[C@@H]2C[C@@]1(C)OC[C@H]2C1CCC2C3C[C...</td>\n      <td>0</td>\n      <td>0.6494</td>\n      <td>0.421720</td>\n      <td>121.5494</td>\n      <td>78.096548</td>\n      <td>85.36</td>\n      <td>7</td>\n    </tr>\n    <tr>\n      <th>7398</th>\n      <td>CCCCCCCCCCCCCCCC(=O)OCC(CO)OC(=O)CCCCCCCCCCCCCCC</td>\n      <td>0</td>\n      <td>-7.9855</td>\n      <td>63.768210</td>\n      <td>124.5677</td>\n      <td>110.951924</td>\n      <td>72.83</td>\n      <td>7</td>\n    </tr>\n    <tr>\n      <th>7399</th>\n      <td>CC(=O)O[C@H]1CC[C@@]2(C)[C@@H](CC[C@@H]3[C@@H]...</td>\n      <td>0</td>\n      <td>0.5259</td>\n      <td>0.276571</td>\n      <td>130.9164</td>\n      <td>91.378064</td>\n      <td>71.06</td>\n      <td>7</td>\n    </tr>\n    <tr>\n      <th>7400</th>\n      <td>C=C(C)[C@@]12C[C@@H](C)C34OC(Cc5ccccc5)(OC1[C@...</td>\n      <td>0</td>\n      <td>-0.5390</td>\n      <td>0.290521</td>\n      <td>134.9816</td>\n      <td>105.833650</td>\n      <td>91.29</td>\n      <td>7</td>\n    </tr>\n    <tr>\n      <th>7401</th>\n      <td>CC(=O)OCC(=O)[C@@]1(OC(=O)c2ccc(Br)o2)C(C)CC2C...</td>\n      <td>0</td>\n      <td>1.8646</td>\n      <td>3.476733</td>\n      <td>132.5059</td>\n      <td>84.734583</td>\n      <td>99.88</td>\n      <td>7</td>\n    </tr>\n  </tbody>\n</table>\n<p>7402 rows × 8 columns</p>\n</div>"
     },
     "metadata": {},
     "execution_count": 3
    }
   ],
   "source": [
    "# Export to csv\n",
    "readyToExport.to_csv('../Data/Final Data Minggu ke-3.csv')\n",
    "readyToExport"
   ]
  },
  {
   "cell_type": "code",
   "execution_count": 4,
   "metadata": {},
   "outputs": [
    {
     "output_type": "stream",
     "name": "stdout",
     "text": [
      "3701\n"
     ]
    }
   ],
   "source": [
    "# Men-export smiles to txt menjadi 2 bagian \n",
    "# export smiles to txt - part 1\n",
    "y1 = int(len(readyToExport) / 2)\n",
    "f = open ('../Data/Part 1 - Padel final data minggu ke -3/part 1 - smiles final data minggu ke-3.txt', 'w+')\n",
    "for x in range(y1):\n",
    "    f.write(str(readyToExport.Smiles[x]))\n",
    "    f.write('\\n')\n",
    "\n",
    "f.close()\n",
    "\n",
    "print(y1)"
   ]
  },
  {
   "cell_type": "code",
   "execution_count": 5,
   "metadata": {},
   "outputs": [
    {
     "output_type": "stream",
     "name": "stdout",
     "text": [
      "3701\n"
     ]
    }
   ],
   "source": [
    "# export smiles to txt - part 2\n",
    "f = open ('../Data/Part 2 - Padel final data minggu ke -3/part 2 - smiles final data minggu ke-3.txt', 'w+')\n",
    "for x in range(y1):\n",
    "    f.write(str(readyToExport.Smiles[x + y1]))\n",
    "    f.write('\\n')\n",
    "\n",
    "f.close()\n",
    "\n",
    "print(y1)"
   ]
  },
  {
   "cell_type": "code",
   "execution_count": null,
   "metadata": {},
   "outputs": [],
   "source": []
  }
 ]
}